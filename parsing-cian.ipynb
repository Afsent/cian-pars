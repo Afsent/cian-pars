{
 "cells": [
  {
   "cell_type": "code",
   "execution_count": 26,
   "metadata": {},
   "outputs": [],
   "source": [
    "from selenium import webdriver\n",
    "from bs4 import BeautifulSoup\n",
    "import os.path"
   ]
  },
  {
   "cell_type": "code",
   "execution_count": 27,
   "metadata": {},
   "outputs": [],
   "source": [
    "driver = webdriver.Chrome('C:/Users/pro10/Downloads/chromedriver_win32/chromedriver.exe')"
   ]
  },
  {
   "cell_type": "code",
   "execution_count": 28,
   "metadata": {},
   "outputs": [],
   "source": [
    "def get_soup(url):\n",
    "    driver.get(url)\n",
    "    return BeautifulSoup(driver.page_source)"
   ]
  },
  {
   "cell_type": "code",
   "execution_count": 57,
   "metadata": {},
   "outputs": [],
   "source": [
    "def get_hrefs(soup):\n",
    "    divs = soup.find_all('div', class_='undefined c6e8ba5398--main-info--oWcMk')\n",
    "    ads = set()\n",
    "    for item in divs:\n",
    "        href = item.find('a', class_='c6e8ba5398--header--1fV2A').get('href')\n",
    "        ads.add(href)\n",
    "        with open('url.txt', 'a') as f: # открывает файл и дописывает в него данные\n",
    "            for i in ads:\n",
    "                f.write(str(i) + '\\n')"
   ]
  },
  {
   "cell_type": "code",
   "execution_count": 58,
   "metadata": {},
   "outputs": [],
   "source": [
    "url = '''\n",
    "https://www.cian.ru/cat.php?deal_type=sale&engine_version=2&foot_min=30&metro%5B0%5D=1&offer_type=flat&p=1&room1=1&room2=1\n",
    "'''\n",
    "base_url = 'https://www.cian.ru/cat.php?deal_type=sale&engine_version=2&foot_min=30&'\n",
    "metro_part = 'metro%5B0%5D='\n",
    "type_part = '&offer_type=flat&'\n",
    "page_part = 'p='\n",
    "query_part = '&room1=1&room2=1'"
   ]
  },
  {
   "cell_type": "code",
   "execution_count": 59,
   "metadata": {},
   "outputs": [],
   "source": [
    "for id_metro in range(1,159):\n",
    "    for page in range(1,5):\n",
    "        url_gen = base_url + metro_part + str(id_metro) + type_part + page_part + str(page) + query_part\n",
    "        soup = get_soup(url_gen)\n",
    "        get_hrefs(soup)"
   ]
  },
  {
   "cell_type": "code",
   "execution_count": 60,
   "metadata": {},
   "outputs": [],
   "source": [
    "with open('url.txt', 'r') as f:\n",
    "    for line in f:\n",
    "        filename = line.strip().split('/')[-2]\n",
    "        if os.path.exists(f'pages/{filename}.html'):\n",
    "            continue\n",
    "        else:\n",
    "            html = get_soup(line.strip())\n",
    "            with open(f'pages/{filename}.html', 'w', encoding='utf-8') as file:\n",
    "                file.write(str(html))"
   ]
  },
  {
   "cell_type": "code",
   "execution_count": 61,
   "metadata": {},
   "outputs": [],
   "source": [
    "import pandas as pd"
   ]
  },
  {
   "cell_type": "code",
   "execution_count": 62,
   "metadata": {
    "scrolled": true
   },
   "outputs": [],
   "source": [
    "with open('url.txt', 'r') as f:\n",
    "    df = pd.read_csv(f)"
   ]
  },
  {
   "cell_type": "code",
   "execution_count": 63,
   "metadata": {},
   "outputs": [
    {
     "data": {
      "text/plain": [
       "(62192, 1)"
      ]
     },
     "execution_count": 63,
     "metadata": {},
     "output_type": "execute_result"
    }
   ],
   "source": [
    "df.shape"
   ]
  }
 ],
 "metadata": {
  "kernelspec": {
   "display_name": "Python 3",
   "language": "python",
   "name": "python3"
  },
  "language_info": {
   "codemirror_mode": {
    "name": "ipython",
    "version": 3
   },
   "file_extension": ".py",
   "mimetype": "text/x-python",
   "name": "python",
   "nbconvert_exporter": "python",
   "pygments_lexer": "ipython3",
   "version": "3.7.3"
  }
 },
 "nbformat": 4,
 "nbformat_minor": 2
}
