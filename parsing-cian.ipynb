{
 "cells": [
  {
   "cell_type": "code",
   "execution_count": 1,
   "metadata": {},
   "outputs": [],
   "source": [
    "from selenium import webdriver\n",
    "from bs4 import BeautifulSoup"
   ]
  },
  {
   "cell_type": "code",
   "execution_count": 2,
   "metadata": {},
   "outputs": [],
   "source": [
    "driver = webdriver.Chrome('C:/Users/pro10/Downloads/chromedriver_win32/chromedriver.exe')"
   ]
  },
  {
   "cell_type": "code",
   "execution_count": 3,
   "metadata": {},
   "outputs": [],
   "source": [
    "def get_soup(url):\n",
    "    driver.get(url)\n",
    "    return BeautifulSoup(driver.page_source)"
   ]
  },
  {
   "cell_type": "code",
   "execution_count": 38,
   "metadata": {},
   "outputs": [],
   "source": [
    "def get_hrefs(soup):\n",
    "    divs = soup.find_all('div', class_='undefined c6e8ba5398--main-info--oWcMk')\n",
    "    for item in divs:\n",
    "        href = item.find('a', class_='c6e8ba5398--header--1fV2A').get('href')\n",
    "        with open('urls.txt', 'a') as f: # открывает файл и дописывает в него данные\n",
    "            f.write(href + '\\n')"
   ]
  },
  {
   "cell_type": "code",
   "execution_count": 61,
   "metadata": {},
   "outputs": [],
   "source": [
    "url = 'https://www.cian.ru/cat.php?deal_type=sale&engine_version=2&offer_type=flat&p=54&region=1&room1=1&room2=1'\n",
    "base_url = 'https://www.cian.ru/cat.php?deal_type=sale&engine_version=2&offer_type=flat&'\n",
    "page_part = 'p='\n",
    "query_part = '&region=1&room1=1&room2=1'"
   ]
  },
  {
   "cell_type": "code",
   "execution_count": 62,
   "metadata": {},
   "outputs": [],
   "source": [
    "for i in range(1,2):\n",
    "    url_gen = base_url + page_part + str(i) + query_part\n",
    "    soup = get_soup(url_gen)\n",
    "    get_hrefs(soup)"
   ]
  },
  {
   "cell_type": "code",
   "execution_count": 64,
   "metadata": {},
   "outputs": [],
   "source": [
    "with open('urls_new.txt', 'r') as f:\n",
    "    for line in f:\n",
    "        filename = line.strip().split('/')[-2]\n",
    "        html = get_soup(line.strip())\n",
    "        with open(f'pages/{filename}.html', 'w', encoding='utf-8') as file:\n",
    "            file.write(str(html))"
   ]
  }
 ],
 "metadata": {
  "kernelspec": {
   "display_name": "Python 3",
   "language": "python",
   "name": "python3"
  },
  "language_info": {
   "codemirror_mode": {
    "name": "ipython",
    "version": 3
   },
   "file_extension": ".py",
   "mimetype": "text/x-python",
   "name": "python",
   "nbconvert_exporter": "python",
   "pygments_lexer": "ipython3",
   "version": "3.7.3"
  }
 },
 "nbformat": 4,
 "nbformat_minor": 2
}
