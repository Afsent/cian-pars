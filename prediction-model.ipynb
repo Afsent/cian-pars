{
 "cells": [
  {
   "cell_type": "code",
   "execution_count": 1,
   "metadata": {},
   "outputs": [],
   "source": [
    "import pandas as pd\n",
    "import numpy as np\n",
    "from sklearn import model_selection\n",
    "import warnings\n",
    "\n",
    "warnings.filterwarnings(\"ignore\")"
   ]
  },
  {
   "cell_type": "code",
   "execution_count": 2,
   "metadata": {
    "scrolled": false
   },
   "outputs": [
    {
     "data": {
      "text/html": [
       "<div>\n",
       "<style scoped>\n",
       "    .dataframe tbody tr th:only-of-type {\n",
       "        vertical-align: middle;\n",
       "    }\n",
       "\n",
       "    .dataframe tbody tr th {\n",
       "        vertical-align: top;\n",
       "    }\n",
       "\n",
       "    .dataframe thead th {\n",
       "        text-align: right;\n",
       "    }\n",
       "</style>\n",
       "<table border=\"1\" class=\"dataframe\">\n",
       "  <thead>\n",
       "    <tr style=\"text-align: right;\">\n",
       "      <th></th>\n",
       "      <th>Адрес</th>\n",
       "      <th>Жилая</th>\n",
       "      <th>Кухня</th>\n",
       "      <th>Метро</th>\n",
       "      <th>Общая</th>\n",
       "      <th>Цена</th>\n",
       "      <th>Цена за квадрат</th>\n",
       "      <th>Этаж</th>\n",
       "      <th>Этажность здания</th>\n",
       "      <th>Время</th>\n",
       "      <th>Способ передвижения</th>\n",
       "      <th>Широта дома</th>\n",
       "      <th>Долгота дома</th>\n",
       "      <th>Широта метро</th>\n",
       "      <th>Долгота долгота</th>\n",
       "    </tr>\n",
       "  </thead>\n",
       "  <tbody>\n",
       "    <tr>\n",
       "      <th>0</th>\n",
       "      <td>Юбилейная улица, 16, Мытищи, Московская област...</td>\n",
       "      <td>24.0</td>\n",
       "      <td>10.0</td>\n",
       "      <td>Медведково</td>\n",
       "      <td>48.0</td>\n",
       "      <td>6550000.0</td>\n",
       "      <td>136458.0</td>\n",
       "      <td>12</td>\n",
       "      <td>25</td>\n",
       "      <td>15.0</td>\n",
       "      <td>на транспорте</td>\n",
       "      <td>55.913162</td>\n",
       "      <td>37.713063</td>\n",
       "      <td>55.887473</td>\n",
       "      <td>37.661527</td>\n",
       "    </tr>\n",
       "    <tr>\n",
       "      <th>1</th>\n",
       "      <td>Кутузовский проспект, 4/2, Москва, Россия</td>\n",
       "      <td>45.0</td>\n",
       "      <td>NaN</td>\n",
       "      <td>Киевская</td>\n",
       "      <td>64.0</td>\n",
       "      <td>26000000.0</td>\n",
       "      <td>406250.0</td>\n",
       "      <td>4</td>\n",
       "      <td>7</td>\n",
       "      <td>13.0</td>\n",
       "      <td>пешком</td>\n",
       "      <td>55.750727</td>\n",
       "      <td>37.562272</td>\n",
       "      <td>55.743588</td>\n",
       "      <td>37.565587</td>\n",
       "    </tr>\n",
       "    <tr>\n",
       "      <th>2</th>\n",
       "      <td>1-й Колобовский переулок, 13/14с3, Москва, Россия</td>\n",
       "      <td>23.4</td>\n",
       "      <td>8.9</td>\n",
       "      <td>Трубная</td>\n",
       "      <td>40.0</td>\n",
       "      <td>18000000.0</td>\n",
       "      <td>450000.0</td>\n",
       "      <td>2</td>\n",
       "      <td>3</td>\n",
       "      <td>5.0</td>\n",
       "      <td>пешком</td>\n",
       "      <td>55.769216</td>\n",
       "      <td>37.617411</td>\n",
       "      <td>55.767939</td>\n",
       "      <td>37.621884</td>\n",
       "    </tr>\n",
       "    <tr>\n",
       "      <th>3</th>\n",
       "      <td>Мосфильмовская улица, 8, Москва, Россия</td>\n",
       "      <td>63.0</td>\n",
       "      <td>20.0</td>\n",
       "      <td>Парк Победы</td>\n",
       "      <td>98.0</td>\n",
       "      <td>59900000.0</td>\n",
       "      <td>611224.0</td>\n",
       "      <td>33</td>\n",
       "      <td>54</td>\n",
       "      <td>11.0</td>\n",
       "      <td>на транспорте</td>\n",
       "      <td>55.723257</td>\n",
       "      <td>37.527660</td>\n",
       "      <td>55.736934</td>\n",
       "      <td>37.516009</td>\n",
       "    </tr>\n",
       "    <tr>\n",
       "      <th>4</th>\n",
       "      <td>Комсомольский проспект, 42с2, Москва, Россия</td>\n",
       "      <td>48.0</td>\n",
       "      <td>NaN</td>\n",
       "      <td>Спортивная</td>\n",
       "      <td>67.3</td>\n",
       "      <td>37900000.0</td>\n",
       "      <td>563150.0</td>\n",
       "      <td>4</td>\n",
       "      <td>5</td>\n",
       "      <td>10.0</td>\n",
       "      <td>пешком</td>\n",
       "      <td>55.721731</td>\n",
       "      <td>37.572899</td>\n",
       "      <td>55.723247</td>\n",
       "      <td>37.564105</td>\n",
       "    </tr>\n",
       "  </tbody>\n",
       "</table>\n",
       "</div>"
      ],
      "text/plain": [
       "                                               Адрес  Жилая  Кухня  \\\n",
       "0  Юбилейная улица, 16, Мытищи, Московская област...   24.0   10.0   \n",
       "1          Кутузовский проспект, 4/2, Москва, Россия   45.0    NaN   \n",
       "2  1-й Колобовский переулок, 13/14с3, Москва, Россия   23.4    8.9   \n",
       "3            Мосфильмовская улица, 8, Москва, Россия   63.0   20.0   \n",
       "4       Комсомольский проспект, 42с2, Москва, Россия   48.0    NaN   \n",
       "\n",
       "         Метро  Общая        Цена  Цена за квадрат  Этаж  Этажность здания  \\\n",
       "0   Медведково   48.0   6550000.0         136458.0    12                25   \n",
       "1     Киевская   64.0  26000000.0         406250.0     4                 7   \n",
       "2      Трубная   40.0  18000000.0         450000.0     2                 3   \n",
       "3  Парк Победы   98.0  59900000.0         611224.0    33                54   \n",
       "4   Спортивная   67.3  37900000.0         563150.0     4                 5   \n",
       "\n",
       "   Время Способ передвижения  Широта дома  Долгота дома  Широта метро  \\\n",
       "0   15.0       на транспорте    55.913162     37.713063     55.887473   \n",
       "1   13.0              пешком    55.750727     37.562272     55.743588   \n",
       "2    5.0              пешком    55.769216     37.617411     55.767939   \n",
       "3   11.0       на транспорте    55.723257     37.527660     55.736934   \n",
       "4   10.0              пешком    55.721731     37.572899     55.723247   \n",
       "\n",
       "   Долгота долгота  \n",
       "0        37.661527  \n",
       "1        37.565587  \n",
       "2        37.621884  \n",
       "3        37.516009  \n",
       "4        37.564105  "
      ]
     },
     "execution_count": 2,
     "metadata": {},
     "output_type": "execute_result"
    }
   ],
   "source": [
    "df = pd.read_csv('clean_data.csv')\n",
    "df.head()"
   ]
  },
  {
   "cell_type": "code",
   "execution_count": 3,
   "metadata": {},
   "outputs": [],
   "source": [
    "df= df.drop(columns='Адрес', axis=1)"
   ]
  },
  {
   "cell_type": "code",
   "execution_count": 4,
   "metadata": {},
   "outputs": [],
   "source": [
    "from sklearn import preprocessing\n",
    "le = preprocessing.LabelEncoder()\n",
    "df['Способ передвижения'] = le.fit_transform(df['Способ передвижения'])"
   ]
  },
  {
   "cell_type": "code",
   "execution_count": 5,
   "metadata": {
    "scrolled": false
   },
   "outputs": [
    {
     "data": {
      "text/html": [
       "<div>\n",
       "<style scoped>\n",
       "    .dataframe tbody tr th:only-of-type {\n",
       "        vertical-align: middle;\n",
       "    }\n",
       "\n",
       "    .dataframe tbody tr th {\n",
       "        vertical-align: top;\n",
       "    }\n",
       "\n",
       "    .dataframe thead th {\n",
       "        text-align: right;\n",
       "    }\n",
       "</style>\n",
       "<table border=\"1\" class=\"dataframe\">\n",
       "  <thead>\n",
       "    <tr style=\"text-align: right;\">\n",
       "      <th></th>\n",
       "      <th>Жилая</th>\n",
       "      <th>Кухня</th>\n",
       "      <th>Метро</th>\n",
       "      <th>Общая</th>\n",
       "      <th>Цена</th>\n",
       "      <th>Цена за квадрат</th>\n",
       "      <th>Этаж</th>\n",
       "      <th>Этажность здания</th>\n",
       "      <th>Время</th>\n",
       "      <th>Способ передвижения</th>\n",
       "      <th>Широта дома</th>\n",
       "      <th>Долгота дома</th>\n",
       "      <th>Широта метро</th>\n",
       "      <th>Долгота долгота</th>\n",
       "    </tr>\n",
       "  </thead>\n",
       "  <tbody>\n",
       "    <tr>\n",
       "      <th>0</th>\n",
       "      <td>24.0</td>\n",
       "      <td>10.0</td>\n",
       "      <td>Медведково</td>\n",
       "      <td>48.0</td>\n",
       "      <td>6550000.0</td>\n",
       "      <td>136458.0</td>\n",
       "      <td>12</td>\n",
       "      <td>25</td>\n",
       "      <td>15.0</td>\n",
       "      <td>0</td>\n",
       "      <td>55.913162</td>\n",
       "      <td>37.713063</td>\n",
       "      <td>55.887473</td>\n",
       "      <td>37.661527</td>\n",
       "    </tr>\n",
       "    <tr>\n",
       "      <th>1</th>\n",
       "      <td>45.0</td>\n",
       "      <td>NaN</td>\n",
       "      <td>Киевская</td>\n",
       "      <td>64.0</td>\n",
       "      <td>26000000.0</td>\n",
       "      <td>406250.0</td>\n",
       "      <td>4</td>\n",
       "      <td>7</td>\n",
       "      <td>13.0</td>\n",
       "      <td>1</td>\n",
       "      <td>55.750727</td>\n",
       "      <td>37.562272</td>\n",
       "      <td>55.743588</td>\n",
       "      <td>37.565587</td>\n",
       "    </tr>\n",
       "    <tr>\n",
       "      <th>2</th>\n",
       "      <td>23.4</td>\n",
       "      <td>8.9</td>\n",
       "      <td>Трубная</td>\n",
       "      <td>40.0</td>\n",
       "      <td>18000000.0</td>\n",
       "      <td>450000.0</td>\n",
       "      <td>2</td>\n",
       "      <td>3</td>\n",
       "      <td>5.0</td>\n",
       "      <td>1</td>\n",
       "      <td>55.769216</td>\n",
       "      <td>37.617411</td>\n",
       "      <td>55.767939</td>\n",
       "      <td>37.621884</td>\n",
       "    </tr>\n",
       "    <tr>\n",
       "      <th>3</th>\n",
       "      <td>63.0</td>\n",
       "      <td>20.0</td>\n",
       "      <td>Парк Победы</td>\n",
       "      <td>98.0</td>\n",
       "      <td>59900000.0</td>\n",
       "      <td>611224.0</td>\n",
       "      <td>33</td>\n",
       "      <td>54</td>\n",
       "      <td>11.0</td>\n",
       "      <td>0</td>\n",
       "      <td>55.723257</td>\n",
       "      <td>37.527660</td>\n",
       "      <td>55.736934</td>\n",
       "      <td>37.516009</td>\n",
       "    </tr>\n",
       "    <tr>\n",
       "      <th>4</th>\n",
       "      <td>48.0</td>\n",
       "      <td>NaN</td>\n",
       "      <td>Спортивная</td>\n",
       "      <td>67.3</td>\n",
       "      <td>37900000.0</td>\n",
       "      <td>563150.0</td>\n",
       "      <td>4</td>\n",
       "      <td>5</td>\n",
       "      <td>10.0</td>\n",
       "      <td>1</td>\n",
       "      <td>55.721731</td>\n",
       "      <td>37.572899</td>\n",
       "      <td>55.723247</td>\n",
       "      <td>37.564105</td>\n",
       "    </tr>\n",
       "  </tbody>\n",
       "</table>\n",
       "</div>"
      ],
      "text/plain": [
       "   Жилая  Кухня        Метро  Общая        Цена  Цена за квадрат  Этаж  \\\n",
       "0   24.0   10.0   Медведково   48.0   6550000.0         136458.0    12   \n",
       "1   45.0    NaN     Киевская   64.0  26000000.0         406250.0     4   \n",
       "2   23.4    8.9      Трубная   40.0  18000000.0         450000.0     2   \n",
       "3   63.0   20.0  Парк Победы   98.0  59900000.0         611224.0    33   \n",
       "4   48.0    NaN   Спортивная   67.3  37900000.0         563150.0     4   \n",
       "\n",
       "   Этажность здания  Время  Способ передвижения  Широта дома  Долгота дома  \\\n",
       "0                25   15.0                    0    55.913162     37.713063   \n",
       "1                 7   13.0                    1    55.750727     37.562272   \n",
       "2                 3    5.0                    1    55.769216     37.617411   \n",
       "3                54   11.0                    0    55.723257     37.527660   \n",
       "4                 5   10.0                    1    55.721731     37.572899   \n",
       "\n",
       "   Широта метро  Долгота долгота  \n",
       "0     55.887473        37.661527  \n",
       "1     55.743588        37.565587  \n",
       "2     55.767939        37.621884  \n",
       "3     55.736934        37.516009  \n",
       "4     55.723247        37.564105  "
      ]
     },
     "execution_count": 5,
     "metadata": {},
     "output_type": "execute_result"
    }
   ],
   "source": [
    "df.head()"
   ]
  },
  {
   "cell_type": "markdown",
   "metadata": {},
   "source": [
    "## Добавим расстояние от дома до центра города"
   ]
  },
  {
   "cell_type": "code",
   "execution_count": 7,
   "metadata": {},
   "outputs": [],
   "source": [
    "from geopy import distance\n",
    "\n",
    "lon_center, lat_center = 55.753595, 37.621031"
   ]
  },
  {
   "cell_type": "code",
   "execution_count": 9,
   "metadata": {},
   "outputs": [
    {
     "name": "stdout",
     "output_type": "stream",
     "text": [
      "18.678507004392735\n"
     ]
    }
   ],
   "source": [
    "print(distance.distance((55.913162, 37.713063), (lon_center, lat_center)).km)"
   ]
  },
  {
   "cell_type": "code",
   "execution_count": 16,
   "metadata": {},
   "outputs": [],
   "source": [
    "df['До центра'] = df[['Широта дома', 'Долгота дома']].apply(\n",
    "    lambda x: distance.distance((x[0],x[1]),(lon_center, lat_center)).km, axis = 1\n",
    ")"
   ]
  },
  {
   "cell_type": "code",
   "execution_count": 24,
   "metadata": {},
   "outputs": [],
   "source": [
    "df['До метро'] = df[['Широта дома', 'Долгота дома', 'Широта метро', 'Долгота долгота']].apply(\n",
    "    lambda x: distance.distance((x[0],x[1]),(x[2],x[3])).km, axis = 1\n",
    ")"
   ]
  },
  {
   "cell_type": "code",
   "execution_count": 25,
   "metadata": {},
   "outputs": [
    {
     "data": {
      "text/html": [
       "<div>\n",
       "<style scoped>\n",
       "    .dataframe tbody tr th:only-of-type {\n",
       "        vertical-align: middle;\n",
       "    }\n",
       "\n",
       "    .dataframe tbody tr th {\n",
       "        vertical-align: top;\n",
       "    }\n",
       "\n",
       "    .dataframe thead th {\n",
       "        text-align: right;\n",
       "    }\n",
       "</style>\n",
       "<table border=\"1\" class=\"dataframe\">\n",
       "  <thead>\n",
       "    <tr style=\"text-align: right;\">\n",
       "      <th></th>\n",
       "      <th>Жилая</th>\n",
       "      <th>Кухня</th>\n",
       "      <th>Метро</th>\n",
       "      <th>Общая</th>\n",
       "      <th>Цена</th>\n",
       "      <th>Цена за квадрат</th>\n",
       "      <th>Этаж</th>\n",
       "      <th>Этажность здания</th>\n",
       "      <th>Время</th>\n",
       "      <th>Способ передвижения</th>\n",
       "      <th>Широта дома</th>\n",
       "      <th>Долгота дома</th>\n",
       "      <th>Широта метро</th>\n",
       "      <th>Долгота долгота</th>\n",
       "      <th>До центра</th>\n",
       "      <th>До метро</th>\n",
       "    </tr>\n",
       "  </thead>\n",
       "  <tbody>\n",
       "    <tr>\n",
       "      <th>0</th>\n",
       "      <td>24.0</td>\n",
       "      <td>10.0</td>\n",
       "      <td>Медведково</td>\n",
       "      <td>48.0</td>\n",
       "      <td>6550000.0</td>\n",
       "      <td>136458.0</td>\n",
       "      <td>12</td>\n",
       "      <td>25</td>\n",
       "      <td>15.0</td>\n",
       "      <td>0</td>\n",
       "      <td>55.913162</td>\n",
       "      <td>37.713063</td>\n",
       "      <td>55.887473</td>\n",
       "      <td>37.661527</td>\n",
       "      <td>18.678507</td>\n",
       "      <td>4.309681</td>\n",
       "    </tr>\n",
       "    <tr>\n",
       "      <th>1</th>\n",
       "      <td>45.0</td>\n",
       "      <td>NaN</td>\n",
       "      <td>Киевская</td>\n",
       "      <td>64.0</td>\n",
       "      <td>26000000.0</td>\n",
       "      <td>406250.0</td>\n",
       "      <td>4</td>\n",
       "      <td>7</td>\n",
       "      <td>13.0</td>\n",
       "      <td>1</td>\n",
       "      <td>55.750727</td>\n",
       "      <td>37.562272</td>\n",
       "      <td>55.743588</td>\n",
       "      <td>37.565587</td>\n",
       "      <td>3.703355</td>\n",
       "      <td>0.821647</td>\n",
       "    </tr>\n",
       "    <tr>\n",
       "      <th>2</th>\n",
       "      <td>23.4</td>\n",
       "      <td>8.9</td>\n",
       "      <td>Трубная</td>\n",
       "      <td>40.0</td>\n",
       "      <td>18000000.0</td>\n",
       "      <td>450000.0</td>\n",
       "      <td>2</td>\n",
       "      <td>3</td>\n",
       "      <td>5.0</td>\n",
       "      <td>1</td>\n",
       "      <td>55.769216</td>\n",
       "      <td>37.617411</td>\n",
       "      <td>55.767939</td>\n",
       "      <td>37.621884</td>\n",
       "      <td>1.753987</td>\n",
       "      <td>0.314697</td>\n",
       "    </tr>\n",
       "    <tr>\n",
       "      <th>3</th>\n",
       "      <td>63.0</td>\n",
       "      <td>20.0</td>\n",
       "      <td>Парк Победы</td>\n",
       "      <td>98.0</td>\n",
       "      <td>59900000.0</td>\n",
       "      <td>611224.0</td>\n",
       "      <td>33</td>\n",
       "      <td>54</td>\n",
       "      <td>11.0</td>\n",
       "      <td>0</td>\n",
       "      <td>55.723257</td>\n",
       "      <td>37.527660</td>\n",
       "      <td>55.736934</td>\n",
       "      <td>37.516009</td>\n",
       "      <td>6.768081</td>\n",
       "      <td>1.689556</td>\n",
       "    </tr>\n",
       "    <tr>\n",
       "      <th>4</th>\n",
       "      <td>48.0</td>\n",
       "      <td>NaN</td>\n",
       "      <td>Спортивная</td>\n",
       "      <td>67.3</td>\n",
       "      <td>37900000.0</td>\n",
       "      <td>563150.0</td>\n",
       "      <td>4</td>\n",
       "      <td>5</td>\n",
       "      <td>10.0</td>\n",
       "      <td>1</td>\n",
       "      <td>55.721731</td>\n",
       "      <td>37.572899</td>\n",
       "      <td>55.723247</td>\n",
       "      <td>37.564105</td>\n",
       "      <td>4.661193</td>\n",
       "      <td>0.577809</td>\n",
       "    </tr>\n",
       "  </tbody>\n",
       "</table>\n",
       "</div>"
      ],
      "text/plain": [
       "   Жилая  Кухня        Метро  Общая        Цена  Цена за квадрат  Этаж  \\\n",
       "0   24.0   10.0   Медведково   48.0   6550000.0         136458.0    12   \n",
       "1   45.0    NaN     Киевская   64.0  26000000.0         406250.0     4   \n",
       "2   23.4    8.9      Трубная   40.0  18000000.0         450000.0     2   \n",
       "3   63.0   20.0  Парк Победы   98.0  59900000.0         611224.0    33   \n",
       "4   48.0    NaN   Спортивная   67.3  37900000.0         563150.0     4   \n",
       "\n",
       "   Этажность здания  Время  Способ передвижения  Широта дома  Долгота дома  \\\n",
       "0                25   15.0                    0    55.913162     37.713063   \n",
       "1                 7   13.0                    1    55.750727     37.562272   \n",
       "2                 3    5.0                    1    55.769216     37.617411   \n",
       "3                54   11.0                    0    55.723257     37.527660   \n",
       "4                 5   10.0                    1    55.721731     37.572899   \n",
       "\n",
       "   Широта метро  Долгота долгота  До центра  До метро  \n",
       "0     55.887473        37.661527  18.678507  4.309681  \n",
       "1     55.743588        37.565587   3.703355  0.821647  \n",
       "2     55.767939        37.621884   1.753987  0.314697  \n",
       "3     55.736934        37.516009   6.768081  1.689556  \n",
       "4     55.723247        37.564105   4.661193  0.577809  "
      ]
     },
     "execution_count": 25,
     "metadata": {},
     "output_type": "execute_result"
    }
   ],
   "source": [
    "df.head()"
   ]
  },
  {
   "cell_type": "code",
   "execution_count": 50,
   "metadata": {},
   "outputs": [],
   "source": [
    "X = df.drop(columns=['Цена', 'Цена за квадрат', 'Метро'], axis=1)\n",
    "y = df['Цена за квадрат']"
   ]
  },
  {
   "cell_type": "code",
   "execution_count": 51,
   "metadata": {},
   "outputs": [],
   "source": [
    "X_train, X_test, y_train, y_test = model_selection.train_test_split(X, y, test_size=0.33, random_state=42)"
   ]
  },
  {
   "cell_type": "code",
   "execution_count": 52,
   "metadata": {},
   "outputs": [],
   "source": [
    "from sklearn.impute import SimpleImputer\n",
    "imputer = SimpleImputer(missing_values=np.nan, strategy='median')"
   ]
  },
  {
   "cell_type": "code",
   "execution_count": 53,
   "metadata": {
    "scrolled": false
   },
   "outputs": [],
   "source": [
    "imputer.fit(X_train)\n",
    "X_train = imputer.transform(X_train)\n",
    "X_test = imputer.transform(X_test)"
   ]
  },
  {
   "cell_type": "code",
   "execution_count": 54,
   "metadata": {},
   "outputs": [],
   "source": [
    "from sklearn import linear_model"
   ]
  },
  {
   "cell_type": "code",
   "execution_count": 55,
   "metadata": {},
   "outputs": [
    {
     "data": {
      "text/plain": [
       "LinearRegression(copy_X=True, fit_intercept=True, n_jobs=None,\n",
       "         normalize=False)"
      ]
     },
     "execution_count": 55,
     "metadata": {},
     "output_type": "execute_result"
    }
   ],
   "source": [
    "lr = linear_model.LinearRegression()\n",
    "lr.fit(X_train, y_train)"
   ]
  },
  {
   "cell_type": "code",
   "execution_count": 56,
   "metadata": {},
   "outputs": [],
   "source": [
    "from sklearn import metrics"
   ]
  },
  {
   "cell_type": "code",
   "execution_count": 57,
   "metadata": {},
   "outputs": [
    {
     "data": {
      "text/plain": [
       "77460.09340991118"
      ]
     },
     "execution_count": 57,
     "metadata": {},
     "output_type": "execute_result"
    }
   ],
   "source": [
    "metrics.mean_absolute_error(y_train, lr.predict(X_train))"
   ]
  },
  {
   "cell_type": "code",
   "execution_count": 58,
   "metadata": {
    "scrolled": false
   },
   "outputs": [
    {
     "data": {
      "text/plain": [
       "86241.80030620037"
      ]
     },
     "execution_count": 58,
     "metadata": {},
     "output_type": "execute_result"
    }
   ],
   "source": [
    "metrics.mean_absolute_error(y_test, lr.predict(X_test))"
   ]
  },
  {
   "cell_type": "code",
   "execution_count": 59,
   "metadata": {},
   "outputs": [
    {
     "data": {
      "text/plain": [
       "StandardScaler(copy=True, with_mean=True, with_std=True)"
      ]
     },
     "execution_count": 59,
     "metadata": {},
     "output_type": "execute_result"
    }
   ],
   "source": [
    "scale = preprocessing.StandardScaler()\n",
    "scale.fit(X_train)"
   ]
  },
  {
   "cell_type": "code",
   "execution_count": 60,
   "metadata": {},
   "outputs": [],
   "source": [
    "X_train_norm = scale.transform(X_train)\n",
    "X_test_norm = scale.transform(X_test)"
   ]
  },
  {
   "cell_type": "code",
   "execution_count": 61,
   "metadata": {},
   "outputs": [
    {
     "data": {
      "text/plain": [
       "StandardScaler(copy=True, with_mean=True, with_std=True)"
      ]
     },
     "execution_count": 61,
     "metadata": {},
     "output_type": "execute_result"
    }
   ],
   "source": [
    "scale_target = preprocessing.StandardScaler()\n",
    "scale_target.fit(y_train.values.reshape(-1, 1))"
   ]
  },
  {
   "cell_type": "code",
   "execution_count": 62,
   "metadata": {},
   "outputs": [],
   "source": [
    "y_train_norm = scale_target.transform(y_train.values.reshape(-1, 1))\n",
    "y_test_norm = scale_target.transform(y_test.values.reshape(-1, 1))"
   ]
  },
  {
   "cell_type": "code",
   "execution_count": 76,
   "metadata": {
    "scrolled": false
   },
   "outputs": [
    {
     "data": {
      "text/plain": [
       "LinearRegression(copy_X=True, fit_intercept=True, n_jobs=None,\n",
       "         normalize=False)"
      ]
     },
     "execution_count": 76,
     "metadata": {},
     "output_type": "execute_result"
    }
   ],
   "source": [
    "lr1 = linear_model.LinearRegression()\n",
    "lr1.fit(X_train_norm, y_train_norm)"
   ]
  },
  {
   "cell_type": "code",
   "execution_count": 77,
   "metadata": {},
   "outputs": [
    {
     "data": {
      "text/plain": [
       "0.473861810105019"
      ]
     },
     "execution_count": 77,
     "metadata": {},
     "output_type": "execute_result"
    }
   ],
   "source": [
    "metrics.mean_absolute_error(y_test_norm, lr1.predict(X_test_norm))"
   ]
  },
  {
   "cell_type": "code",
   "execution_count": 78,
   "metadata": {},
   "outputs": [
    {
     "data": {
      "text/plain": [
       "Ridge(alpha=10.0, copy_X=True, fit_intercept=True, max_iter=None,\n",
       "   normalize=False, random_state=None, solver='auto', tol=0.001)"
      ]
     },
     "execution_count": 78,
     "metadata": {},
     "output_type": "execute_result"
    }
   ],
   "source": [
    "lr_r = linear_model.Ridge(alpha=10.0)\n",
    "lr_r.fit(X_train_norm, y_train_norm)"
   ]
  },
  {
   "cell_type": "code",
   "execution_count": 79,
   "metadata": {
    "scrolled": true
   },
   "outputs": [
    {
     "data": {
      "text/plain": [
       "0.4248475350432782"
      ]
     },
     "execution_count": 79,
     "metadata": {},
     "output_type": "execute_result"
    }
   ],
   "source": [
    "metrics.mean_absolute_error(y_train_norm, lr_r.predict(X_train_norm))"
   ]
  },
  {
   "cell_type": "code",
   "execution_count": 80,
   "metadata": {},
   "outputs": [
    {
     "data": {
      "text/plain": [
       "0.4727736476806376"
      ]
     },
     "execution_count": 80,
     "metadata": {},
     "output_type": "execute_result"
    }
   ],
   "source": [
    "metrics.mean_absolute_error(y_test_norm, lr_r.predict(X_test_norm))"
   ]
  },
  {
   "cell_type": "code",
   "execution_count": 81,
   "metadata": {},
   "outputs": [],
   "source": [
    "import xgboost"
   ]
  },
  {
   "cell_type": "code",
   "execution_count": 82,
   "metadata": {},
   "outputs": [
    {
     "data": {
      "text/plain": [
       "XGBRegressor(base_score=0.5, booster=None, colsample_bylevel=1,\n",
       "       colsample_bynode=1, colsample_bytree=1, gamma=0, gpu_id=-1,\n",
       "       importance_type='gain', interaction_constraints=None,\n",
       "       learning_rate=0.05, max_delta_step=0, max_depth=10,\n",
       "       min_child_weight=1, min_samples_split=2, missing=nan,\n",
       "       monotone_constraints=None, n_estimators=1000, n_jobs=0,\n",
       "       num_parallel_tree=1, objective='reg:squarederror', random_state=0,\n",
       "       reg_alpha=0, reg_lambda=1, scale_pos_weight=1, silent=True,\n",
       "       subsample=1, tree_method=None, validate_parameters=False,\n",
       "       verbosity=None)"
      ]
     },
     "execution_count": 82,
     "metadata": {},
     "output_type": "execute_result"
    }
   ],
   "source": [
    "params = {\n",
    "    \"n_estimators\": 1000,\n",
    "    \"max_depth\": 10,\n",
    "    \"min_samples_split\": 2,\n",
    "    \"learning_rate\": 0.05,\n",
    "}\n",
    "xgb = xgboost.XGBRegressor(**params, silent=True)\n",
    "xgb.fit(X_train_norm, y_train_norm)"
   ]
  },
  {
   "cell_type": "code",
   "execution_count": 83,
   "metadata": {},
   "outputs": [
    {
     "data": {
      "text/plain": [
       "0.2117866185891248"
      ]
     },
     "execution_count": 83,
     "metadata": {},
     "output_type": "execute_result"
    }
   ],
   "source": [
    "metrics.mean_absolute_error(y_test_norm, xgb.predict(X_test_norm))"
   ]
  },
  {
   "cell_type": "code",
   "execution_count": 86,
   "metadata": {},
   "outputs": [
    {
     "data": {
      "text/plain": [
       "PolynomialFeatures(degree=2, include_bias=True, interaction_only=True)"
      ]
     },
     "execution_count": 86,
     "metadata": {},
     "output_type": "execute_result"
    }
   ],
   "source": [
    "poly = preprocessing.PolynomialFeatures(2, interaction_only=True)"
   ]
  },
  {
   "cell_type": "code",
   "execution_count": 84,
   "metadata": {},
   "outputs": [
    {
     "data": {
      "text/plain": [
       "XGBRegressor(base_score=0.5, booster=None, colsample_bylevel=1,\n",
       "       colsample_bynode=1, colsample_bytree=1, gamma=0, gpu_id=-1,\n",
       "       importance_type='gain', interaction_constraints=None,\n",
       "       learning_rate=0.05, max_delta_step=0, max_depth=10,\n",
       "       min_child_weight=1, min_samples_split=2, missing=nan,\n",
       "       monotone_constraints=None, n_estimators=1000, n_jobs=0,\n",
       "       num_parallel_tree=1, objective='reg:squarederror', random_state=0,\n",
       "       reg_alpha=0, reg_lambda=1, scale_pos_weight=1, silent=True,\n",
       "       subsample=1, tree_method=None, validate_parameters=False,\n",
       "       verbosity=None)"
      ]
     },
     "execution_count": 84,
     "metadata": {},
     "output_type": "execute_result"
    }
   ],
   "source": [
    "xgb1 = xgboost.XGBRegressor(**params, silent=True)\n",
    "xgb1.fit(poly.fit_transform(X_train_norm), y_train_norm)"
   ]
  },
  {
   "cell_type": "code",
   "execution_count": 85,
   "metadata": {},
   "outputs": [
    {
     "data": {
      "text/plain": [
       "0.20611027591172565"
      ]
     },
     "execution_count": 85,
     "metadata": {},
     "output_type": "execute_result"
    }
   ],
   "source": [
    "metrics.mean_absolute_error(y_test_norm, xgb1.predict(poly.fit_transform(X_test_norm)))"
   ]
  }
 ],
 "metadata": {
  "kernelspec": {
   "display_name": "Python 3",
   "language": "python",
   "name": "python3"
  },
  "language_info": {
   "codemirror_mode": {
    "name": "ipython",
    "version": 3
   },
   "file_extension": ".py",
   "mimetype": "text/x-python",
   "name": "python",
   "nbconvert_exporter": "python",
   "pygments_lexer": "ipython3",
   "version": "3.7.3"
  }
 },
 "nbformat": 4,
 "nbformat_minor": 2
}
