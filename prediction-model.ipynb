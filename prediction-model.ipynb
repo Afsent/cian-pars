{
 "cells": [
  {
   "cell_type": "code",
   "execution_count": 156,
   "metadata": {},
   "outputs": [],
   "source": [
    "import pandas as pd\n",
    "import numpy as np\n",
    "from sklearn import model_selection\n",
    "import xgboost\n",
    "import warnings\n",
    "from sklearn import preprocessing\n",
    "import matplotlib.pyplot as plt\n",
    "import joblib\n",
    "\n",
    "warnings.filterwarnings(\"ignore\")"
   ]
  },
  {
   "cell_type": "code",
   "execution_count": 51,
   "metadata": {
    "scrolled": false
   },
   "outputs": [
    {
     "data": {
      "text/html": [
       "<div>\n",
       "<style scoped>\n",
       "    .dataframe tbody tr th:only-of-type {\n",
       "        vertical-align: middle;\n",
       "    }\n",
       "\n",
       "    .dataframe tbody tr th {\n",
       "        vertical-align: top;\n",
       "    }\n",
       "\n",
       "    .dataframe thead th {\n",
       "        text-align: right;\n",
       "    }\n",
       "</style>\n",
       "<table border=\"1\" class=\"dataframe\">\n",
       "  <thead>\n",
       "    <tr style=\"text-align: right;\">\n",
       "      <th></th>\n",
       "      <th>Адрес</th>\n",
       "      <th>Жилая</th>\n",
       "      <th>Кухня</th>\n",
       "      <th>Метро</th>\n",
       "      <th>Общая</th>\n",
       "      <th>Цена</th>\n",
       "      <th>Цена за квадрат</th>\n",
       "      <th>Этаж</th>\n",
       "      <th>Этажность здания</th>\n",
       "      <th>Время</th>\n",
       "      <th>Способ передвижения</th>\n",
       "      <th>Широта дома</th>\n",
       "      <th>Долгота дома</th>\n",
       "      <th>Широта метро</th>\n",
       "      <th>Долгота метро</th>\n",
       "    </tr>\n",
       "  </thead>\n",
       "  <tbody>\n",
       "    <tr>\n",
       "      <th>0</th>\n",
       "      <td>Юбилейная улица, 16, Мытищи, Московская област...</td>\n",
       "      <td>24.0</td>\n",
       "      <td>10.0</td>\n",
       "      <td>Медведково</td>\n",
       "      <td>48.0</td>\n",
       "      <td>6550000.0</td>\n",
       "      <td>136458.0</td>\n",
       "      <td>12</td>\n",
       "      <td>25</td>\n",
       "      <td>15.0</td>\n",
       "      <td>на транспорте</td>\n",
       "      <td>55.913162</td>\n",
       "      <td>37.713063</td>\n",
       "      <td>55.887473</td>\n",
       "      <td>37.661527</td>\n",
       "    </tr>\n",
       "    <tr>\n",
       "      <th>1</th>\n",
       "      <td>Кутузовский проспект, 4/2, Москва, Россия</td>\n",
       "      <td>45.0</td>\n",
       "      <td>NaN</td>\n",
       "      <td>Киевская</td>\n",
       "      <td>64.0</td>\n",
       "      <td>26000000.0</td>\n",
       "      <td>406250.0</td>\n",
       "      <td>4</td>\n",
       "      <td>7</td>\n",
       "      <td>13.0</td>\n",
       "      <td>пешком</td>\n",
       "      <td>55.750727</td>\n",
       "      <td>37.562272</td>\n",
       "      <td>55.743588</td>\n",
       "      <td>37.565587</td>\n",
       "    </tr>\n",
       "    <tr>\n",
       "      <th>2</th>\n",
       "      <td>1-й Колобовский переулок, 13/14с3, Москва, Россия</td>\n",
       "      <td>23.4</td>\n",
       "      <td>8.9</td>\n",
       "      <td>Трубная</td>\n",
       "      <td>40.0</td>\n",
       "      <td>18000000.0</td>\n",
       "      <td>450000.0</td>\n",
       "      <td>2</td>\n",
       "      <td>3</td>\n",
       "      <td>5.0</td>\n",
       "      <td>пешком</td>\n",
       "      <td>55.769216</td>\n",
       "      <td>37.617411</td>\n",
       "      <td>55.767939</td>\n",
       "      <td>37.621884</td>\n",
       "    </tr>\n",
       "    <tr>\n",
       "      <th>3</th>\n",
       "      <td>Мосфильмовская улица, 8, Москва, Россия</td>\n",
       "      <td>63.0</td>\n",
       "      <td>20.0</td>\n",
       "      <td>Парк Победы</td>\n",
       "      <td>98.0</td>\n",
       "      <td>59900000.0</td>\n",
       "      <td>611224.0</td>\n",
       "      <td>33</td>\n",
       "      <td>54</td>\n",
       "      <td>11.0</td>\n",
       "      <td>на транспорте</td>\n",
       "      <td>55.723257</td>\n",
       "      <td>37.527660</td>\n",
       "      <td>55.736934</td>\n",
       "      <td>37.516009</td>\n",
       "    </tr>\n",
       "    <tr>\n",
       "      <th>4</th>\n",
       "      <td>Комсомольский проспект, 42с2, Москва, Россия</td>\n",
       "      <td>48.0</td>\n",
       "      <td>NaN</td>\n",
       "      <td>Спортивная</td>\n",
       "      <td>67.3</td>\n",
       "      <td>37900000.0</td>\n",
       "      <td>563150.0</td>\n",
       "      <td>4</td>\n",
       "      <td>5</td>\n",
       "      <td>10.0</td>\n",
       "      <td>пешком</td>\n",
       "      <td>55.721731</td>\n",
       "      <td>37.572899</td>\n",
       "      <td>55.723247</td>\n",
       "      <td>37.564105</td>\n",
       "    </tr>\n",
       "  </tbody>\n",
       "</table>\n",
       "</div>"
      ],
      "text/plain": [
       "                                               Адрес  Жилая  Кухня  \\\n",
       "0  Юбилейная улица, 16, Мытищи, Московская област...   24.0   10.0   \n",
       "1          Кутузовский проспект, 4/2, Москва, Россия   45.0    NaN   \n",
       "2  1-й Колобовский переулок, 13/14с3, Москва, Россия   23.4    8.9   \n",
       "3            Мосфильмовская улица, 8, Москва, Россия   63.0   20.0   \n",
       "4       Комсомольский проспект, 42с2, Москва, Россия   48.0    NaN   \n",
       "\n",
       "         Метро  Общая        Цена  Цена за квадрат  Этаж  Этажность здания  \\\n",
       "0   Медведково   48.0   6550000.0         136458.0    12                25   \n",
       "1     Киевская   64.0  26000000.0         406250.0     4                 7   \n",
       "2      Трубная   40.0  18000000.0         450000.0     2                 3   \n",
       "3  Парк Победы   98.0  59900000.0         611224.0    33                54   \n",
       "4   Спортивная   67.3  37900000.0         563150.0     4                 5   \n",
       "\n",
       "   Время Способ передвижения  Широта дома  Долгота дома  Широта метро  \\\n",
       "0   15.0       на транспорте    55.913162     37.713063     55.887473   \n",
       "1   13.0              пешком    55.750727     37.562272     55.743588   \n",
       "2    5.0              пешком    55.769216     37.617411     55.767939   \n",
       "3   11.0       на транспорте    55.723257     37.527660     55.736934   \n",
       "4   10.0              пешком    55.721731     37.572899     55.723247   \n",
       "\n",
       "   Долгота метро  \n",
       "0      37.661527  \n",
       "1      37.565587  \n",
       "2      37.621884  \n",
       "3      37.516009  \n",
       "4      37.564105  "
      ]
     },
     "execution_count": 51,
     "metadata": {},
     "output_type": "execute_result"
    }
   ],
   "source": [
    "df = pd.read_csv('clean_data.csv')\n",
    "df.head()"
   ]
  },
  {
   "cell_type": "code",
   "execution_count": 52,
   "metadata": {},
   "outputs": [],
   "source": [
    "df= df.drop(columns=['Адрес', 'Способ передвижения', 'Время'], axis=1)\n"
   ]
  },
  {
   "cell_type": "code",
   "execution_count": 53,
   "metadata": {
    "scrolled": true
   },
   "outputs": [
    {
     "data": {
      "text/html": [
       "<div>\n",
       "<style scoped>\n",
       "    .dataframe tbody tr th:only-of-type {\n",
       "        vertical-align: middle;\n",
       "    }\n",
       "\n",
       "    .dataframe tbody tr th {\n",
       "        vertical-align: top;\n",
       "    }\n",
       "\n",
       "    .dataframe thead th {\n",
       "        text-align: right;\n",
       "    }\n",
       "</style>\n",
       "<table border=\"1\" class=\"dataframe\">\n",
       "  <thead>\n",
       "    <tr style=\"text-align: right;\">\n",
       "      <th></th>\n",
       "      <th>Жилая</th>\n",
       "      <th>Кухня</th>\n",
       "      <th>Метро</th>\n",
       "      <th>Общая</th>\n",
       "      <th>Цена</th>\n",
       "      <th>Цена за квадрат</th>\n",
       "      <th>Этаж</th>\n",
       "      <th>Этажность здания</th>\n",
       "      <th>Широта дома</th>\n",
       "      <th>Долгота дома</th>\n",
       "      <th>Широта метро</th>\n",
       "      <th>Долгота метро</th>\n",
       "    </tr>\n",
       "  </thead>\n",
       "  <tbody>\n",
       "    <tr>\n",
       "      <th>0</th>\n",
       "      <td>24.0</td>\n",
       "      <td>10.0</td>\n",
       "      <td>Медведково</td>\n",
       "      <td>48.0</td>\n",
       "      <td>6550000.0</td>\n",
       "      <td>136458.0</td>\n",
       "      <td>12</td>\n",
       "      <td>25</td>\n",
       "      <td>55.913162</td>\n",
       "      <td>37.713063</td>\n",
       "      <td>55.887473</td>\n",
       "      <td>37.661527</td>\n",
       "    </tr>\n",
       "    <tr>\n",
       "      <th>1</th>\n",
       "      <td>45.0</td>\n",
       "      <td>NaN</td>\n",
       "      <td>Киевская</td>\n",
       "      <td>64.0</td>\n",
       "      <td>26000000.0</td>\n",
       "      <td>406250.0</td>\n",
       "      <td>4</td>\n",
       "      <td>7</td>\n",
       "      <td>55.750727</td>\n",
       "      <td>37.562272</td>\n",
       "      <td>55.743588</td>\n",
       "      <td>37.565587</td>\n",
       "    </tr>\n",
       "    <tr>\n",
       "      <th>2</th>\n",
       "      <td>23.4</td>\n",
       "      <td>8.9</td>\n",
       "      <td>Трубная</td>\n",
       "      <td>40.0</td>\n",
       "      <td>18000000.0</td>\n",
       "      <td>450000.0</td>\n",
       "      <td>2</td>\n",
       "      <td>3</td>\n",
       "      <td>55.769216</td>\n",
       "      <td>37.617411</td>\n",
       "      <td>55.767939</td>\n",
       "      <td>37.621884</td>\n",
       "    </tr>\n",
       "    <tr>\n",
       "      <th>3</th>\n",
       "      <td>63.0</td>\n",
       "      <td>20.0</td>\n",
       "      <td>Парк Победы</td>\n",
       "      <td>98.0</td>\n",
       "      <td>59900000.0</td>\n",
       "      <td>611224.0</td>\n",
       "      <td>33</td>\n",
       "      <td>54</td>\n",
       "      <td>55.723257</td>\n",
       "      <td>37.527660</td>\n",
       "      <td>55.736934</td>\n",
       "      <td>37.516009</td>\n",
       "    </tr>\n",
       "    <tr>\n",
       "      <th>4</th>\n",
       "      <td>48.0</td>\n",
       "      <td>NaN</td>\n",
       "      <td>Спортивная</td>\n",
       "      <td>67.3</td>\n",
       "      <td>37900000.0</td>\n",
       "      <td>563150.0</td>\n",
       "      <td>4</td>\n",
       "      <td>5</td>\n",
       "      <td>55.721731</td>\n",
       "      <td>37.572899</td>\n",
       "      <td>55.723247</td>\n",
       "      <td>37.564105</td>\n",
       "    </tr>\n",
       "  </tbody>\n",
       "</table>\n",
       "</div>"
      ],
      "text/plain": [
       "   Жилая  Кухня        Метро  Общая        Цена  Цена за квадрат  Этаж  \\\n",
       "0   24.0   10.0   Медведково   48.0   6550000.0         136458.0    12   \n",
       "1   45.0    NaN     Киевская   64.0  26000000.0         406250.0     4   \n",
       "2   23.4    8.9      Трубная   40.0  18000000.0         450000.0     2   \n",
       "3   63.0   20.0  Парк Победы   98.0  59900000.0         611224.0    33   \n",
       "4   48.0    NaN   Спортивная   67.3  37900000.0         563150.0     4   \n",
       "\n",
       "   Этажность здания  Широта дома  Долгота дома  Широта метро  Долгота метро  \n",
       "0                25    55.913162     37.713063     55.887473      37.661527  \n",
       "1                 7    55.750727     37.562272     55.743588      37.565587  \n",
       "2                 3    55.769216     37.617411     55.767939      37.621884  \n",
       "3                54    55.723257     37.527660     55.736934      37.516009  \n",
       "4                 5    55.721731     37.572899     55.723247      37.564105  "
      ]
     },
     "execution_count": 53,
     "metadata": {},
     "output_type": "execute_result"
    }
   ],
   "source": [
    "df.head()"
   ]
  },
  {
   "cell_type": "markdown",
   "metadata": {},
   "source": [
    "## Добавим расстояние от дома до центра города"
   ]
  },
  {
   "cell_type": "code",
   "execution_count": 54,
   "metadata": {},
   "outputs": [],
   "source": [
    "from geopy import distance\n",
    "\n",
    "lon_center, lat_center = 55.753595, 37.621031"
   ]
  },
  {
   "cell_type": "code",
   "execution_count": 55,
   "metadata": {},
   "outputs": [],
   "source": [
    "df['До центра'] = df[['Широта дома', 'Долгота дома']].apply(\n",
    "    lambda x: distance.distance((x[0],x[1]),(lon_center, lat_center)).km, axis = 1\n",
    ")"
   ]
  },
  {
   "cell_type": "code",
   "execution_count": 56,
   "metadata": {},
   "outputs": [],
   "source": [
    "df['До метро'] = df[['Широта дома', 'Долгота дома', 'Широта метро', 'Долгота метро']].apply(\n",
    "    lambda x: distance.distance((x[0],x[1]),(x[2],x[3])).km, axis = 1\n",
    ")"
   ]
  },
  {
   "cell_type": "code",
   "execution_count": 57,
   "metadata": {
    "scrolled": true
   },
   "outputs": [
    {
     "data": {
      "text/html": [
       "<div>\n",
       "<style scoped>\n",
       "    .dataframe tbody tr th:only-of-type {\n",
       "        vertical-align: middle;\n",
       "    }\n",
       "\n",
       "    .dataframe tbody tr th {\n",
       "        vertical-align: top;\n",
       "    }\n",
       "\n",
       "    .dataframe thead th {\n",
       "        text-align: right;\n",
       "    }\n",
       "</style>\n",
       "<table border=\"1\" class=\"dataframe\">\n",
       "  <thead>\n",
       "    <tr style=\"text-align: right;\">\n",
       "      <th></th>\n",
       "      <th>Жилая</th>\n",
       "      <th>Кухня</th>\n",
       "      <th>Метро</th>\n",
       "      <th>Общая</th>\n",
       "      <th>Цена</th>\n",
       "      <th>Цена за квадрат</th>\n",
       "      <th>Этаж</th>\n",
       "      <th>Этажность здания</th>\n",
       "      <th>Широта дома</th>\n",
       "      <th>Долгота дома</th>\n",
       "      <th>Широта метро</th>\n",
       "      <th>Долгота метро</th>\n",
       "      <th>До центра</th>\n",
       "      <th>До метро</th>\n",
       "    </tr>\n",
       "  </thead>\n",
       "  <tbody>\n",
       "    <tr>\n",
       "      <th>0</th>\n",
       "      <td>24.0</td>\n",
       "      <td>10.0</td>\n",
       "      <td>Медведково</td>\n",
       "      <td>48.0</td>\n",
       "      <td>6550000.0</td>\n",
       "      <td>136458.0</td>\n",
       "      <td>12</td>\n",
       "      <td>25</td>\n",
       "      <td>55.913162</td>\n",
       "      <td>37.713063</td>\n",
       "      <td>55.887473</td>\n",
       "      <td>37.661527</td>\n",
       "      <td>18.678507</td>\n",
       "      <td>4.309681</td>\n",
       "    </tr>\n",
       "    <tr>\n",
       "      <th>1</th>\n",
       "      <td>45.0</td>\n",
       "      <td>NaN</td>\n",
       "      <td>Киевская</td>\n",
       "      <td>64.0</td>\n",
       "      <td>26000000.0</td>\n",
       "      <td>406250.0</td>\n",
       "      <td>4</td>\n",
       "      <td>7</td>\n",
       "      <td>55.750727</td>\n",
       "      <td>37.562272</td>\n",
       "      <td>55.743588</td>\n",
       "      <td>37.565587</td>\n",
       "      <td>3.703355</td>\n",
       "      <td>0.821647</td>\n",
       "    </tr>\n",
       "    <tr>\n",
       "      <th>2</th>\n",
       "      <td>23.4</td>\n",
       "      <td>8.9</td>\n",
       "      <td>Трубная</td>\n",
       "      <td>40.0</td>\n",
       "      <td>18000000.0</td>\n",
       "      <td>450000.0</td>\n",
       "      <td>2</td>\n",
       "      <td>3</td>\n",
       "      <td>55.769216</td>\n",
       "      <td>37.617411</td>\n",
       "      <td>55.767939</td>\n",
       "      <td>37.621884</td>\n",
       "      <td>1.753987</td>\n",
       "      <td>0.314697</td>\n",
       "    </tr>\n",
       "    <tr>\n",
       "      <th>3</th>\n",
       "      <td>63.0</td>\n",
       "      <td>20.0</td>\n",
       "      <td>Парк Победы</td>\n",
       "      <td>98.0</td>\n",
       "      <td>59900000.0</td>\n",
       "      <td>611224.0</td>\n",
       "      <td>33</td>\n",
       "      <td>54</td>\n",
       "      <td>55.723257</td>\n",
       "      <td>37.527660</td>\n",
       "      <td>55.736934</td>\n",
       "      <td>37.516009</td>\n",
       "      <td>6.768081</td>\n",
       "      <td>1.689556</td>\n",
       "    </tr>\n",
       "    <tr>\n",
       "      <th>4</th>\n",
       "      <td>48.0</td>\n",
       "      <td>NaN</td>\n",
       "      <td>Спортивная</td>\n",
       "      <td>67.3</td>\n",
       "      <td>37900000.0</td>\n",
       "      <td>563150.0</td>\n",
       "      <td>4</td>\n",
       "      <td>5</td>\n",
       "      <td>55.721731</td>\n",
       "      <td>37.572899</td>\n",
       "      <td>55.723247</td>\n",
       "      <td>37.564105</td>\n",
       "      <td>4.661193</td>\n",
       "      <td>0.577809</td>\n",
       "    </tr>\n",
       "  </tbody>\n",
       "</table>\n",
       "</div>"
      ],
      "text/plain": [
       "   Жилая  Кухня        Метро  Общая        Цена  Цена за квадрат  Этаж  \\\n",
       "0   24.0   10.0   Медведково   48.0   6550000.0         136458.0    12   \n",
       "1   45.0    NaN     Киевская   64.0  26000000.0         406250.0     4   \n",
       "2   23.4    8.9      Трубная   40.0  18000000.0         450000.0     2   \n",
       "3   63.0   20.0  Парк Победы   98.0  59900000.0         611224.0    33   \n",
       "4   48.0    NaN   Спортивная   67.3  37900000.0         563150.0     4   \n",
       "\n",
       "   Этажность здания  Широта дома  Долгота дома  Широта метро  Долгота метро  \\\n",
       "0                25    55.913162     37.713063     55.887473      37.661527   \n",
       "1                 7    55.750727     37.562272     55.743588      37.565587   \n",
       "2                 3    55.769216     37.617411     55.767939      37.621884   \n",
       "3                54    55.723257     37.527660     55.736934      37.516009   \n",
       "4                 5    55.721731     37.572899     55.723247      37.564105   \n",
       "\n",
       "   До центра  До метро  \n",
       "0  18.678507  4.309681  \n",
       "1   3.703355  0.821647  \n",
       "2   1.753987  0.314697  \n",
       "3   6.768081  1.689556  \n",
       "4   4.661193  0.577809  "
      ]
     },
     "execution_count": 57,
     "metadata": {},
     "output_type": "execute_result"
    }
   ],
   "source": [
    "df.head()"
   ]
  },
  {
   "cell_type": "code",
   "execution_count": 58,
   "metadata": {},
   "outputs": [
    {
     "data": {
      "text/plain": [
       "(5394, 14)"
      ]
     },
     "execution_count": 58,
     "metadata": {},
     "output_type": "execute_result"
    }
   ],
   "source": [
    "df = df[df['До центра'] < 35]\n",
    "df.shape"
   ]
  },
  {
   "cell_type": "code",
   "execution_count": 59,
   "metadata": {},
   "outputs": [],
   "source": [
    "import math"
   ]
  },
  {
   "cell_type": "code",
   "execution_count": 60,
   "metadata": {},
   "outputs": [],
   "source": [
    "def azimute(long, lat):\n",
    "    #pi - число pi, rad - радиус сферы (Земли)\n",
    "    rad = 6372795\n",
    " \n",
    "    #координаты двух точек\n",
    "    llat1 = lat\n",
    "    llong1 = long\n",
    "\n",
    "    llat2 = lat_center\n",
    "    llong2 = lon_center\n",
    "\n",
    "    #в радианах\n",
    "    lat1 = llat1*math.pi/180.\n",
    "    lat2 = llat2*math.pi/180.\n",
    "    long1 = llong1*math.pi/180.\n",
    "    long2 = llong2*math.pi/180.\n",
    "\n",
    "    #косинусы и синусы широт и разницы долгот\n",
    "    cl1 = math.cos(lat1)\n",
    "    cl2 = math.cos(lat2)\n",
    "    sl1 = math.sin(lat1)\n",
    "    sl2 = math.sin(lat2)\n",
    "    delta = long2 - long1\n",
    "    cdelta = math.cos(delta)\n",
    "    sdelta = math.sin(delta)\n",
    "\n",
    "    #вычисления длины большого круга\n",
    "    y = math.sqrt(math.pow(cl2*sdelta,2)+math.pow(cl1*sl2-sl1*cl2*cdelta,2))\n",
    "    x = sl1*sl2+cl1*cl2*cdelta\n",
    "    ad = math.atan2(y,x)\n",
    "    dist = ad*rad\n",
    "\n",
    "    #вычисление начального азимута\n",
    "    x = (cl1*sl2) - (sl1*cl2*cdelta)\n",
    "    y = sdelta*cl2\n",
    "    z = math.degrees(math.atan(-y/x))\n",
    "\n",
    "    if (x < 0):\n",
    "        z = z+180.\n",
    "\n",
    "    z2 = (z+180.) % 360. - 180.\n",
    "    z2 = - math.radians(z2)\n",
    "    anglerad2 = z2 - ((2*math.pi)*math.floor((z2/(2*math.pi))) )\n",
    "    angledeg = (anglerad2*180.)/math.pi\n",
    "    \n",
    "    return round(angledeg, 3)"
   ]
  },
  {
   "cell_type": "code",
   "execution_count": 61,
   "metadata": {},
   "outputs": [],
   "source": [
    "df['Азимут'] = df[['Широта дома', 'Долгота дома']].apply(\n",
    "    lambda x: azimute(x[0],x[1]), axis = 1\n",
    ")"
   ]
  },
  {
   "cell_type": "code",
   "execution_count": 62,
   "metadata": {
    "scrolled": true
   },
   "outputs": [
    {
     "data": {
      "text/html": [
       "<div>\n",
       "<style scoped>\n",
       "    .dataframe tbody tr th:only-of-type {\n",
       "        vertical-align: middle;\n",
       "    }\n",
       "\n",
       "    .dataframe tbody tr th {\n",
       "        vertical-align: top;\n",
       "    }\n",
       "\n",
       "    .dataframe thead th {\n",
       "        text-align: right;\n",
       "    }\n",
       "</style>\n",
       "<table border=\"1\" class=\"dataframe\">\n",
       "  <thead>\n",
       "    <tr style=\"text-align: right;\">\n",
       "      <th></th>\n",
       "      <th>Жилая</th>\n",
       "      <th>Кухня</th>\n",
       "      <th>Метро</th>\n",
       "      <th>Общая</th>\n",
       "      <th>Цена</th>\n",
       "      <th>Цена за квадрат</th>\n",
       "      <th>Этаж</th>\n",
       "      <th>Этажность здания</th>\n",
       "      <th>Широта дома</th>\n",
       "      <th>Долгота дома</th>\n",
       "      <th>Широта метро</th>\n",
       "      <th>Долгота метро</th>\n",
       "      <th>До центра</th>\n",
       "      <th>До метро</th>\n",
       "      <th>Азимут</th>\n",
       "    </tr>\n",
       "  </thead>\n",
       "  <tbody>\n",
       "    <tr>\n",
       "      <th>0</th>\n",
       "      <td>24.0</td>\n",
       "      <td>10.0</td>\n",
       "      <td>Медведково</td>\n",
       "      <td>48.0</td>\n",
       "      <td>6550000.0</td>\n",
       "      <td>136458.0</td>\n",
       "      <td>12</td>\n",
       "      <td>25</td>\n",
       "      <td>55.913162</td>\n",
       "      <td>37.713063</td>\n",
       "      <td>55.887473</td>\n",
       "      <td>37.661527</td>\n",
       "      <td>18.678507</td>\n",
       "      <td>4.309681</td>\n",
       "      <td>233.971</td>\n",
       "    </tr>\n",
       "    <tr>\n",
       "      <th>1</th>\n",
       "      <td>45.0</td>\n",
       "      <td>NaN</td>\n",
       "      <td>Киевская</td>\n",
       "      <td>64.0</td>\n",
       "      <td>26000000.0</td>\n",
       "      <td>406250.0</td>\n",
       "      <td>4</td>\n",
       "      <td>7</td>\n",
       "      <td>55.750727</td>\n",
       "      <td>37.562272</td>\n",
       "      <td>55.743588</td>\n",
       "      <td>37.565587</td>\n",
       "      <td>3.703355</td>\n",
       "      <td>0.821647</td>\n",
       "      <td>2.214</td>\n",
       "    </tr>\n",
       "    <tr>\n",
       "      <th>2</th>\n",
       "      <td>23.4</td>\n",
       "      <td>8.9</td>\n",
       "      <td>Трубная</td>\n",
       "      <td>40.0</td>\n",
       "      <td>18000000.0</td>\n",
       "      <td>450000.0</td>\n",
       "      <td>2</td>\n",
       "      <td>3</td>\n",
       "      <td>55.769216</td>\n",
       "      <td>37.617411</td>\n",
       "      <td>55.767939</td>\n",
       "      <td>37.621884</td>\n",
       "      <td>1.753987</td>\n",
       "      <td>0.314697</td>\n",
       "      <td>286.313</td>\n",
       "    </tr>\n",
       "    <tr>\n",
       "      <th>3</th>\n",
       "      <td>63.0</td>\n",
       "      <td>20.0</td>\n",
       "      <td>Парк Победы</td>\n",
       "      <td>98.0</td>\n",
       "      <td>59900000.0</td>\n",
       "      <td>611224.0</td>\n",
       "      <td>33</td>\n",
       "      <td>54</td>\n",
       "      <td>55.723257</td>\n",
       "      <td>37.527660</td>\n",
       "      <td>55.736934</td>\n",
       "      <td>37.516009</td>\n",
       "      <td>6.768081</td>\n",
       "      <td>1.689556</td>\n",
       "      <td>14.432</td>\n",
       "    </tr>\n",
       "    <tr>\n",
       "      <th>4</th>\n",
       "      <td>48.0</td>\n",
       "      <td>NaN</td>\n",
       "      <td>Спортивная</td>\n",
       "      <td>67.3</td>\n",
       "      <td>37900000.0</td>\n",
       "      <td>563150.0</td>\n",
       "      <td>4</td>\n",
       "      <td>5</td>\n",
       "      <td>55.721731</td>\n",
       "      <td>37.572899</td>\n",
       "      <td>55.723247</td>\n",
       "      <td>37.564105</td>\n",
       "      <td>4.661193</td>\n",
       "      <td>0.577809</td>\n",
       "      <td>27.669</td>\n",
       "    </tr>\n",
       "  </tbody>\n",
       "</table>\n",
       "</div>"
      ],
      "text/plain": [
       "   Жилая  Кухня        Метро  Общая        Цена  Цена за квадрат  Этаж  \\\n",
       "0   24.0   10.0   Медведково   48.0   6550000.0         136458.0    12   \n",
       "1   45.0    NaN     Киевская   64.0  26000000.0         406250.0     4   \n",
       "2   23.4    8.9      Трубная   40.0  18000000.0         450000.0     2   \n",
       "3   63.0   20.0  Парк Победы   98.0  59900000.0         611224.0    33   \n",
       "4   48.0    NaN   Спортивная   67.3  37900000.0         563150.0     4   \n",
       "\n",
       "   Этажность здания  Широта дома  Долгота дома  Широта метро  Долгота метро  \\\n",
       "0                25    55.913162     37.713063     55.887473      37.661527   \n",
       "1                 7    55.750727     37.562272     55.743588      37.565587   \n",
       "2                 3    55.769216     37.617411     55.767939      37.621884   \n",
       "3                54    55.723257     37.527660     55.736934      37.516009   \n",
       "4                 5    55.721731     37.572899     55.723247      37.564105   \n",
       "\n",
       "   До центра  До метро   Азимут  \n",
       "0  18.678507  4.309681  233.971  \n",
       "1   3.703355  0.821647    2.214  \n",
       "2   1.753987  0.314697  286.313  \n",
       "3   6.768081  1.689556   14.432  \n",
       "4   4.661193  0.577809   27.669  "
      ]
     },
     "execution_count": 62,
     "metadata": {},
     "output_type": "execute_result"
    }
   ],
   "source": [
    "df.head()"
   ]
  },
  {
   "cell_type": "code",
   "execution_count": 124,
   "metadata": {},
   "outputs": [],
   "source": [
    "drop_columns = ['Цена', 'Цена за квадрат', 'Метро','Широта метро','Долгота метро', 'Жилая', 'Кухня']"
   ]
  },
  {
   "cell_type": "code",
   "execution_count": 126,
   "metadata": {},
   "outputs": [],
   "source": [
    "X = df.drop(columns=drop_columns, axis=1)\n",
    "y = df['Цена за квадрат']"
   ]
  },
  {
   "cell_type": "code",
   "execution_count": 127,
   "metadata": {
    "scrolled": true
   },
   "outputs": [
    {
     "data": {
      "text/html": [
       "<div>\n",
       "<style scoped>\n",
       "    .dataframe tbody tr th:only-of-type {\n",
       "        vertical-align: middle;\n",
       "    }\n",
       "\n",
       "    .dataframe tbody tr th {\n",
       "        vertical-align: top;\n",
       "    }\n",
       "\n",
       "    .dataframe thead th {\n",
       "        text-align: right;\n",
       "    }\n",
       "</style>\n",
       "<table border=\"1\" class=\"dataframe\">\n",
       "  <thead>\n",
       "    <tr style=\"text-align: right;\">\n",
       "      <th></th>\n",
       "      <th>Общая</th>\n",
       "      <th>Этаж</th>\n",
       "      <th>Этажность здания</th>\n",
       "      <th>Широта дома</th>\n",
       "      <th>Долгота дома</th>\n",
       "      <th>До центра</th>\n",
       "      <th>До метро</th>\n",
       "      <th>Азимут</th>\n",
       "    </tr>\n",
       "  </thead>\n",
       "  <tbody>\n",
       "    <tr>\n",
       "      <th>0</th>\n",
       "      <td>48.0</td>\n",
       "      <td>12</td>\n",
       "      <td>25</td>\n",
       "      <td>55.913162</td>\n",
       "      <td>37.713063</td>\n",
       "      <td>18.678507</td>\n",
       "      <td>4.309681</td>\n",
       "      <td>233.971</td>\n",
       "    </tr>\n",
       "    <tr>\n",
       "      <th>1</th>\n",
       "      <td>64.0</td>\n",
       "      <td>4</td>\n",
       "      <td>7</td>\n",
       "      <td>55.750727</td>\n",
       "      <td>37.562272</td>\n",
       "      <td>3.703355</td>\n",
       "      <td>0.821647</td>\n",
       "      <td>2.214</td>\n",
       "    </tr>\n",
       "    <tr>\n",
       "      <th>2</th>\n",
       "      <td>40.0</td>\n",
       "      <td>2</td>\n",
       "      <td>3</td>\n",
       "      <td>55.769216</td>\n",
       "      <td>37.617411</td>\n",
       "      <td>1.753987</td>\n",
       "      <td>0.314697</td>\n",
       "      <td>286.313</td>\n",
       "    </tr>\n",
       "    <tr>\n",
       "      <th>3</th>\n",
       "      <td>98.0</td>\n",
       "      <td>33</td>\n",
       "      <td>54</td>\n",
       "      <td>55.723257</td>\n",
       "      <td>37.527660</td>\n",
       "      <td>6.768081</td>\n",
       "      <td>1.689556</td>\n",
       "      <td>14.432</td>\n",
       "    </tr>\n",
       "    <tr>\n",
       "      <th>4</th>\n",
       "      <td>67.3</td>\n",
       "      <td>4</td>\n",
       "      <td>5</td>\n",
       "      <td>55.721731</td>\n",
       "      <td>37.572899</td>\n",
       "      <td>4.661193</td>\n",
       "      <td>0.577809</td>\n",
       "      <td>27.669</td>\n",
       "    </tr>\n",
       "  </tbody>\n",
       "</table>\n",
       "</div>"
      ],
      "text/plain": [
       "   Общая  Этаж  Этажность здания  Широта дома  Долгота дома  До центра  \\\n",
       "0   48.0    12                25    55.913162     37.713063  18.678507   \n",
       "1   64.0     4                 7    55.750727     37.562272   3.703355   \n",
       "2   40.0     2                 3    55.769216     37.617411   1.753987   \n",
       "3   98.0    33                54    55.723257     37.527660   6.768081   \n",
       "4   67.3     4                 5    55.721731     37.572899   4.661193   \n",
       "\n",
       "   До метро   Азимут  \n",
       "0  4.309681  233.971  \n",
       "1  0.821647    2.214  \n",
       "2  0.314697  286.313  \n",
       "3  1.689556   14.432  \n",
       "4  0.577809   27.669  "
      ]
     },
     "execution_count": 127,
     "metadata": {},
     "output_type": "execute_result"
    }
   ],
   "source": [
    "X.head()"
   ]
  },
  {
   "cell_type": "code",
   "execution_count": 128,
   "metadata": {},
   "outputs": [],
   "source": [
    "X_train, X_test, y_train, y_test = model_selection.train_test_split(X, y, test_size=0.33, random_state=42)"
   ]
  },
  {
   "cell_type": "code",
   "execution_count": 129,
   "metadata": {},
   "outputs": [],
   "source": [
    "from sklearn.impute import SimpleImputer\n",
    "imputer = SimpleImputer(missing_values=np.nan, strategy='median')"
   ]
  },
  {
   "cell_type": "code",
   "execution_count": 130,
   "metadata": {
    "scrolled": false
   },
   "outputs": [],
   "source": [
    "imputer.fit(X_train)\n",
    "X_train = imputer.transform(X_train)\n",
    "X_test = imputer.transform(X_test)"
   ]
  },
  {
   "cell_type": "code",
   "execution_count": 131,
   "metadata": {},
   "outputs": [],
   "source": [
    "from sklearn import linear_model"
   ]
  },
  {
   "cell_type": "code",
   "execution_count": 132,
   "metadata": {},
   "outputs": [
    {
     "data": {
      "text/plain": [
       "LinearRegression(copy_X=True, fit_intercept=True, n_jobs=None,\n",
       "         normalize=False)"
      ]
     },
     "execution_count": 132,
     "metadata": {},
     "output_type": "execute_result"
    }
   ],
   "source": [
    "lr = linear_model.LinearRegression()\n",
    "lr.fit(X_train, y_train)"
   ]
  },
  {
   "cell_type": "code",
   "execution_count": 133,
   "metadata": {},
   "outputs": [],
   "source": [
    "from sklearn import metrics"
   ]
  },
  {
   "cell_type": "code",
   "execution_count": 134,
   "metadata": {},
   "outputs": [
    {
     "data": {
      "text/plain": [
       "80967.3413319348"
      ]
     },
     "execution_count": 134,
     "metadata": {},
     "output_type": "execute_result"
    }
   ],
   "source": [
    "metrics.mean_absolute_error(y_train, lr.predict(X_train))"
   ]
  },
  {
   "cell_type": "code",
   "execution_count": 135,
   "metadata": {
    "scrolled": false
   },
   "outputs": [
    {
     "data": {
      "text/plain": [
       "83585.6836617821"
      ]
     },
     "execution_count": 135,
     "metadata": {},
     "output_type": "execute_result"
    }
   ],
   "source": [
    "metrics.mean_absolute_error(y_test, lr.predict(X_test))"
   ]
  },
  {
   "cell_type": "code",
   "execution_count": 136,
   "metadata": {
    "scrolled": true
   },
   "outputs": [
    {
     "data": {
      "text/plain": [
       "StandardScaler(copy=True, with_mean=True, with_std=True)"
      ]
     },
     "execution_count": 136,
     "metadata": {},
     "output_type": "execute_result"
    }
   ],
   "source": [
    "scale = preprocessing.StandardScaler()\n",
    "scale.fit(X_train)"
   ]
  },
  {
   "cell_type": "code",
   "execution_count": 157,
   "metadata": {},
   "outputs": [],
   "source": [
    "with open(\"scale.joblib\", \"wb\") as file:\n",
    "    joblib.dump(scale, file)"
   ]
  },
  {
   "cell_type": "code",
   "execution_count": 137,
   "metadata": {},
   "outputs": [],
   "source": [
    "X_train_norm = scale.transform(X_train)\n",
    "X_test_norm = scale.transform(X_test)"
   ]
  },
  {
   "cell_type": "code",
   "execution_count": 138,
   "metadata": {},
   "outputs": [
    {
     "data": {
      "text/plain": [
       "StandardScaler(copy=True, with_mean=True, with_std=True)"
      ]
     },
     "execution_count": 138,
     "metadata": {},
     "output_type": "execute_result"
    }
   ],
   "source": [
    "scale_target = preprocessing.StandardScaler()\n",
    "scale_target.fit(y_train.values.reshape(-1, 1))"
   ]
  },
  {
   "cell_type": "code",
   "execution_count": 158,
   "metadata": {},
   "outputs": [],
   "source": [
    "with open(\"scale_target.joblib\", \"wb\") as file:\n",
    "    joblib.dump(scale_target, file)"
   ]
  },
  {
   "cell_type": "code",
   "execution_count": 139,
   "metadata": {},
   "outputs": [],
   "source": [
    "y_train_norm = scale_target.transform(y_train.values.reshape(-1, 1))\n",
    "y_test_norm = scale_target.transform(y_test.values.reshape(-1, 1))"
   ]
  },
  {
   "cell_type": "code",
   "execution_count": 140,
   "metadata": {
    "scrolled": false
   },
   "outputs": [
    {
     "data": {
      "text/plain": [
       "LinearRegression(copy_X=True, fit_intercept=True, n_jobs=None,\n",
       "         normalize=False)"
      ]
     },
     "execution_count": 140,
     "metadata": {},
     "output_type": "execute_result"
    }
   ],
   "source": [
    "lr1 = linear_model.LinearRegression()\n",
    "lr1.fit(X_train_norm, y_train_norm)"
   ]
  },
  {
   "cell_type": "code",
   "execution_count": 141,
   "metadata": {},
   "outputs": [
    {
     "data": {
      "text/plain": [
       "0.6402545376013898"
      ]
     },
     "execution_count": 141,
     "metadata": {},
     "output_type": "execute_result"
    }
   ],
   "source": [
    "metrics.mean_squared_error(y_test_norm, lr1.predict(X_test_norm))"
   ]
  },
  {
   "cell_type": "code",
   "execution_count": 142,
   "metadata": {},
   "outputs": [
    {
     "data": {
      "text/plain": [
       "Ridge(alpha=10.0, copy_X=True, fit_intercept=True, max_iter=None,\n",
       "   normalize=False, random_state=None, solver='auto', tol=0.001)"
      ]
     },
     "execution_count": 142,
     "metadata": {},
     "output_type": "execute_result"
    }
   ],
   "source": [
    "lr_r = linear_model.Ridge(alpha=10.0)\n",
    "lr_r.fit(X_train_norm, y_train_norm)"
   ]
  },
  {
   "cell_type": "code",
   "execution_count": 143,
   "metadata": {
    "scrolled": true
   },
   "outputs": [
    {
     "data": {
      "text/plain": [
       "0.4485623094556603"
      ]
     },
     "execution_count": 143,
     "metadata": {},
     "output_type": "execute_result"
    }
   ],
   "source": [
    "metrics.mean_squared_error(y_train_norm, lr_r.predict(X_train_norm))"
   ]
  },
  {
   "cell_type": "code",
   "execution_count": 144,
   "metadata": {},
   "outputs": [
    {
     "data": {
      "text/plain": [
       "0.6376782753102189"
      ]
     },
     "execution_count": 144,
     "metadata": {},
     "output_type": "execute_result"
    }
   ],
   "source": [
    "metrics.mean_squared_error(y_test_norm, lr_r.predict(X_test_norm))"
   ]
  },
  {
   "cell_type": "code",
   "execution_count": 145,
   "metadata": {},
   "outputs": [
    {
     "data": {
      "text/plain": [
       "XGBRegressor(base_score=0.5, booster=None, colsample_bylevel=1,\n",
       "       colsample_bynode=1, colsample_bytree=1, gamma=0, gpu_id=-1,\n",
       "       importance_type='gain', interaction_constraints=None,\n",
       "       learning_rate=0.01, max_delta_step=0, max_depth=10,\n",
       "       min_child_weight=1, min_samples_split=2, missing=nan,\n",
       "       monotone_constraints=None, n_estimators=1000, n_jobs=0,\n",
       "       num_parallel_tree=1, objective='reg:squarederror', random_state=0,\n",
       "       reg_alpha=0, reg_lambda=1, scale_pos_weight=1, silent=True,\n",
       "       subsample=1, tree_method=None, validate_parameters=False,\n",
       "       verbosity=None)"
      ]
     },
     "execution_count": 145,
     "metadata": {},
     "output_type": "execute_result"
    }
   ],
   "source": [
    "params = {\n",
    "    \"n_estimators\": 1000,\n",
    "    \"max_depth\": 10,\n",
    "    \"min_samples_split\": 2,\n",
    "    \"learning_rate\": 0.01,\n",
    "}\n",
    "xgb = xgboost.XGBRegressor(**params, silent=True)\n",
    "xgb.fit(X_train_norm, y_train_norm)"
   ]
  },
  {
   "cell_type": "code",
   "execution_count": 146,
   "metadata": {},
   "outputs": [
    {
     "data": {
      "text/plain": [
       "0.0028843832417586217"
      ]
     },
     "execution_count": 146,
     "metadata": {},
     "output_type": "execute_result"
    }
   ],
   "source": [
    "metrics.mean_squared_error(y_train_norm, xgb.predict(X_train_norm))"
   ]
  },
  {
   "cell_type": "code",
   "execution_count": 147,
   "metadata": {},
   "outputs": [
    {
     "data": {
      "text/plain": [
       "0.1459620207641563"
      ]
     },
     "execution_count": 147,
     "metadata": {},
     "output_type": "execute_result"
    }
   ],
   "source": [
    "metrics.mean_squared_error(y_test_norm, xgb.predict(X_test_norm))"
   ]
  },
  {
   "cell_type": "code",
   "execution_count": 148,
   "metadata": {},
   "outputs": [
    {
     "data": {
      "text/plain": [
       "array([0.03891294, 0.01079906, 0.04314593, 0.03548178, 0.05379264,\n",
       "       0.66830575, 0.0224116 , 0.12715028], dtype=float32)"
      ]
     },
     "execution_count": 148,
     "metadata": {},
     "output_type": "execute_result"
    }
   ],
   "source": [
    "xgb.feature_importances_"
   ]
  },
  {
   "cell_type": "code",
   "execution_count": 149,
   "metadata": {},
   "outputs": [
    {
     "data": {
      "image/png": "[encoded data removed]",
      "text/plain": [
       "<Figure size 864x432 with 1 Axes>"
      ]
     },
     "metadata": {
      "needs_background": "light"
     },
     "output_type": "display_data"
    }
   ],
   "source": [
    "plt.figure(figsize=(12, 6))\n",
    "# Plot feature importance\n",
    "feature_importance = xgb.feature_importances_\n",
    "# make importances relative to max importance\n",
    "feature_importance = 100.0 * (feature_importance / feature_importance.max())\n",
    "sorted_idx = np.argsort(feature_importance)\n",
    "pos = np.arange(sorted_idx.shape[0]) + 0.5\n",
    "plt.subplot(1, 2, 2)\n",
    "plt.barh(pos, feature_importance[sorted_idx], align=\"center\")\n",
    "plt.yticks(pos, X.columns[sorted_idx])\n",
    "plt.xlabel(\"Relative Importance\")\n",
    "plt.title(\"Variable Importance\")\n",
    "plt.show()"
   ]
  },
  {
   "cell_type": "code",
   "execution_count": 159,
   "metadata": {},
   "outputs": [],
   "source": [
    "with open(\"xgb.joblib\", \"wb\") as file:\n",
    "    joblib.dump(xgb, file)"
   ]
  },
  {
   "cell_type": "code",
   "execution_count": 150,
   "metadata": {},
   "outputs": [],
   "source": [
    "np.random.seed(42)\n",
    "\n",
    "mse_sample = []\n",
    "for n_estimators in range(300, 1100, 100):\n",
    "    for max_depth in range(2, 10, 1):\n",
    "        for min_samples_split in range(2, 4, 1):\n",
    "            xgb1 = xgboost.XGBRegressor(\n",
    "                n_estimators=n_estimators,\n",
    "                max_depth=max_depth,\n",
    "                min_samples_split=min_samples_split,\n",
    "            )\n",
    "            xgb1.fit(X_train_norm, y_train_norm)\n",
    "            xgb1_predict = xgb1.predict(X_test_norm)\n",
    "            mse_sample.append(\n",
    "                [\n",
    "                    n_estimators,\n",
    "                    max_depth,\n",
    "                    min_samples_split,\n",
    "                    np.sum((y_test_norm - xgb1_predict) ** 2),\n",
    "                ]\n",
    "            )"
   ]
  },
  {
   "cell_type": "code",
   "execution_count": 151,
   "metadata": {},
   "outputs": [
    {
     "data": {
      "text/plain": [
       "[300, 2, 2, 5878233.2242700495]"
      ]
     },
     "execution_count": 151,
     "metadata": {},
     "output_type": "execute_result"
    }
   ],
   "source": [
    "sorted(mse_sample, key=lambda x: x[3])[0]"
   ]
  },
  {
   "cell_type": "code",
   "execution_count": 152,
   "metadata": {},
   "outputs": [
    {
     "data": {
      "text/plain": [
       "XGBRegressor(base_score=0.5, booster=None, colsample_bylevel=1,\n",
       "       colsample_bynode=1, colsample_bytree=1, gamma=0, gpu_id=-1,\n",
       "       importance_type='gain', interaction_constraints=None,\n",
       "       learning_rate=0.01, max_delta_step=0, max_depth=2,\n",
       "       min_child_weight=1, min_samples_split=2, missing=nan,\n",
       "       monotone_constraints=None, n_estimators=300, n_jobs=0,\n",
       "       num_parallel_tree=1, objective='reg:squarederror', random_state=0,\n",
       "       reg_alpha=0, reg_lambda=1, scale_pos_weight=1, silent=True,\n",
       "       subsample=1, tree_method=None, validate_parameters=False,\n",
       "       verbosity=None)"
      ]
     },
     "execution_count": 152,
     "metadata": {},
     "output_type": "execute_result"
    }
   ],
   "source": [
    "params = {\n",
    "    \"n_estimators\": 300,\n",
    "    \"max_depth\": 2,\n",
    "    \"min_samples_split\": 2,\n",
    "    \"learning_rate\": 0.01,\n",
    "}\n",
    "xgb1 = xgboost.XGBRegressor(**params, silent=True)\n",
    "xgb1.fit(X_train_norm, y_train_norm)"
   ]
  },
  {
   "cell_type": "code",
   "execution_count": 153,
   "metadata": {},
   "outputs": [
    {
     "data": {
      "text/plain": [
       "0.2531166754101328"
      ]
     },
     "execution_count": 153,
     "metadata": {},
     "output_type": "execute_result"
    }
   ],
   "source": [
    "metrics.mean_squared_error(y_train_norm, xgb1.predict(X_train_norm))"
   ]
  },
  {
   "cell_type": "code",
   "execution_count": 154,
   "metadata": {},
   "outputs": [
    {
     "data": {
      "text/plain": [
       "0.24569528653248507"
      ]
     },
     "execution_count": 154,
     "metadata": {},
     "output_type": "execute_result"
    }
   ],
   "source": [
    "metrics.mean_squared_error(y_test_norm, xgb1.predict(X_test_norm))"
   ]
  }
 ],
 "metadata": {
  "kernelspec": {
   "display_name": "Python 3",
   "language": "python",
   "name": "python3"
  },
  "language_info": {
   "codemirror_mode": {
    "name": "ipython",
    "version": 3
   },
   "file_extension": ".py",
   "mimetype": "text/x-python",
   "name": "python",
   "nbconvert_exporter": "python",
   "pygments_lexer": "ipython3",
   "version": "3.7.3"
  }
 },
 "nbformat": 4,
 "nbformat_minor": 2
}
