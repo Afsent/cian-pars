{
 "cells": [
  {
   "cell_type": "code",
   "execution_count": 256,
   "metadata": {},
   "outputs": [],
   "source": [
    "import pandas as pd\n",
    "import numpy as np\n",
    "from sklearn import model_selection\n",
    "import warnings\n",
    "\n",
    "warnings.filterwarnings(\"ignore\")"
   ]
  },
  {
   "cell_type": "code",
   "execution_count": 316,
   "metadata": {
    "scrolled": true
   },
   "outputs": [
    {
     "data": {
      "text/html": [
       "<div>\n",
       "<style scoped>\n",
       "    .dataframe tbody tr th:only-of-type {\n",
       "        vertical-align: middle;\n",
       "    }\n",
       "\n",
       "    .dataframe tbody tr th {\n",
       "        vertical-align: top;\n",
       "    }\n",
       "\n",
       "    .dataframe thead th {\n",
       "        text-align: right;\n",
       "    }\n",
       "</style>\n",
       "<table border=\"1\" class=\"dataframe\">\n",
       "  <thead>\n",
       "    <tr style=\"text-align: right;\">\n",
       "      <th></th>\n",
       "      <th>Адрес</th>\n",
       "      <th>Жилая</th>\n",
       "      <th>Кухня</th>\n",
       "      <th>Общая</th>\n",
       "      <th>Цена</th>\n",
       "      <th>Цена за квадрат</th>\n",
       "      <th>Этаж</th>\n",
       "      <th>Этажность здания</th>\n",
       "      <th>Время</th>\n",
       "      <th>Способ передвижения</th>\n",
       "      <th>Широта</th>\n",
       "      <th>Долгота</th>\n",
       "    </tr>\n",
       "  </thead>\n",
       "  <tbody>\n",
       "    <tr>\n",
       "      <th>0</th>\n",
       "      <td>Московская область, Мытищи, мкр. Ярославский, ...</td>\n",
       "      <td>24.0</td>\n",
       "      <td>10.0</td>\n",
       "      <td>48.0</td>\n",
       "      <td>6550000.0</td>\n",
       "      <td>136458.0</td>\n",
       "      <td>12</td>\n",
       "      <td>25</td>\n",
       "      <td>15.0</td>\n",
       "      <td>на транспорте</td>\n",
       "      <td>55.913162</td>\n",
       "      <td>37.713063</td>\n",
       "    </tr>\n",
       "    <tr>\n",
       "      <th>1</th>\n",
       "      <td>Москва, ЗАО, р-н Дорогомилово, Кутузовский про...</td>\n",
       "      <td>45.0</td>\n",
       "      <td>NaN</td>\n",
       "      <td>64.0</td>\n",
       "      <td>26000000.0</td>\n",
       "      <td>406250.0</td>\n",
       "      <td>4</td>\n",
       "      <td>7</td>\n",
       "      <td>13.0</td>\n",
       "      <td>пешком</td>\n",
       "      <td>55.750727</td>\n",
       "      <td>37.562272</td>\n",
       "    </tr>\n",
       "    <tr>\n",
       "      <th>2</th>\n",
       "      <td>Москва, ЦАО, р-н Тверской, 1-й Колобовский пер...</td>\n",
       "      <td>23.4</td>\n",
       "      <td>8.9</td>\n",
       "      <td>40.0</td>\n",
       "      <td>18000000.0</td>\n",
       "      <td>450000.0</td>\n",
       "      <td>2</td>\n",
       "      <td>3</td>\n",
       "      <td>5.0</td>\n",
       "      <td>пешком</td>\n",
       "      <td>55.769216</td>\n",
       "      <td>37.617411</td>\n",
       "    </tr>\n",
       "    <tr>\n",
       "      <th>3</th>\n",
       "      <td>Москва, ЗАО, р-н Раменки, Мосфильмовская ул., 8</td>\n",
       "      <td>63.0</td>\n",
       "      <td>20.0</td>\n",
       "      <td>98.0</td>\n",
       "      <td>59900000.0</td>\n",
       "      <td>611224.0</td>\n",
       "      <td>33</td>\n",
       "      <td>54</td>\n",
       "      <td>11.0</td>\n",
       "      <td>на транспорте</td>\n",
       "      <td>55.723257</td>\n",
       "      <td>37.527660</td>\n",
       "    </tr>\n",
       "    <tr>\n",
       "      <th>4</th>\n",
       "      <td>Москва, ЦАО, р-н Хамовники, Комсомольский прос...</td>\n",
       "      <td>48.0</td>\n",
       "      <td>NaN</td>\n",
       "      <td>67.3</td>\n",
       "      <td>37900000.0</td>\n",
       "      <td>563150.0</td>\n",
       "      <td>4</td>\n",
       "      <td>5</td>\n",
       "      <td>10.0</td>\n",
       "      <td>пешком</td>\n",
       "      <td>55.721731</td>\n",
       "      <td>37.572899</td>\n",
       "    </tr>\n",
       "  </tbody>\n",
       "</table>\n",
       "</div>"
      ],
      "text/plain": [
       "                                               Адрес  Жилая  Кухня  Общая  \\\n",
       "0  Московская область, Мытищи, мкр. Ярославский, ...   24.0   10.0   48.0   \n",
       "1  Москва, ЗАО, р-н Дорогомилово, Кутузовский про...   45.0    NaN   64.0   \n",
       "2  Москва, ЦАО, р-н Тверской, 1-й Колобовский пер...   23.4    8.9   40.0   \n",
       "3    Москва, ЗАО, р-н Раменки, Мосфильмовская ул., 8   63.0   20.0   98.0   \n",
       "4  Москва, ЦАО, р-н Хамовники, Комсомольский прос...   48.0    NaN   67.3   \n",
       "\n",
       "         Цена  Цена за квадрат  Этаж  Этажность здания  Время  \\\n",
       "0   6550000.0         136458.0    12                25   15.0   \n",
       "1  26000000.0         406250.0     4                 7   13.0   \n",
       "2  18000000.0         450000.0     2                 3    5.0   \n",
       "3  59900000.0         611224.0    33                54   11.0   \n",
       "4  37900000.0         563150.0     4                 5   10.0   \n",
       "\n",
       "  Способ передвижения     Широта    Долгота  \n",
       "0       на транспорте  55.913162  37.713063  \n",
       "1              пешком  55.750727  37.562272  \n",
       "2              пешком  55.769216  37.617411  \n",
       "3       на транспорте  55.723257  37.527660  \n",
       "4              пешком  55.721731  37.572899  "
      ]
     },
     "execution_count": 316,
     "metadata": {},
     "output_type": "execute_result"
    }
   ],
   "source": [
    "df = pd.read_csv('clean_data.csv')\n",
    "df.head()"
   ]
  },
  {
   "cell_type": "code",
   "execution_count": 317,
   "metadata": {},
   "outputs": [],
   "source": [
    "df['Цена'] = df['Цена'] / 1_000_000"
   ]
  },
  {
   "cell_type": "code",
   "execution_count": 318,
   "metadata": {},
   "outputs": [],
   "source": [
    "df= df.drop(columns='Адрес', axis=1)"
   ]
  },
  {
   "cell_type": "code",
   "execution_count": 319,
   "metadata": {},
   "outputs": [],
   "source": [
    "from sklearn import preprocessing\n",
    "le = preprocessing.LabelEncoder()\n",
    "df['Способ передвижения'] = le.fit_transform(df['Способ передвижения'])"
   ]
  },
  {
   "cell_type": "code",
   "execution_count": 320,
   "metadata": {
    "scrolled": false
   },
   "outputs": [
    {
     "data": {
      "text/html": [
       "<div>\n",
       "<style scoped>\n",
       "    .dataframe tbody tr th:only-of-type {\n",
       "        vertical-align: middle;\n",
       "    }\n",
       "\n",
       "    .dataframe tbody tr th {\n",
       "        vertical-align: top;\n",
       "    }\n",
       "\n",
       "    .dataframe thead th {\n",
       "        text-align: right;\n",
       "    }\n",
       "</style>\n",
       "<table border=\"1\" class=\"dataframe\">\n",
       "  <thead>\n",
       "    <tr style=\"text-align: right;\">\n",
       "      <th></th>\n",
       "      <th>Жилая</th>\n",
       "      <th>Кухня</th>\n",
       "      <th>Общая</th>\n",
       "      <th>Цена</th>\n",
       "      <th>Цена за квадрат</th>\n",
       "      <th>Этаж</th>\n",
       "      <th>Этажность здания</th>\n",
       "      <th>Время</th>\n",
       "      <th>Способ передвижения</th>\n",
       "      <th>Широта</th>\n",
       "      <th>Долгота</th>\n",
       "    </tr>\n",
       "  </thead>\n",
       "  <tbody>\n",
       "    <tr>\n",
       "      <th>0</th>\n",
       "      <td>24.0</td>\n",
       "      <td>10.0</td>\n",
       "      <td>48.0</td>\n",
       "      <td>6.55</td>\n",
       "      <td>136458.0</td>\n",
       "      <td>12</td>\n",
       "      <td>25</td>\n",
       "      <td>15.0</td>\n",
       "      <td>0</td>\n",
       "      <td>55.913162</td>\n",
       "      <td>37.713063</td>\n",
       "    </tr>\n",
       "    <tr>\n",
       "      <th>1</th>\n",
       "      <td>45.0</td>\n",
       "      <td>NaN</td>\n",
       "      <td>64.0</td>\n",
       "      <td>26.00</td>\n",
       "      <td>406250.0</td>\n",
       "      <td>4</td>\n",
       "      <td>7</td>\n",
       "      <td>13.0</td>\n",
       "      <td>1</td>\n",
       "      <td>55.750727</td>\n",
       "      <td>37.562272</td>\n",
       "    </tr>\n",
       "    <tr>\n",
       "      <th>2</th>\n",
       "      <td>23.4</td>\n",
       "      <td>8.9</td>\n",
       "      <td>40.0</td>\n",
       "      <td>18.00</td>\n",
       "      <td>450000.0</td>\n",
       "      <td>2</td>\n",
       "      <td>3</td>\n",
       "      <td>5.0</td>\n",
       "      <td>1</td>\n",
       "      <td>55.769216</td>\n",
       "      <td>37.617411</td>\n",
       "    </tr>\n",
       "    <tr>\n",
       "      <th>3</th>\n",
       "      <td>63.0</td>\n",
       "      <td>20.0</td>\n",
       "      <td>98.0</td>\n",
       "      <td>59.90</td>\n",
       "      <td>611224.0</td>\n",
       "      <td>33</td>\n",
       "      <td>54</td>\n",
       "      <td>11.0</td>\n",
       "      <td>0</td>\n",
       "      <td>55.723257</td>\n",
       "      <td>37.527660</td>\n",
       "    </tr>\n",
       "    <tr>\n",
       "      <th>4</th>\n",
       "      <td>48.0</td>\n",
       "      <td>NaN</td>\n",
       "      <td>67.3</td>\n",
       "      <td>37.90</td>\n",
       "      <td>563150.0</td>\n",
       "      <td>4</td>\n",
       "      <td>5</td>\n",
       "      <td>10.0</td>\n",
       "      <td>1</td>\n",
       "      <td>55.721731</td>\n",
       "      <td>37.572899</td>\n",
       "    </tr>\n",
       "  </tbody>\n",
       "</table>\n",
       "</div>"
      ],
      "text/plain": [
       "   Жилая  Кухня  Общая   Цена  Цена за квадрат  Этаж  Этажность здания  Время  \\\n",
       "0   24.0   10.0   48.0   6.55         136458.0    12                25   15.0   \n",
       "1   45.0    NaN   64.0  26.00         406250.0     4                 7   13.0   \n",
       "2   23.4    8.9   40.0  18.00         450000.0     2                 3    5.0   \n",
       "3   63.0   20.0   98.0  59.90         611224.0    33                54   11.0   \n",
       "4   48.0    NaN   67.3  37.90         563150.0     4                 5   10.0   \n",
       "\n",
       "   Способ передвижения     Широта    Долгота  \n",
       "0                    0  55.913162  37.713063  \n",
       "1                    1  55.750727  37.562272  \n",
       "2                    1  55.769216  37.617411  \n",
       "3                    0  55.723257  37.527660  \n",
       "4                    1  55.721731  37.572899  "
      ]
     },
     "execution_count": 320,
     "metadata": {},
     "output_type": "execute_result"
    }
   ],
   "source": [
    "df.head()"
   ]
  },
  {
   "cell_type": "code",
   "execution_count": 321,
   "metadata": {},
   "outputs": [],
   "source": [
    "X = df.drop(columns=['Цена', 'Цена за квадрат'], axis=1)\n",
    "y = df['Цена']"
   ]
  },
  {
   "cell_type": "code",
   "execution_count": 322,
   "metadata": {},
   "outputs": [],
   "source": [
    "X_train, X_test, y_train, y_test = model_selection.train_test_split(X, y, test_size=0.33, random_state=42)"
   ]
  },
  {
   "cell_type": "code",
   "execution_count": 323,
   "metadata": {},
   "outputs": [],
   "source": [
    "from sklearn.impute import SimpleImputer\n",
    "imputer = SimpleImputer(missing_values=np.nan, strategy='median')"
   ]
  },
  {
   "cell_type": "code",
   "execution_count": 324,
   "metadata": {
    "scrolled": false
   },
   "outputs": [],
   "source": [
    "imputer.fit(X_train)\n",
    "X_train = imputer.transform(X_train)\n",
    "X_test = imputer.transform(X_test)"
   ]
  },
  {
   "cell_type": "code",
   "execution_count": 325,
   "metadata": {},
   "outputs": [],
   "source": [
    "from sklearn import linear_model"
   ]
  },
  {
   "cell_type": "code",
   "execution_count": 326,
   "metadata": {},
   "outputs": [
    {
     "data": {
      "text/plain": [
       "LinearRegression(copy_X=True, fit_intercept=True, n_jobs=None,\n",
       "         normalize=False)"
      ]
     },
     "execution_count": 326,
     "metadata": {},
     "output_type": "execute_result"
    }
   ],
   "source": [
    "lr = linear_model.LinearRegression()\n",
    "lr.fit(X_train, y_train)"
   ]
  },
  {
   "cell_type": "code",
   "execution_count": 327,
   "metadata": {},
   "outputs": [],
   "source": [
    "from sklearn import metrics"
   ]
  },
  {
   "cell_type": "code",
   "execution_count": 328,
   "metadata": {},
   "outputs": [
    {
     "data": {
      "text/plain": [
       "7.751037359329597"
      ]
     },
     "execution_count": 328,
     "metadata": {},
     "output_type": "execute_result"
    }
   ],
   "source": [
    "metrics.mean_absolute_error(y_train, lr.predict(X_train))"
   ]
  },
  {
   "cell_type": "code",
   "execution_count": 329,
   "metadata": {
    "scrolled": false
   },
   "outputs": [
    {
     "data": {
      "text/plain": [
       "7.678177170991042"
      ]
     },
     "execution_count": 329,
     "metadata": {},
     "output_type": "execute_result"
    }
   ],
   "source": [
    "metrics.mean_absolute_error(y_test, lr.predict(X_test))"
   ]
  },
  {
   "cell_type": "code",
   "execution_count": 330,
   "metadata": {},
   "outputs": [
    {
     "data": {
      "text/plain": [
       "StandardScaler(copy=True, with_mean=True, with_std=True)"
      ]
     },
     "execution_count": 330,
     "metadata": {},
     "output_type": "execute_result"
    }
   ],
   "source": [
    "scale = preprocessing.StandardScaler()\n",
    "scale.fit(X_train)"
   ]
  },
  {
   "cell_type": "code",
   "execution_count": 331,
   "metadata": {},
   "outputs": [],
   "source": [
    "X_train_norm = scale.transform(X_train)\n",
    "X_test_norm = scale.transform(X_test)"
   ]
  },
  {
   "cell_type": "code",
   "execution_count": 332,
   "metadata": {},
   "outputs": [
    {
     "data": {
      "text/plain": [
       "StandardScaler(copy=True, with_mean=True, with_std=True)"
      ]
     },
     "execution_count": 332,
     "metadata": {},
     "output_type": "execute_result"
    }
   ],
   "source": [
    "scale_target = preprocessing.StandardScaler()\n",
    "scale_target.fit(y_train.values.reshape(-1, 1))"
   ]
  },
  {
   "cell_type": "code",
   "execution_count": 333,
   "metadata": {},
   "outputs": [],
   "source": [
    "y_train_norm = scale_target.transform(y_train.values.reshape(-1, 1))\n",
    "y_test_norm = scale_target.transform(y_test.values.reshape(-1, 1))"
   ]
  },
  {
   "cell_type": "code",
   "execution_count": 334,
   "metadata": {
    "scrolled": false
   },
   "outputs": [
    {
     "data": {
      "text/plain": [
       "LinearRegression(copy_X=True, fit_intercept=True, n_jobs=None,\n",
       "         normalize=False)"
      ]
     },
     "execution_count": 334,
     "metadata": {},
     "output_type": "execute_result"
    }
   ],
   "source": [
    "lr1 = linear_model.LinearRegression()\n",
    "lr1.fit(X_train_norm, y_train_norm)"
   ]
  },
  {
   "cell_type": "code",
   "execution_count": 335,
   "metadata": {},
   "outputs": [
    {
     "data": {
      "text/plain": [
       "0.36673406990701507"
      ]
     },
     "execution_count": 335,
     "metadata": {},
     "output_type": "execute_result"
    }
   ],
   "source": [
    "metrics.mean_absolute_error(y_test_norm, lr1.predict(X_test_norm))"
   ]
  },
  {
   "cell_type": "code",
   "execution_count": 336,
   "metadata": {},
   "outputs": [
    {
     "data": {
      "text/plain": [
       "Ridge(alpha=10.0, copy_X=True, fit_intercept=True, max_iter=None,\n",
       "   normalize=False, random_state=None, solver='auto', tol=0.001)"
      ]
     },
     "execution_count": 336,
     "metadata": {},
     "output_type": "execute_result"
    }
   ],
   "source": [
    "lr_r = linear_model.Ridge(alpha=10.0)\n",
    "lr_r.fit(X_train_norm, y_train)"
   ]
  },
  {
   "cell_type": "code",
   "execution_count": 337,
   "metadata": {},
   "outputs": [
    {
     "data": {
      "text/plain": [
       "7.749170908633046"
      ]
     },
     "execution_count": 337,
     "metadata": {},
     "output_type": "execute_result"
    }
   ],
   "source": [
    "metrics.mean_absolute_error(y_train, lr_r.predict(X_train_norm))"
   ]
  },
  {
   "cell_type": "code",
   "execution_count": 338,
   "metadata": {},
   "outputs": [
    {
     "data": {
      "text/plain": [
       "7.678327428776928"
      ]
     },
     "execution_count": 338,
     "metadata": {},
     "output_type": "execute_result"
    }
   ],
   "source": [
    "metrics.mean_absolute_error(y_test, lr_r.predict(X_test_norm))"
   ]
  },
  {
   "cell_type": "code",
   "execution_count": 339,
   "metadata": {},
   "outputs": [],
   "source": [
    "import xgboost"
   ]
  },
  {
   "cell_type": "code",
   "execution_count": 340,
   "metadata": {},
   "outputs": [
    {
     "data": {
      "text/plain": [
       "XGBRegressor(base_score=0.5, booster=None, colsample_bylevel=1,\n",
       "       colsample_bynode=1, colsample_bytree=1, gamma=0, gpu_id=-1,\n",
       "       importance_type='gain', interaction_constraints=None,\n",
       "       learning_rate=0.05, max_delta_step=0, max_depth=10,\n",
       "       min_child_weight=1, min_samples_split=2, missing=nan,\n",
       "       monotone_constraints=None, n_estimators=1000, n_jobs=0,\n",
       "       num_parallel_tree=1, objective='reg:squarederror', random_state=0,\n",
       "       reg_alpha=0, reg_lambda=1, scale_pos_weight=1, silent=True,\n",
       "       subsample=1, tree_method=None, validate_parameters=False,\n",
       "       verbosity=None)"
      ]
     },
     "execution_count": 340,
     "metadata": {},
     "output_type": "execute_result"
    }
   ],
   "source": [
    "params = {\n",
    "    \"n_estimators\": 1000,\n",
    "    \"max_depth\": 10,\n",
    "    \"min_samples_split\": 2,\n",
    "    \"learning_rate\": 0.05,\n",
    "}\n",
    "xgb = xgboost.XGBRegressor(**params, silent=True)\n",
    "xgb.fit(X_train_norm, y_train)"
   ]
  },
  {
   "cell_type": "code",
   "execution_count": 341,
   "metadata": {},
   "outputs": [
    {
     "data": {
      "text/plain": [
       "3.08901970057062"
      ]
     },
     "execution_count": 341,
     "metadata": {},
     "output_type": "execute_result"
    }
   ],
   "source": [
    "metrics.mean_absolute_error(y_test, xgb.predict(X_test_norm))"
   ]
  },
  {
   "cell_type": "code",
   "execution_count": 342,
   "metadata": {},
   "outputs": [],
   "source": [
    "poly = preprocessing.PolynomialFeatures(2, interaction_only=True)"
   ]
  },
  {
   "cell_type": "code",
   "execution_count": 343,
   "metadata": {},
   "outputs": [
    {
     "data": {
      "text/plain": [
       "XGBRegressor(base_score=0.5, booster=None, colsample_bylevel=1,\n",
       "       colsample_bynode=1, colsample_bytree=1, gamma=0, gpu_id=-1,\n",
       "       importance_type='gain', interaction_constraints=None,\n",
       "       learning_rate=0.05, max_delta_step=0, max_depth=10,\n",
       "       min_child_weight=1, min_samples_split=2, missing=nan,\n",
       "       monotone_constraints=None, n_estimators=1000, n_jobs=0,\n",
       "       num_parallel_tree=1, objective='reg:squarederror', random_state=0,\n",
       "       reg_alpha=0, reg_lambda=1, scale_pos_weight=1, silent=True,\n",
       "       subsample=1, tree_method=None, validate_parameters=False,\n",
       "       verbosity=None)"
      ]
     },
     "execution_count": 343,
     "metadata": {},
     "output_type": "execute_result"
    }
   ],
   "source": [
    "xgb1 = xgboost.XGBRegressor(**params, silent=True)\n",
    "xgb1.fit(poly.fit_transform(X_train_norm), y_train)"
   ]
  },
  {
   "cell_type": "code",
   "execution_count": 344,
   "metadata": {},
   "outputs": [
    {
     "data": {
      "text/plain": [
       "3.534173664612331"
      ]
     },
     "execution_count": 344,
     "metadata": {},
     "output_type": "execute_result"
    }
   ],
   "source": [
    "metrics.mean_absolute_error(y_test, xgb1.predict(poly.fit_transform(X_test_norm)))"
   ]
  }
 ],
 "metadata": {
  "kernelspec": {
   "display_name": "Python 3",
   "language": "python",
   "name": "python3"
  },
  "language_info": {
   "codemirror_mode": {
    "name": "ipython",
    "version": 3
   },
   "file_extension": ".py",
   "mimetype": "text/x-python",
   "name": "python",
   "nbconvert_exporter": "python",
   "pygments_lexer": "ipython3",
   "version": "3.7.3"
  }
 },
 "nbformat": 4,
 "nbformat_minor": 2
}
