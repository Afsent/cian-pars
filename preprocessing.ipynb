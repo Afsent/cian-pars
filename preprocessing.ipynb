{
 "cells": [
  {
   "cell_type": "markdown",
   "metadata": {},
   "source": [
    "Посмотрим на наши данные"
   ]
  },
  {
   "cell_type": "code",
   "execution_count": 93,
   "metadata": {},
   "outputs": [],
   "source": [
    "import pandas as pd"
   ]
  },
  {
   "cell_type": "code",
   "execution_count": 94,
   "metadata": {
    "scrolled": false
   },
   "outputs": [
    {
     "data": {
      "text/html": [
       "<div>\n",
       "<style scoped>\n",
       "    .dataframe tbody tr th:only-of-type {\n",
       "        vertical-align: middle;\n",
       "    }\n",
       "\n",
       "    .dataframe tbody tr th {\n",
       "        vertical-align: top;\n",
       "    }\n",
       "\n",
       "    .dataframe thead th {\n",
       "        text-align: right;\n",
       "    }\n",
       "</style>\n",
       "<table border=\"1\" class=\"dataframe\">\n",
       "  <thead>\n",
       "    <tr style=\"text-align: right;\">\n",
       "      <th></th>\n",
       "      <th>Аварийность</th>\n",
       "      <th>Адрес</th>\n",
       "      <th>Безопасность</th>\n",
       "      <th>Газоснабжение</th>\n",
       "      <th>Год постройки</th>\n",
       "      <th>Жилая</th>\n",
       "      <th>Инфраструктура</th>\n",
       "      <th>Кухня</th>\n",
       "      <th>Лифты</th>\n",
       "      <th>Метро 0</th>\n",
       "      <th>...</th>\n",
       "      <th>Построен</th>\n",
       "      <th>Срок сдачи</th>\n",
       "      <th>Строительная серия</th>\n",
       "      <th>Тип дома</th>\n",
       "      <th>Тип перекрытий</th>\n",
       "      <th>Транспорт</th>\n",
       "      <th>Цена</th>\n",
       "      <th>Цена за квадрат</th>\n",
       "      <th>Экология</th>\n",
       "      <th>Этаж</th>\n",
       "    </tr>\n",
       "  </thead>\n",
       "  <tbody>\n",
       "    <tr>\n",
       "      <th>0</th>\n",
       "      <td>Нет</td>\n",
       "      <td>Московская область, Мытищи, мкр. Ярославский, ...</td>\n",
       "      <td>NaN</td>\n",
       "      <td>NaN</td>\n",
       "      <td>2012.0</td>\n",
       "      <td>24 м²</td>\n",
       "      <td>NaN</td>\n",
       "      <td>10 м²</td>\n",
       "      <td>2 пассажирских, 1 грузовой</td>\n",
       "      <td>⋅  15 мин. на транспорте</td>\n",
       "      <td>...</td>\n",
       "      <td>2012.0</td>\n",
       "      <td>NaN</td>\n",
       "      <td>КОПЭ Парус</td>\n",
       "      <td>Панельный</td>\n",
       "      <td>Железобетонные</td>\n",
       "      <td>NaN</td>\n",
       "      <td>6550000.0</td>\n",
       "      <td>136 458</td>\n",
       "      <td>NaN</td>\n",
       "      <td>12 из 25</td>\n",
       "    </tr>\n",
       "    <tr>\n",
       "      <th>1</th>\n",
       "      <td>Нет</td>\n",
       "      <td>Москва, ЗАО, р-н Дорогомилово, Кутузовский про...</td>\n",
       "      <td>NaN</td>\n",
       "      <td>Центральное</td>\n",
       "      <td>1957.0</td>\n",
       "      <td>45 м²</td>\n",
       "      <td>NaN</td>\n",
       "      <td>NaN</td>\n",
       "      <td>Нет</td>\n",
       "      <td>⋅  13 мин. пешком</td>\n",
       "      <td>...</td>\n",
       "      <td>1934.0</td>\n",
       "      <td>NaN</td>\n",
       "      <td>NaN</td>\n",
       "      <td>Кирпичный</td>\n",
       "      <td>Железобетонные</td>\n",
       "      <td>NaN</td>\n",
       "      <td>26000000.0</td>\n",
       "      <td>406 250</td>\n",
       "      <td>NaN</td>\n",
       "      <td>4 из 7</td>\n",
       "    </tr>\n",
       "    <tr>\n",
       "      <th>2</th>\n",
       "      <td>Нет</td>\n",
       "      <td>Москва, ЦАО, р-н Тверской, 1-й Колобовский пер...</td>\n",
       "      <td>NaN</td>\n",
       "      <td>NaN</td>\n",
       "      <td>1917.0</td>\n",
       "      <td>23,4 м²</td>\n",
       "      <td>NaN</td>\n",
       "      <td>8,9 м²</td>\n",
       "      <td>Нет</td>\n",
       "      <td>⋅  5 мин. пешком</td>\n",
       "      <td>...</td>\n",
       "      <td>1917.0</td>\n",
       "      <td>NaN</td>\n",
       "      <td>NaN</td>\n",
       "      <td>Кирпичный</td>\n",
       "      <td>Деревянные</td>\n",
       "      <td>NaN</td>\n",
       "      <td>18000000.0</td>\n",
       "      <td>450 000</td>\n",
       "      <td>NaN</td>\n",
       "      <td>2 из 3</td>\n",
       "    </tr>\n",
       "    <tr>\n",
       "      <th>3</th>\n",
       "      <td>Нет</td>\n",
       "      <td>Москва, ЗАО, р-н Раменки, Мосфильмовская ул., 8</td>\n",
       "      <td>NaN</td>\n",
       "      <td>NaN</td>\n",
       "      <td>2011.0</td>\n",
       "      <td>63 м²</td>\n",
       "      <td>NaN</td>\n",
       "      <td>20 м²</td>\n",
       "      <td>Нет</td>\n",
       "      <td>⋅  11 мин. на транспорте</td>\n",
       "      <td>...</td>\n",
       "      <td>NaN</td>\n",
       "      <td>NaN</td>\n",
       "      <td>NaN</td>\n",
       "      <td>Монолитный</td>\n",
       "      <td>Железобетонные</td>\n",
       "      <td>NaN</td>\n",
       "      <td>59900000.0</td>\n",
       "      <td>611 224</td>\n",
       "      <td>NaN</td>\n",
       "      <td>33 из 54</td>\n",
       "    </tr>\n",
       "    <tr>\n",
       "      <th>4</th>\n",
       "      <td>Нет</td>\n",
       "      <td>Москва, ЦАО, р-н Хамовники, Комсомольский прос...</td>\n",
       "      <td>NaN</td>\n",
       "      <td>NaN</td>\n",
       "      <td>2014.0</td>\n",
       "      <td>48 м²</td>\n",
       "      <td>NaN</td>\n",
       "      <td>NaN</td>\n",
       "      <td>1 пассажирский</td>\n",
       "      <td>⋅  10 мин. пешком</td>\n",
       "      <td>...</td>\n",
       "      <td>NaN</td>\n",
       "      <td>NaN</td>\n",
       "      <td>NaN</td>\n",
       "      <td>Монолитный</td>\n",
       "      <td>NaN</td>\n",
       "      <td>NaN</td>\n",
       "      <td>37900000.0</td>\n",
       "      <td>563 150</td>\n",
       "      <td>NaN</td>\n",
       "      <td>4 из 5</td>\n",
       "    </tr>\n",
       "  </tbody>\n",
       "</table>\n",
       "<p>5 rows × 30 columns</p>\n",
       "</div>"
      ],
      "text/plain": [
       "  Аварийность                                              Адрес  \\\n",
       "0         Нет  Московская область, Мытищи, мкр. Ярославский, ...   \n",
       "1         Нет  Москва, ЗАО, р-н Дорогомилово, Кутузовский про...   \n",
       "2         Нет  Москва, ЦАО, р-н Тверской, 1-й Колобовский пер...   \n",
       "3         Нет    Москва, ЗАО, р-н Раменки, Мосфильмовская ул., 8   \n",
       "4         Нет  Москва, ЦАО, р-н Хамовники, Комсомольский прос...   \n",
       "\n",
       "   Безопасность Газоснабжение  Год постройки    Жилая  Инфраструктура   Кухня  \\\n",
       "0           NaN           NaN         2012.0    24 м²             NaN   10 м²   \n",
       "1           NaN   Центральное         1957.0    45 м²             NaN     NaN   \n",
       "2           NaN           NaN         1917.0  23,4 м²             NaN  8,9 м²   \n",
       "3           NaN           NaN         2011.0    63 м²             NaN   20 м²   \n",
       "4           NaN           NaN         2014.0    48 м²             NaN     NaN   \n",
       "\n",
       "                        Лифты                    Метро 0  ... Построен  \\\n",
       "0  2 пассажирских, 1 грузовой   ⋅  15 мин. на транспорте  ...   2012.0   \n",
       "1                         Нет          ⋅  13 мин. пешком  ...   1934.0   \n",
       "2                         Нет           ⋅  5 мин. пешком  ...   1917.0   \n",
       "3                         Нет   ⋅  11 мин. на транспорте  ...      NaN   \n",
       "4              1 пассажирский          ⋅  10 мин. пешком  ...      NaN   \n",
       "\n",
       "  Срок сдачи Строительная серия    Тип дома  Тип перекрытий Транспорт  \\\n",
       "0        NaN         КОПЭ Парус   Панельный  Железобетонные       NaN   \n",
       "1        NaN                NaN   Кирпичный  Железобетонные       NaN   \n",
       "2        NaN                NaN   Кирпичный      Деревянные       NaN   \n",
       "3        NaN                NaN  Монолитный  Железобетонные       NaN   \n",
       "4        NaN                NaN  Монолитный             NaN       NaN   \n",
       "\n",
       "         Цена Цена за квадрат  Экология      Этаж  \n",
       "0   6550000.0         136 458       NaN  12 из 25  \n",
       "1  26000000.0         406 250       NaN    4 из 7  \n",
       "2  18000000.0         450 000       NaN    2 из 3  \n",
       "3  59900000.0         611 224       NaN  33 из 54  \n",
       "4  37900000.0         563 150       NaN    4 из 5  \n",
       "\n",
       "[5 rows x 30 columns]"
      ]
     },
     "execution_count": 94,
     "metadata": {},
     "output_type": "execute_result"
    }
   ],
   "source": [
    "df = pd.read_csv('cian.csv')\n",
    "df.head()"
   ]
  },
  {
   "cell_type": "code",
   "execution_count": 95,
   "metadata": {},
   "outputs": [
    {
     "name": "stdout",
     "output_type": "stream",
     "text": [
      "<class 'pandas.core.frame.DataFrame'>\n",
      "RangeIndex: 5995 entries, 0 to 5994\n",
      "Data columns (total 30 columns):\n",
      "Аварийность                2767 non-null object\n",
      "Адрес                      5992 non-null object\n",
      "Безопасность               0 non-null float64\n",
      "Газоснабжение              665 non-null object\n",
      "Год постройки              2720 non-null float64\n",
      "Жилая                      4743 non-null object\n",
      "Инфраструктура             0 non-null float64\n",
      "Кухня                      4703 non-null object\n",
      "Лифты                      4968 non-null object\n",
      "Метро 0                    5802 non-null object\n",
      "Метро 1                    4197 non-null object\n",
      "Метро 2                    3295 non-null object\n",
      "Мусоропровод               1375 non-null object\n",
      "Название                   5992 non-null object\n",
      "Общая                      5992 non-null object\n",
      "Отопление                  2351 non-null object\n",
      "Отрицательное соседство    0 non-null float64\n",
      "Парковка                   2722 non-null object\n",
      "Подъезды                   2436 non-null float64\n",
      "Положительное соседство    0 non-null float64\n",
      "Построен                   2230 non-null float64\n",
      "Срок сдачи                 1584 non-null object\n",
      "Строительная серия         490 non-null object\n",
      "Тип дома                   3213 non-null object\n",
      "Тип перекрытий             2306 non-null object\n",
      "Транспорт                  0 non-null float64\n",
      "Цена                       5992 non-null float64\n",
      "Цена за квадрат            5992 non-null object\n",
      "Экология                   0 non-null float64\n",
      "Этаж                       5992 non-null object\n",
      "dtypes: float64(10), object(20)\n",
      "memory usage: 1.4+ MB\n"
     ]
    }
   ],
   "source": [
    "df.info()"
   ]
  },
  {
   "cell_type": "code",
   "execution_count": 96,
   "metadata": {},
   "outputs": [
    {
     "data": {
      "text/html": [
       "<div>\n",
       "<style scoped>\n",
       "    .dataframe tbody tr th:only-of-type {\n",
       "        vertical-align: middle;\n",
       "    }\n",
       "\n",
       "    .dataframe tbody tr th {\n",
       "        vertical-align: top;\n",
       "    }\n",
       "\n",
       "    .dataframe thead th {\n",
       "        text-align: right;\n",
       "    }\n",
       "</style>\n",
       "<table border=\"1\" class=\"dataframe\">\n",
       "  <thead>\n",
       "    <tr style=\"text-align: right;\">\n",
       "      <th></th>\n",
       "      <th>Безопасность</th>\n",
       "      <th>Год постройки</th>\n",
       "      <th>Инфраструктура</th>\n",
       "      <th>Отрицательное соседство</th>\n",
       "      <th>Подъезды</th>\n",
       "      <th>Положительное соседство</th>\n",
       "      <th>Построен</th>\n",
       "      <th>Транспорт</th>\n",
       "      <th>Цена</th>\n",
       "      <th>Экология</th>\n",
       "    </tr>\n",
       "  </thead>\n",
       "  <tbody>\n",
       "    <tr>\n",
       "      <th>count</th>\n",
       "      <td>0.0</td>\n",
       "      <td>2720.000000</td>\n",
       "      <td>0.0</td>\n",
       "      <td>0.0</td>\n",
       "      <td>2436.000000</td>\n",
       "      <td>0.0</td>\n",
       "      <td>2230.000000</td>\n",
       "      <td>0.0</td>\n",
       "      <td>5.992000e+03</td>\n",
       "      <td>0.0</td>\n",
       "    </tr>\n",
       "    <tr>\n",
       "      <th>mean</th>\n",
       "      <td>NaN</td>\n",
       "      <td>1997.523529</td>\n",
       "      <td>NaN</td>\n",
       "      <td>NaN</td>\n",
       "      <td>4.822660</td>\n",
       "      <td>NaN</td>\n",
       "      <td>1998.917937</td>\n",
       "      <td>NaN</td>\n",
       "      <td>1.851656e+07</td>\n",
       "      <td>NaN</td>\n",
       "    </tr>\n",
       "    <tr>\n",
       "      <th>std</th>\n",
       "      <td>NaN</td>\n",
       "      <td>25.971570</td>\n",
       "      <td>NaN</td>\n",
       "      <td>NaN</td>\n",
       "      <td>3.879043</td>\n",
       "      <td>NaN</td>\n",
       "      <td>24.183870</td>\n",
       "      <td>NaN</td>\n",
       "      <td>4.131836e+07</td>\n",
       "      <td>NaN</td>\n",
       "    </tr>\n",
       "    <tr>\n",
       "      <th>min</th>\n",
       "      <td>NaN</td>\n",
       "      <td>1847.000000</td>\n",
       "      <td>NaN</td>\n",
       "      <td>NaN</td>\n",
       "      <td>1.000000</td>\n",
       "      <td>NaN</td>\n",
       "      <td>1847.000000</td>\n",
       "      <td>NaN</td>\n",
       "      <td>1.200000e+06</td>\n",
       "      <td>NaN</td>\n",
       "    </tr>\n",
       "    <tr>\n",
       "      <th>25%</th>\n",
       "      <td>NaN</td>\n",
       "      <td>1979.000000</td>\n",
       "      <td>NaN</td>\n",
       "      <td>NaN</td>\n",
       "      <td>2.000000</td>\n",
       "      <td>NaN</td>\n",
       "      <td>1980.250000</td>\n",
       "      <td>NaN</td>\n",
       "      <td>6.900000e+06</td>\n",
       "      <td>NaN</td>\n",
       "    </tr>\n",
       "    <tr>\n",
       "      <th>50%</th>\n",
       "      <td>NaN</td>\n",
       "      <td>2010.000000</td>\n",
       "      <td>NaN</td>\n",
       "      <td>NaN</td>\n",
       "      <td>4.000000</td>\n",
       "      <td>NaN</td>\n",
       "      <td>2011.000000</td>\n",
       "      <td>NaN</td>\n",
       "      <td>1.094500e+07</td>\n",
       "      <td>NaN</td>\n",
       "    </tr>\n",
       "    <tr>\n",
       "      <th>75%</th>\n",
       "      <td>NaN</td>\n",
       "      <td>2016.000000</td>\n",
       "      <td>NaN</td>\n",
       "      <td>NaN</td>\n",
       "      <td>6.000000</td>\n",
       "      <td>NaN</td>\n",
       "      <td>2017.000000</td>\n",
       "      <td>NaN</td>\n",
       "      <td>1.976374e+07</td>\n",
       "      <td>NaN</td>\n",
       "    </tr>\n",
       "    <tr>\n",
       "      <th>max</th>\n",
       "      <td>NaN</td>\n",
       "      <td>2019.000000</td>\n",
       "      <td>NaN</td>\n",
       "      <td>NaN</td>\n",
       "      <td>24.000000</td>\n",
       "      <td>NaN</td>\n",
       "      <td>2020.000000</td>\n",
       "      <td>NaN</td>\n",
       "      <td>2.600000e+09</td>\n",
       "      <td>NaN</td>\n",
       "    </tr>\n",
       "  </tbody>\n",
       "</table>\n",
       "</div>"
      ],
      "text/plain": [
       "       Безопасность  Год постройки  Инфраструктура  Отрицательное соседство  \\\n",
       "count           0.0    2720.000000             0.0                      0.0   \n",
       "mean            NaN    1997.523529             NaN                      NaN   \n",
       "std             NaN      25.971570             NaN                      NaN   \n",
       "min             NaN    1847.000000             NaN                      NaN   \n",
       "25%             NaN    1979.000000             NaN                      NaN   \n",
       "50%             NaN    2010.000000             NaN                      NaN   \n",
       "75%             NaN    2016.000000             NaN                      NaN   \n",
       "max             NaN    2019.000000             NaN                      NaN   \n",
       "\n",
       "          Подъезды  Положительное соседство     Построен  Транспорт  \\\n",
       "count  2436.000000                      0.0  2230.000000        0.0   \n",
       "mean      4.822660                      NaN  1998.917937        NaN   \n",
       "std       3.879043                      NaN    24.183870        NaN   \n",
       "min       1.000000                      NaN  1847.000000        NaN   \n",
       "25%       2.000000                      NaN  1980.250000        NaN   \n",
       "50%       4.000000                      NaN  2011.000000        NaN   \n",
       "75%       6.000000                      NaN  2017.000000        NaN   \n",
       "max      24.000000                      NaN  2020.000000        NaN   \n",
       "\n",
       "               Цена  Экология  \n",
       "count  5.992000e+03       0.0  \n",
       "mean   1.851656e+07       NaN  \n",
       "std    4.131836e+07       NaN  \n",
       "min    1.200000e+06       NaN  \n",
       "25%    6.900000e+06       NaN  \n",
       "50%    1.094500e+07       NaN  \n",
       "75%    1.976374e+07       NaN  \n",
       "max    2.600000e+09       NaN  "
      ]
     },
     "execution_count": 96,
     "metadata": {},
     "output_type": "execute_result"
    }
   ],
   "source": [
    "df.describe()"
   ]
  },
  {
   "cell_type": "markdown",
   "metadata": {},
   "source": [
    "### Удалим все столбцы, в которых отсутсвует более 45% данных"
   ]
  },
  {
   "cell_type": "code",
   "execution_count": 97,
   "metadata": {
    "scrolled": true
   },
   "outputs": [
    {
     "data": {
      "text/plain": [
       "19"
      ]
     },
     "execution_count": 97,
     "metadata": {},
     "output_type": "execute_result"
    }
   ],
   "source": [
    "sum(df.isna().sum() / df.shape[0] > 0.45)"
   ]
  },
  {
   "cell_type": "code",
   "execution_count": 98,
   "metadata": {
    "scrolled": true
   },
   "outputs": [],
   "source": [
    "empty_data = df.isna().sum().sort_values()[-19:]"
   ]
  },
  {
   "cell_type": "code",
   "execution_count": 99,
   "metadata": {},
   "outputs": [],
   "source": [
    "df.drop(empty_data.index, axis=1, inplace=True)"
   ]
  },
  {
   "cell_type": "markdown",
   "metadata": {},
   "source": [
    "#### Удалим столбец с названием объявления, так как для обучения модели он не даст полезной информации"
   ]
  },
  {
   "cell_type": "code",
   "execution_count": 100,
   "metadata": {},
   "outputs": [],
   "source": [
    "df.drop('Название', axis=1, inplace=True)"
   ]
  },
  {
   "cell_type": "markdown",
   "metadata": {},
   "source": [
    "### Разделим столбец Этаж на два: фактический этаж квартиры и высота всего здания"
   ]
  },
  {
   "cell_type": "code",
   "execution_count": 101,
   "metadata": {},
   "outputs": [],
   "source": [
    "split_columns = df['Этаж'].str.split(' ', expand=True)"
   ]
  },
  {
   "cell_type": "code",
   "execution_count": 102,
   "metadata": {},
   "outputs": [],
   "source": [
    "df['Этаж'] = split_columns[0]\n",
    "df['Этажность здания'] = split_columns[2]"
   ]
  },
  {
   "cell_type": "markdown",
   "metadata": {},
   "source": [
    "### Очистим столбцы от ненужных символов"
   ]
  },
  {
   "cell_type": "code",
   "execution_count": 103,
   "metadata": {
    "scrolled": true
   },
   "outputs": [],
   "source": [
    "df['Жилая'] = df['Жилая'].str.split('\\xa0',  expand=True)\n",
    "df['Кухня'] = df['Кухня'].str.split('\\xa0',  expand=True)\n",
    "df['Общая'] = df['Общая'].str.split('\\xa0',  expand=True)"
   ]
  },
  {
   "cell_type": "code",
   "execution_count": 104,
   "metadata": {},
   "outputs": [],
   "source": [
    "df['Жилая'] = df['Жилая'].str.replace(',', '.').astype(float)\n",
    "df['Кухня'] = df['Кухня'].str.replace(',', '.').astype(float)\n",
    "df['Общая'] = df['Общая'].str.replace(' ', '')\n",
    "df['Общая'] = df['Общая'].str.replace(',', '.').astype(float)"
   ]
  },
  {
   "cell_type": "code",
   "execution_count": 105,
   "metadata": {},
   "outputs": [],
   "source": [
    "df['Цена за квадрат'] = df['Цена за квадрат'].str.replace(' ', '').astype(float)"
   ]
  },
  {
   "cell_type": "code",
   "execution_count": 106,
   "metadata": {
    "scrolled": false
   },
   "outputs": [
    {
     "data": {
      "text/html": [
       "<div>\n",
       "<style scoped>\n",
       "    .dataframe tbody tr th:only-of-type {\n",
       "        vertical-align: middle;\n",
       "    }\n",
       "\n",
       "    .dataframe tbody tr th {\n",
       "        vertical-align: top;\n",
       "    }\n",
       "\n",
       "    .dataframe thead th {\n",
       "        text-align: right;\n",
       "    }\n",
       "</style>\n",
       "<table border=\"1\" class=\"dataframe\">\n",
       "  <thead>\n",
       "    <tr style=\"text-align: right;\">\n",
       "      <th></th>\n",
       "      <th>Адрес</th>\n",
       "      <th>Жилая</th>\n",
       "      <th>Кухня</th>\n",
       "      <th>Лифты</th>\n",
       "      <th>Метро 0</th>\n",
       "      <th>Метро 1</th>\n",
       "      <th>Общая</th>\n",
       "      <th>Цена</th>\n",
       "      <th>Цена за квадрат</th>\n",
       "      <th>Этаж</th>\n",
       "      <th>Этажность здания</th>\n",
       "    </tr>\n",
       "  </thead>\n",
       "  <tbody>\n",
       "    <tr>\n",
       "      <th>0</th>\n",
       "      <td>Московская область, Мытищи, мкр. Ярославский, ...</td>\n",
       "      <td>24.0</td>\n",
       "      <td>10.0</td>\n",
       "      <td>2 пассажирских, 1 грузовой</td>\n",
       "      <td>⋅  15 мин. на транспорте</td>\n",
       "      <td>NaN</td>\n",
       "      <td>48.0</td>\n",
       "      <td>6550000.0</td>\n",
       "      <td>136458.0</td>\n",
       "      <td>12</td>\n",
       "      <td>25</td>\n",
       "    </tr>\n",
       "    <tr>\n",
       "      <th>1</th>\n",
       "      <td>Москва, ЗАО, р-н Дорогомилово, Кутузовский про...</td>\n",
       "      <td>45.0</td>\n",
       "      <td>NaN</td>\n",
       "      <td>Нет</td>\n",
       "      <td>⋅  13 мин. пешком</td>\n",
       "      <td>NaN</td>\n",
       "      <td>64.0</td>\n",
       "      <td>26000000.0</td>\n",
       "      <td>406250.0</td>\n",
       "      <td>4</td>\n",
       "      <td>7</td>\n",
       "    </tr>\n",
       "    <tr>\n",
       "      <th>2</th>\n",
       "      <td>Москва, ЦАО, р-н Тверской, 1-й Колобовский пер...</td>\n",
       "      <td>23.4</td>\n",
       "      <td>8.9</td>\n",
       "      <td>Нет</td>\n",
       "      <td>⋅  5 мин. пешком</td>\n",
       "      <td>NaN</td>\n",
       "      <td>40.0</td>\n",
       "      <td>18000000.0</td>\n",
       "      <td>450000.0</td>\n",
       "      <td>2</td>\n",
       "      <td>3</td>\n",
       "    </tr>\n",
       "    <tr>\n",
       "      <th>3</th>\n",
       "      <td>Москва, ЗАО, р-н Раменки, Мосфильмовская ул., 8</td>\n",
       "      <td>63.0</td>\n",
       "      <td>20.0</td>\n",
       "      <td>Нет</td>\n",
       "      <td>⋅  11 мин. на транспорте</td>\n",
       "      <td>⋅  5 мин. на транспорте</td>\n",
       "      <td>98.0</td>\n",
       "      <td>59900000.0</td>\n",
       "      <td>611224.0</td>\n",
       "      <td>33</td>\n",
       "      <td>54</td>\n",
       "    </tr>\n",
       "    <tr>\n",
       "      <th>4</th>\n",
       "      <td>Москва, ЦАО, р-н Хамовники, Комсомольский прос...</td>\n",
       "      <td>48.0</td>\n",
       "      <td>NaN</td>\n",
       "      <td>1 пассажирский</td>\n",
       "      <td>⋅  10 мин. пешком</td>\n",
       "      <td>NaN</td>\n",
       "      <td>67.3</td>\n",
       "      <td>37900000.0</td>\n",
       "      <td>563150.0</td>\n",
       "      <td>4</td>\n",
       "      <td>5</td>\n",
       "    </tr>\n",
       "  </tbody>\n",
       "</table>\n",
       "</div>"
      ],
      "text/plain": [
       "                                               Адрес  Жилая  Кухня  \\\n",
       "0  Московская область, Мытищи, мкр. Ярославский, ...   24.0   10.0   \n",
       "1  Москва, ЗАО, р-н Дорогомилово, Кутузовский про...   45.0    NaN   \n",
       "2  Москва, ЦАО, р-н Тверской, 1-й Колобовский пер...   23.4    8.9   \n",
       "3    Москва, ЗАО, р-н Раменки, Мосфильмовская ул., 8   63.0   20.0   \n",
       "4  Москва, ЦАО, р-н Хамовники, Комсомольский прос...   48.0    NaN   \n",
       "\n",
       "                        Лифты                    Метро 0  \\\n",
       "0  2 пассажирских, 1 грузовой   ⋅  15 мин. на транспорте   \n",
       "1                         Нет          ⋅  13 мин. пешком   \n",
       "2                         Нет           ⋅  5 мин. пешком   \n",
       "3                         Нет   ⋅  11 мин. на транспорте   \n",
       "4              1 пассажирский          ⋅  10 мин. пешком   \n",
       "\n",
       "                    Метро 1  Общая        Цена  Цена за квадрат Этаж  \\\n",
       "0                       NaN   48.0   6550000.0         136458.0   12   \n",
       "1                       NaN   64.0  26000000.0         406250.0    4   \n",
       "2                       NaN   40.0  18000000.0         450000.0    2   \n",
       "3   ⋅  5 мин. на транспорте   98.0  59900000.0         611224.0   33   \n",
       "4                       NaN   67.3  37900000.0         563150.0    4   \n",
       "\n",
       "  Этажность здания  \n",
       "0               25  \n",
       "1                7  \n",
       "2                3  \n",
       "3               54  \n",
       "4                5  "
      ]
     },
     "execution_count": 106,
     "metadata": {},
     "output_type": "execute_result"
    }
   ],
   "source": [
    "df.head()"
   ]
  },
  {
   "cell_type": "code",
   "execution_count": 107,
   "metadata": {},
   "outputs": [],
   "source": [
    "split_subway = df['Метро 0'].str.split(' ', n=5, expand=True)"
   ]
  },
  {
   "cell_type": "code",
   "execution_count": 108,
   "metadata": {},
   "outputs": [],
   "source": [
    "df['Время'] = split_subway[3]\n",
    "df['Способ передвижения'] = split_subway[5]"
   ]
  },
  {
   "cell_type": "code",
   "execution_count": 109,
   "metadata": {},
   "outputs": [
    {
     "data": {
      "text/html": [
       "<div>\n",
       "<style scoped>\n",
       "    .dataframe tbody tr th:only-of-type {\n",
       "        vertical-align: middle;\n",
       "    }\n",
       "\n",
       "    .dataframe tbody tr th {\n",
       "        vertical-align: top;\n",
       "    }\n",
       "\n",
       "    .dataframe thead th {\n",
       "        text-align: right;\n",
       "    }\n",
       "</style>\n",
       "<table border=\"1\" class=\"dataframe\">\n",
       "  <thead>\n",
       "    <tr style=\"text-align: right;\">\n",
       "      <th></th>\n",
       "      <th>Адрес</th>\n",
       "      <th>Жилая</th>\n",
       "      <th>Кухня</th>\n",
       "      <th>Лифты</th>\n",
       "      <th>Метро 0</th>\n",
       "      <th>Метро 1</th>\n",
       "      <th>Общая</th>\n",
       "      <th>Цена</th>\n",
       "      <th>Цена за квадрат</th>\n",
       "      <th>Этаж</th>\n",
       "      <th>Этажность здания</th>\n",
       "      <th>Время</th>\n",
       "      <th>Способ передвижения</th>\n",
       "    </tr>\n",
       "  </thead>\n",
       "  <tbody>\n",
       "    <tr>\n",
       "      <th>0</th>\n",
       "      <td>Московская область, Мытищи, мкр. Ярославский, ...</td>\n",
       "      <td>24.0</td>\n",
       "      <td>10.0</td>\n",
       "      <td>2 пассажирских, 1 грузовой</td>\n",
       "      <td>⋅  15 мин. на транспорте</td>\n",
       "      <td>NaN</td>\n",
       "      <td>48.0</td>\n",
       "      <td>6550000.0</td>\n",
       "      <td>136458.0</td>\n",
       "      <td>12</td>\n",
       "      <td>25</td>\n",
       "      <td>15</td>\n",
       "      <td>на транспорте</td>\n",
       "    </tr>\n",
       "    <tr>\n",
       "      <th>1</th>\n",
       "      <td>Москва, ЗАО, р-н Дорогомилово, Кутузовский про...</td>\n",
       "      <td>45.0</td>\n",
       "      <td>NaN</td>\n",
       "      <td>Нет</td>\n",
       "      <td>⋅  13 мин. пешком</td>\n",
       "      <td>NaN</td>\n",
       "      <td>64.0</td>\n",
       "      <td>26000000.0</td>\n",
       "      <td>406250.0</td>\n",
       "      <td>4</td>\n",
       "      <td>7</td>\n",
       "      <td>13</td>\n",
       "      <td>пешком</td>\n",
       "    </tr>\n",
       "    <tr>\n",
       "      <th>2</th>\n",
       "      <td>Москва, ЦАО, р-н Тверской, 1-й Колобовский пер...</td>\n",
       "      <td>23.4</td>\n",
       "      <td>8.9</td>\n",
       "      <td>Нет</td>\n",
       "      <td>⋅  5 мин. пешком</td>\n",
       "      <td>NaN</td>\n",
       "      <td>40.0</td>\n",
       "      <td>18000000.0</td>\n",
       "      <td>450000.0</td>\n",
       "      <td>2</td>\n",
       "      <td>3</td>\n",
       "      <td>5</td>\n",
       "      <td>пешком</td>\n",
       "    </tr>\n",
       "    <tr>\n",
       "      <th>3</th>\n",
       "      <td>Москва, ЗАО, р-н Раменки, Мосфильмовская ул., 8</td>\n",
       "      <td>63.0</td>\n",
       "      <td>20.0</td>\n",
       "      <td>Нет</td>\n",
       "      <td>⋅  11 мин. на транспорте</td>\n",
       "      <td>⋅  5 мин. на транспорте</td>\n",
       "      <td>98.0</td>\n",
       "      <td>59900000.0</td>\n",
       "      <td>611224.0</td>\n",
       "      <td>33</td>\n",
       "      <td>54</td>\n",
       "      <td>11</td>\n",
       "      <td>на транспорте</td>\n",
       "    </tr>\n",
       "    <tr>\n",
       "      <th>4</th>\n",
       "      <td>Москва, ЦАО, р-н Хамовники, Комсомольский прос...</td>\n",
       "      <td>48.0</td>\n",
       "      <td>NaN</td>\n",
       "      <td>1 пассажирский</td>\n",
       "      <td>⋅  10 мин. пешком</td>\n",
       "      <td>NaN</td>\n",
       "      <td>67.3</td>\n",
       "      <td>37900000.0</td>\n",
       "      <td>563150.0</td>\n",
       "      <td>4</td>\n",
       "      <td>5</td>\n",
       "      <td>10</td>\n",
       "      <td>пешком</td>\n",
       "    </tr>\n",
       "  </tbody>\n",
       "</table>\n",
       "</div>"
      ],
      "text/plain": [
       "                                               Адрес  Жилая  Кухня  \\\n",
       "0  Московская область, Мытищи, мкр. Ярославский, ...   24.0   10.0   \n",
       "1  Москва, ЗАО, р-н Дорогомилово, Кутузовский про...   45.0    NaN   \n",
       "2  Москва, ЦАО, р-н Тверской, 1-й Колобовский пер...   23.4    8.9   \n",
       "3    Москва, ЗАО, р-н Раменки, Мосфильмовская ул., 8   63.0   20.0   \n",
       "4  Москва, ЦАО, р-н Хамовники, Комсомольский прос...   48.0    NaN   \n",
       "\n",
       "                        Лифты                    Метро 0  \\\n",
       "0  2 пассажирских, 1 грузовой   ⋅  15 мин. на транспорте   \n",
       "1                         Нет          ⋅  13 мин. пешком   \n",
       "2                         Нет           ⋅  5 мин. пешком   \n",
       "3                         Нет   ⋅  11 мин. на транспорте   \n",
       "4              1 пассажирский          ⋅  10 мин. пешком   \n",
       "\n",
       "                    Метро 1  Общая        Цена  Цена за квадрат Этаж  \\\n",
       "0                       NaN   48.0   6550000.0         136458.0   12   \n",
       "1                       NaN   64.0  26000000.0         406250.0    4   \n",
       "2                       NaN   40.0  18000000.0         450000.0    2   \n",
       "3   ⋅  5 мин. на транспорте   98.0  59900000.0         611224.0   33   \n",
       "4                       NaN   67.3  37900000.0         563150.0    4   \n",
       "\n",
       "  Этажность здания Время Способ передвижения  \n",
       "0               25    15       на транспорте  \n",
       "1                7    13              пешком  \n",
       "2                3     5              пешком  \n",
       "3               54    11       на транспорте  \n",
       "4                5    10              пешком  "
      ]
     },
     "execution_count": 109,
     "metadata": {},
     "output_type": "execute_result"
    }
   ],
   "source": [
    "df.head()"
   ]
  },
  {
   "cell_type": "code",
   "execution_count": 110,
   "metadata": {},
   "outputs": [],
   "source": [
    "df = df.drop(['Метро 0', 'Метро 1'], axis=1)"
   ]
  },
  {
   "cell_type": "code",
   "execution_count": 111,
   "metadata": {},
   "outputs": [],
   "source": [
    "df = df.drop(['Лифты'], axis=1)"
   ]
  },
  {
   "cell_type": "code",
   "execution_count": 112,
   "metadata": {
    "scrolled": true
   },
   "outputs": [
    {
     "data": {
      "text/html": [
       "<div>\n",
       "<style scoped>\n",
       "    .dataframe tbody tr th:only-of-type {\n",
       "        vertical-align: middle;\n",
       "    }\n",
       "\n",
       "    .dataframe tbody tr th {\n",
       "        vertical-align: top;\n",
       "    }\n",
       "\n",
       "    .dataframe thead th {\n",
       "        text-align: right;\n",
       "    }\n",
       "</style>\n",
       "<table border=\"1\" class=\"dataframe\">\n",
       "  <thead>\n",
       "    <tr style=\"text-align: right;\">\n",
       "      <th></th>\n",
       "      <th>Адрес</th>\n",
       "      <th>Жилая</th>\n",
       "      <th>Кухня</th>\n",
       "      <th>Общая</th>\n",
       "      <th>Цена</th>\n",
       "      <th>Цена за квадрат</th>\n",
       "      <th>Этаж</th>\n",
       "      <th>Этажность здания</th>\n",
       "      <th>Время</th>\n",
       "      <th>Способ передвижения</th>\n",
       "    </tr>\n",
       "  </thead>\n",
       "  <tbody>\n",
       "    <tr>\n",
       "      <th>0</th>\n",
       "      <td>Московская область, Мытищи, мкр. Ярославский, ...</td>\n",
       "      <td>24.0</td>\n",
       "      <td>10.0</td>\n",
       "      <td>48.0</td>\n",
       "      <td>6550000.0</td>\n",
       "      <td>136458.0</td>\n",
       "      <td>12</td>\n",
       "      <td>25</td>\n",
       "      <td>15</td>\n",
       "      <td>на транспорте</td>\n",
       "    </tr>\n",
       "    <tr>\n",
       "      <th>1</th>\n",
       "      <td>Москва, ЗАО, р-н Дорогомилово, Кутузовский про...</td>\n",
       "      <td>45.0</td>\n",
       "      <td>NaN</td>\n",
       "      <td>64.0</td>\n",
       "      <td>26000000.0</td>\n",
       "      <td>406250.0</td>\n",
       "      <td>4</td>\n",
       "      <td>7</td>\n",
       "      <td>13</td>\n",
       "      <td>пешком</td>\n",
       "    </tr>\n",
       "    <tr>\n",
       "      <th>2</th>\n",
       "      <td>Москва, ЦАО, р-н Тверской, 1-й Колобовский пер...</td>\n",
       "      <td>23.4</td>\n",
       "      <td>8.9</td>\n",
       "      <td>40.0</td>\n",
       "      <td>18000000.0</td>\n",
       "      <td>450000.0</td>\n",
       "      <td>2</td>\n",
       "      <td>3</td>\n",
       "      <td>5</td>\n",
       "      <td>пешком</td>\n",
       "    </tr>\n",
       "    <tr>\n",
       "      <th>3</th>\n",
       "      <td>Москва, ЗАО, р-н Раменки, Мосфильмовская ул., 8</td>\n",
       "      <td>63.0</td>\n",
       "      <td>20.0</td>\n",
       "      <td>98.0</td>\n",
       "      <td>59900000.0</td>\n",
       "      <td>611224.0</td>\n",
       "      <td>33</td>\n",
       "      <td>54</td>\n",
       "      <td>11</td>\n",
       "      <td>на транспорте</td>\n",
       "    </tr>\n",
       "    <tr>\n",
       "      <th>4</th>\n",
       "      <td>Москва, ЦАО, р-н Хамовники, Комсомольский прос...</td>\n",
       "      <td>48.0</td>\n",
       "      <td>NaN</td>\n",
       "      <td>67.3</td>\n",
       "      <td>37900000.0</td>\n",
       "      <td>563150.0</td>\n",
       "      <td>4</td>\n",
       "      <td>5</td>\n",
       "      <td>10</td>\n",
       "      <td>пешком</td>\n",
       "    </tr>\n",
       "  </tbody>\n",
       "</table>\n",
       "</div>"
      ],
      "text/plain": [
       "                                               Адрес  Жилая  Кухня  Общая  \\\n",
       "0  Московская область, Мытищи, мкр. Ярославский, ...   24.0   10.0   48.0   \n",
       "1  Москва, ЗАО, р-н Дорогомилово, Кутузовский про...   45.0    NaN   64.0   \n",
       "2  Москва, ЦАО, р-н Тверской, 1-й Колобовский пер...   23.4    8.9   40.0   \n",
       "3    Москва, ЗАО, р-н Раменки, Мосфильмовская ул., 8   63.0   20.0   98.0   \n",
       "4  Москва, ЦАО, р-н Хамовники, Комсомольский прос...   48.0    NaN   67.3   \n",
       "\n",
       "         Цена  Цена за квадрат Этаж Этажность здания Время Способ передвижения  \n",
       "0   6550000.0         136458.0   12               25    15       на транспорте  \n",
       "1  26000000.0         406250.0    4                7    13              пешком  \n",
       "2  18000000.0         450000.0    2                3     5              пешком  \n",
       "3  59900000.0         611224.0   33               54    11       на транспорте  \n",
       "4  37900000.0         563150.0    4                5    10              пешком  "
      ]
     },
     "execution_count": 112,
     "metadata": {},
     "output_type": "execute_result"
    }
   ],
   "source": [
    "df.head()"
   ]
  },
  {
   "cell_type": "code",
   "execution_count": 113,
   "metadata": {},
   "outputs": [
    {
     "data": {
      "text/plain": [
       "Адрес                     3\n",
       "Общая                     3\n",
       "Цена                      3\n",
       "Цена за квадрат           3\n",
       "Этаж                      3\n",
       "Этажность здания          3\n",
       "Время                   193\n",
       "Способ передвижения     238\n",
       "Жилая                  1252\n",
       "Кухня                  1292\n",
       "dtype: int64"
      ]
     },
     "execution_count": 113,
     "metadata": {},
     "output_type": "execute_result"
    }
   ],
   "source": [
    "df.isna().sum().sort_values()"
   ]
  },
  {
   "cell_type": "markdown",
   "metadata": {},
   "source": [
    "Удалим строки, в которых значения таргета неизвестно"
   ]
  },
  {
   "cell_type": "code",
   "execution_count": 114,
   "metadata": {},
   "outputs": [],
   "source": [
    "df = df[df['Цена'].notna()]"
   ]
  },
  {
   "cell_type": "code",
   "execution_count": 115,
   "metadata": {
    "scrolled": true
   },
   "outputs": [
    {
     "data": {
      "text/plain": [
       "(232, 10)"
      ]
     },
     "execution_count": 115,
     "metadata": {},
     "output_type": "execute_result"
    }
   ],
   "source": [
    "df[df['Время'] == '<1'].shape"
   ]
  },
  {
   "cell_type": "code",
   "execution_count": 116,
   "metadata": {},
   "outputs": [],
   "source": [
    "df['Время'] = df['Время'].str.replace('<1', '0').astype(float)"
   ]
  },
  {
   "cell_type": "code",
   "execution_count": 118,
   "metadata": {},
   "outputs": [
    {
     "data": {
      "text/plain": [
       "<matplotlib.axes._subplots.AxesSubplot at 0x2131ec05c50>"
      ]
     },
     "execution_count": 118,
     "metadata": {},
     "output_type": "execute_result"
    },
    {
     "data": {
      "image/png": "[encoded data removed]",
      "text/plain": [
       "<Figure size 432x288 with 1 Axes>"
      ]
     },
     "metadata": {
      "needs_background": "light"
     },
     "output_type": "display_data"
    }
   ],
   "source": [
    "import seaborn as sns\n",
    "\n",
    "sns.kdeplot(df['Время'])"
   ]
  },
  {
   "cell_type": "code",
   "execution_count": 119,
   "metadata": {},
   "outputs": [],
   "source": [
    "df = df[df['Время'] < 100]"
   ]
  },
  {
   "cell_type": "code",
   "execution_count": 120,
   "metadata": {},
   "outputs": [],
   "source": [
    "df['Этаж'] = df['Этаж'].astype(int)\n",
    "df['Этажность здания'] = df['Этажность здания'].astype(int)"
   ]
  },
  {
   "cell_type": "markdown",
   "metadata": {},
   "source": [
    "Удалим строки, тип дома которых встречается редко"
   ]
  },
  {
   "cell_type": "code",
   "execution_count": 122,
   "metadata": {
    "scrolled": true
   },
   "outputs": [
    {
     "name": "stdout",
     "output_type": "stream",
     "text": [
      "<class 'pandas.core.frame.DataFrame'>\n",
      "Int64Index: 5750 entries, 0 to 5994\n",
      "Data columns (total 10 columns):\n",
      "Адрес                  5750 non-null object\n",
      "Жилая                  4590 non-null float64\n",
      "Кухня                  4574 non-null float64\n",
      "Общая                  5750 non-null float64\n",
      "Цена                   5750 non-null float64\n",
      "Цена за квадрат        5750 non-null float64\n",
      "Этаж                   5750 non-null int32\n",
      "Этажность здания       5750 non-null int32\n",
      "Время                  5750 non-null float64\n",
      "Способ передвижения    5750 non-null object\n",
      "dtypes: float64(6), int32(2), object(2)\n",
      "memory usage: 449.2+ KB\n"
     ]
    }
   ],
   "source": [
    "df.info()"
   ]
  },
  {
   "cell_type": "code",
   "execution_count": 123,
   "metadata": {},
   "outputs": [],
   "source": [
    "df.to_csv('clean_data.csv', index=False)"
   ]
  }
 ],
 "metadata": {
  "kernelspec": {
   "display_name": "Python 3",
   "language": "python",
   "name": "python3"
  },
  "language_info": {
   "codemirror_mode": {
    "name": "ipython",
    "version": 3
   },
   "file_extension": ".py",
   "mimetype": "text/x-python",
   "name": "python",
   "nbconvert_exporter": "python",
   "pygments_lexer": "ipython3",
   "version": "3.7.3"
  }
 },
 "nbformat": 4,
 "nbformat_minor": 2
}
