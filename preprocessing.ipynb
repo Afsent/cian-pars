{
 "cells": [
  {
   "cell_type": "markdown",
   "metadata": {},
   "source": [
    "Посмотрим на наши данные"
   ]
  },
  {
   "cell_type": "code",
   "execution_count": 54,
   "metadata": {},
   "outputs": [],
   "source": [
    "import pandas as pd\n",
    "import warnings\n",
    "\n",
    "warnings.filterwarnings(\"ignore\")"
   ]
  },
  {
   "cell_type": "code",
   "execution_count": 55,
   "metadata": {},
   "outputs": [
    {
     "data": {
      "text/html": [
       "<div>\n",
       "<style scoped>\n",
       "    .dataframe tbody tr th:only-of-type {\n",
       "        vertical-align: middle;\n",
       "    }\n",
       "\n",
       "    .dataframe tbody tr th {\n",
       "        vertical-align: top;\n",
       "    }\n",
       "\n",
       "    .dataframe thead th {\n",
       "        text-align: right;\n",
       "    }\n",
       "</style>\n",
       "<table border=\"1\" class=\"dataframe\">\n",
       "  <thead>\n",
       "    <tr style=\"text-align: right;\">\n",
       "      <th></th>\n",
       "      <th>Аварийность</th>\n",
       "      <th>Адрес</th>\n",
       "      <th>Безопасность</th>\n",
       "      <th>Время до метро</th>\n",
       "      <th>Газоснабжение</th>\n",
       "      <th>Год постройки</th>\n",
       "      <th>Жилая</th>\n",
       "      <th>Инфраструктура</th>\n",
       "      <th>Кухня</th>\n",
       "      <th>Лифты</th>\n",
       "      <th>...</th>\n",
       "      <th>Построен</th>\n",
       "      <th>Срок сдачи</th>\n",
       "      <th>Строительная серия</th>\n",
       "      <th>Тип дома</th>\n",
       "      <th>Тип перекрытий</th>\n",
       "      <th>Транспорт</th>\n",
       "      <th>Цена</th>\n",
       "      <th>Цена за квадрат</th>\n",
       "      <th>Экология</th>\n",
       "      <th>Этаж</th>\n",
       "    </tr>\n",
       "  </thead>\n",
       "  <tbody>\n",
       "    <tr>\n",
       "      <th>0</th>\n",
       "      <td>Нет</td>\n",
       "      <td>Московская область, Мытищи, мкр. Ярославский, ...</td>\n",
       "      <td>NaN</td>\n",
       "      <td>⋅  15 мин. на транспорте</td>\n",
       "      <td>NaN</td>\n",
       "      <td>2012.0</td>\n",
       "      <td>24 м²</td>\n",
       "      <td>NaN</td>\n",
       "      <td>10 м²</td>\n",
       "      <td>2 пассажирских, 1 грузовой</td>\n",
       "      <td>...</td>\n",
       "      <td>2012.0</td>\n",
       "      <td>NaN</td>\n",
       "      <td>КОПЭ Парус</td>\n",
       "      <td>Панельный</td>\n",
       "      <td>Железобетонные</td>\n",
       "      <td>NaN</td>\n",
       "      <td>6550000.0</td>\n",
       "      <td>136 458</td>\n",
       "      <td>NaN</td>\n",
       "      <td>12 из 25</td>\n",
       "    </tr>\n",
       "    <tr>\n",
       "      <th>1</th>\n",
       "      <td>Нет</td>\n",
       "      <td>Москва, ЗАО, р-н Дорогомилово, Кутузовский про...</td>\n",
       "      <td>NaN</td>\n",
       "      <td>⋅  13 мин. пешком</td>\n",
       "      <td>Центральное</td>\n",
       "      <td>1957.0</td>\n",
       "      <td>45 м²</td>\n",
       "      <td>NaN</td>\n",
       "      <td>NaN</td>\n",
       "      <td>Нет</td>\n",
       "      <td>...</td>\n",
       "      <td>1934.0</td>\n",
       "      <td>NaN</td>\n",
       "      <td>NaN</td>\n",
       "      <td>Кирпичный</td>\n",
       "      <td>Железобетонные</td>\n",
       "      <td>NaN</td>\n",
       "      <td>26000000.0</td>\n",
       "      <td>406 250</td>\n",
       "      <td>NaN</td>\n",
       "      <td>4 из 7</td>\n",
       "    </tr>\n",
       "    <tr>\n",
       "      <th>2</th>\n",
       "      <td>Нет</td>\n",
       "      <td>Москва, ЦАО, р-н Тверской, 1-й Колобовский пер...</td>\n",
       "      <td>NaN</td>\n",
       "      <td>⋅  5 мин. пешком</td>\n",
       "      <td>NaN</td>\n",
       "      <td>1917.0</td>\n",
       "      <td>23,4 м²</td>\n",
       "      <td>NaN</td>\n",
       "      <td>8,9 м²</td>\n",
       "      <td>Нет</td>\n",
       "      <td>...</td>\n",
       "      <td>1917.0</td>\n",
       "      <td>NaN</td>\n",
       "      <td>NaN</td>\n",
       "      <td>Кирпичный</td>\n",
       "      <td>Деревянные</td>\n",
       "      <td>NaN</td>\n",
       "      <td>18000000.0</td>\n",
       "      <td>450 000</td>\n",
       "      <td>NaN</td>\n",
       "      <td>2 из 3</td>\n",
       "    </tr>\n",
       "    <tr>\n",
       "      <th>3</th>\n",
       "      <td>Нет</td>\n",
       "      <td>Москва, ЗАО, р-н Раменки, Мосфильмовская ул., 8</td>\n",
       "      <td>NaN</td>\n",
       "      <td>⋅  11 мин. на транспорте</td>\n",
       "      <td>NaN</td>\n",
       "      <td>2011.0</td>\n",
       "      <td>63 м²</td>\n",
       "      <td>NaN</td>\n",
       "      <td>20 м²</td>\n",
       "      <td>Нет</td>\n",
       "      <td>...</td>\n",
       "      <td>NaN</td>\n",
       "      <td>NaN</td>\n",
       "      <td>NaN</td>\n",
       "      <td>Монолитный</td>\n",
       "      <td>Железобетонные</td>\n",
       "      <td>NaN</td>\n",
       "      <td>59900000.0</td>\n",
       "      <td>611 224</td>\n",
       "      <td>NaN</td>\n",
       "      <td>33 из 54</td>\n",
       "    </tr>\n",
       "    <tr>\n",
       "      <th>4</th>\n",
       "      <td>Нет</td>\n",
       "      <td>Москва, ЦАО, р-н Хамовники, Комсомольский прос...</td>\n",
       "      <td>NaN</td>\n",
       "      <td>⋅  10 мин. пешком</td>\n",
       "      <td>NaN</td>\n",
       "      <td>2014.0</td>\n",
       "      <td>48 м²</td>\n",
       "      <td>NaN</td>\n",
       "      <td>NaN</td>\n",
       "      <td>1 пассажирский</td>\n",
       "      <td>...</td>\n",
       "      <td>NaN</td>\n",
       "      <td>NaN</td>\n",
       "      <td>NaN</td>\n",
       "      <td>Монолитный</td>\n",
       "      <td>NaN</td>\n",
       "      <td>NaN</td>\n",
       "      <td>37900000.0</td>\n",
       "      <td>563 150</td>\n",
       "      <td>NaN</td>\n",
       "      <td>4 из 5</td>\n",
       "    </tr>\n",
       "  </tbody>\n",
       "</table>\n",
       "<p>5 rows × 29 columns</p>\n",
       "</div>"
      ],
      "text/plain": [
       "  Аварийность                                              Адрес  \\\n",
       "0         Нет  Московская область, Мытищи, мкр. Ярославский, ...   \n",
       "1         Нет  Москва, ЗАО, р-н Дорогомилово, Кутузовский про...   \n",
       "2         Нет  Москва, ЦАО, р-н Тверской, 1-й Колобовский пер...   \n",
       "3         Нет    Москва, ЗАО, р-н Раменки, Мосфильмовская ул., 8   \n",
       "4         Нет  Москва, ЦАО, р-н Хамовники, Комсомольский прос...   \n",
       "\n",
       "   Безопасность             Время до метро Газоснабжение  Год постройки  \\\n",
       "0           NaN   ⋅  15 мин. на транспорте           NaN         2012.0   \n",
       "1           NaN          ⋅  13 мин. пешком   Центральное         1957.0   \n",
       "2           NaN           ⋅  5 мин. пешком           NaN         1917.0   \n",
       "3           NaN   ⋅  11 мин. на транспорте           NaN         2011.0   \n",
       "4           NaN          ⋅  10 мин. пешком           NaN         2014.0   \n",
       "\n",
       "     Жилая  Инфраструктура   Кухня                       Лифты  ... Построен  \\\n",
       "0    24 м²             NaN   10 м²  2 пассажирских, 1 грузовой  ...   2012.0   \n",
       "1    45 м²             NaN     NaN                         Нет  ...   1934.0   \n",
       "2  23,4 м²             NaN  8,9 м²                         Нет  ...   1917.0   \n",
       "3    63 м²             NaN   20 м²                         Нет  ...      NaN   \n",
       "4    48 м²             NaN     NaN              1 пассажирский  ...      NaN   \n",
       "\n",
       "  Срок сдачи Строительная серия    Тип дома  Тип перекрытий  Транспорт  \\\n",
       "0        NaN         КОПЭ Парус   Панельный  Железобетонные        NaN   \n",
       "1        NaN                NaN   Кирпичный  Железобетонные        NaN   \n",
       "2        NaN                NaN   Кирпичный      Деревянные        NaN   \n",
       "3        NaN                NaN  Монолитный  Железобетонные        NaN   \n",
       "4        NaN                NaN  Монолитный             NaN        NaN   \n",
       "\n",
       "         Цена  Цена за квадрат  Экология      Этаж  \n",
       "0   6550000.0          136 458       NaN  12 из 25  \n",
       "1  26000000.0          406 250       NaN    4 из 7  \n",
       "2  18000000.0          450 000       NaN    2 из 3  \n",
       "3  59900000.0          611 224       NaN  33 из 54  \n",
       "4  37900000.0          563 150       NaN    4 из 5  \n",
       "\n",
       "[5 rows x 29 columns]"
      ]
     },
     "execution_count": 55,
     "metadata": {},
     "output_type": "execute_result"
    }
   ],
   "source": [
    "df = pd.read_csv('cian.csv')\n",
    "df.head()"
   ]
  },
  {
   "cell_type": "code",
   "execution_count": 56,
   "metadata": {},
   "outputs": [
    {
     "name": "stdout",
     "output_type": "stream",
     "text": [
      "<class 'pandas.core.frame.DataFrame'>\n",
      "RangeIndex: 5995 entries, 0 to 5994\n",
      "Data columns (total 29 columns):\n",
      "Аварийность                2767 non-null object\n",
      "Адрес                      5992 non-null object\n",
      "Безопасность               0 non-null float64\n",
      "Время до метро             5845 non-null object\n",
      "Газоснабжение              665 non-null object\n",
      "Год постройки              2720 non-null float64\n",
      "Жилая                      4743 non-null object\n",
      "Инфраструктура             0 non-null float64\n",
      "Кухня                      4703 non-null object\n",
      "Лифты                      4968 non-null object\n",
      "Метро                      5986 non-null object\n",
      "Мусоропровод               1375 non-null object\n",
      "Название                   5992 non-null object\n",
      "Общая                      5992 non-null object\n",
      "Отопление                  2351 non-null object\n",
      "Отрицательное соседство    0 non-null float64\n",
      "Парковка                   2722 non-null object\n",
      "Подъезды                   2436 non-null float64\n",
      "Положительное соседство    0 non-null float64\n",
      "Построен                   2230 non-null float64\n",
      "Срок сдачи                 1584 non-null object\n",
      "Строительная серия         490 non-null object\n",
      "Тип дома                   3213 non-null object\n",
      "Тип перекрытий             2306 non-null object\n",
      "Транспорт                  0 non-null float64\n",
      "Цена                       5992 non-null float64\n",
      "Цена за квадрат            5992 non-null object\n",
      "Экология                   0 non-null float64\n",
      "Этаж                       5992 non-null object\n",
      "dtypes: float64(10), object(19)\n",
      "memory usage: 1.3+ MB\n"
     ]
    }
   ],
   "source": [
    "df.info()"
   ]
  },
  {
   "cell_type": "code",
   "execution_count": 57,
   "metadata": {},
   "outputs": [
    {
     "data": {
      "text/html": [
       "<div>\n",
       "<style scoped>\n",
       "    .dataframe tbody tr th:only-of-type {\n",
       "        vertical-align: middle;\n",
       "    }\n",
       "\n",
       "    .dataframe tbody tr th {\n",
       "        vertical-align: top;\n",
       "    }\n",
       "\n",
       "    .dataframe thead th {\n",
       "        text-align: right;\n",
       "    }\n",
       "</style>\n",
       "<table border=\"1\" class=\"dataframe\">\n",
       "  <thead>\n",
       "    <tr style=\"text-align: right;\">\n",
       "      <th></th>\n",
       "      <th>Безопасность</th>\n",
       "      <th>Год постройки</th>\n",
       "      <th>Инфраструктура</th>\n",
       "      <th>Отрицательное соседство</th>\n",
       "      <th>Подъезды</th>\n",
       "      <th>Положительное соседство</th>\n",
       "      <th>Построен</th>\n",
       "      <th>Транспорт</th>\n",
       "      <th>Цена</th>\n",
       "      <th>Экология</th>\n",
       "    </tr>\n",
       "  </thead>\n",
       "  <tbody>\n",
       "    <tr>\n",
       "      <th>count</th>\n",
       "      <td>0.0</td>\n",
       "      <td>2720.000000</td>\n",
       "      <td>0.0</td>\n",
       "      <td>0.0</td>\n",
       "      <td>2436.000000</td>\n",
       "      <td>0.0</td>\n",
       "      <td>2230.000000</td>\n",
       "      <td>0.0</td>\n",
       "      <td>5.992000e+03</td>\n",
       "      <td>0.0</td>\n",
       "    </tr>\n",
       "    <tr>\n",
       "      <th>mean</th>\n",
       "      <td>NaN</td>\n",
       "      <td>1997.523529</td>\n",
       "      <td>NaN</td>\n",
       "      <td>NaN</td>\n",
       "      <td>4.822660</td>\n",
       "      <td>NaN</td>\n",
       "      <td>1998.917937</td>\n",
       "      <td>NaN</td>\n",
       "      <td>1.851656e+07</td>\n",
       "      <td>NaN</td>\n",
       "    </tr>\n",
       "    <tr>\n",
       "      <th>std</th>\n",
       "      <td>NaN</td>\n",
       "      <td>25.971570</td>\n",
       "      <td>NaN</td>\n",
       "      <td>NaN</td>\n",
       "      <td>3.879043</td>\n",
       "      <td>NaN</td>\n",
       "      <td>24.183870</td>\n",
       "      <td>NaN</td>\n",
       "      <td>4.131836e+07</td>\n",
       "      <td>NaN</td>\n",
       "    </tr>\n",
       "    <tr>\n",
       "      <th>min</th>\n",
       "      <td>NaN</td>\n",
       "      <td>1847.000000</td>\n",
       "      <td>NaN</td>\n",
       "      <td>NaN</td>\n",
       "      <td>1.000000</td>\n",
       "      <td>NaN</td>\n",
       "      <td>1847.000000</td>\n",
       "      <td>NaN</td>\n",
       "      <td>1.200000e+06</td>\n",
       "      <td>NaN</td>\n",
       "    </tr>\n",
       "    <tr>\n",
       "      <th>25%</th>\n",
       "      <td>NaN</td>\n",
       "      <td>1979.000000</td>\n",
       "      <td>NaN</td>\n",
       "      <td>NaN</td>\n",
       "      <td>2.000000</td>\n",
       "      <td>NaN</td>\n",
       "      <td>1980.250000</td>\n",
       "      <td>NaN</td>\n",
       "      <td>6.900000e+06</td>\n",
       "      <td>NaN</td>\n",
       "    </tr>\n",
       "    <tr>\n",
       "      <th>50%</th>\n",
       "      <td>NaN</td>\n",
       "      <td>2010.000000</td>\n",
       "      <td>NaN</td>\n",
       "      <td>NaN</td>\n",
       "      <td>4.000000</td>\n",
       "      <td>NaN</td>\n",
       "      <td>2011.000000</td>\n",
       "      <td>NaN</td>\n",
       "      <td>1.094500e+07</td>\n",
       "      <td>NaN</td>\n",
       "    </tr>\n",
       "    <tr>\n",
       "      <th>75%</th>\n",
       "      <td>NaN</td>\n",
       "      <td>2016.000000</td>\n",
       "      <td>NaN</td>\n",
       "      <td>NaN</td>\n",
       "      <td>6.000000</td>\n",
       "      <td>NaN</td>\n",
       "      <td>2017.000000</td>\n",
       "      <td>NaN</td>\n",
       "      <td>1.976374e+07</td>\n",
       "      <td>NaN</td>\n",
       "    </tr>\n",
       "    <tr>\n",
       "      <th>max</th>\n",
       "      <td>NaN</td>\n",
       "      <td>2019.000000</td>\n",
       "      <td>NaN</td>\n",
       "      <td>NaN</td>\n",
       "      <td>24.000000</td>\n",
       "      <td>NaN</td>\n",
       "      <td>2020.000000</td>\n",
       "      <td>NaN</td>\n",
       "      <td>2.600000e+09</td>\n",
       "      <td>NaN</td>\n",
       "    </tr>\n",
       "  </tbody>\n",
       "</table>\n",
       "</div>"
      ],
      "text/plain": [
       "       Безопасность  Год постройки  Инфраструктура  Отрицательное соседство  \\\n",
       "count           0.0    2720.000000             0.0                      0.0   \n",
       "mean            NaN    1997.523529             NaN                      NaN   \n",
       "std             NaN      25.971570             NaN                      NaN   \n",
       "min             NaN    1847.000000             NaN                      NaN   \n",
       "25%             NaN    1979.000000             NaN                      NaN   \n",
       "50%             NaN    2010.000000             NaN                      NaN   \n",
       "75%             NaN    2016.000000             NaN                      NaN   \n",
       "max             NaN    2019.000000             NaN                      NaN   \n",
       "\n",
       "          Подъезды  Положительное соседство     Построен  Транспорт  \\\n",
       "count  2436.000000                      0.0  2230.000000        0.0   \n",
       "mean      4.822660                      NaN  1998.917937        NaN   \n",
       "std       3.879043                      NaN    24.183870        NaN   \n",
       "min       1.000000                      NaN  1847.000000        NaN   \n",
       "25%       2.000000                      NaN  1980.250000        NaN   \n",
       "50%       4.000000                      NaN  2011.000000        NaN   \n",
       "75%       6.000000                      NaN  2017.000000        NaN   \n",
       "max      24.000000                      NaN  2020.000000        NaN   \n",
       "\n",
       "               Цена  Экология  \n",
       "count  5.992000e+03       0.0  \n",
       "mean   1.851656e+07       NaN  \n",
       "std    4.131836e+07       NaN  \n",
       "min    1.200000e+06       NaN  \n",
       "25%    6.900000e+06       NaN  \n",
       "50%    1.094500e+07       NaN  \n",
       "75%    1.976374e+07       NaN  \n",
       "max    2.600000e+09       NaN  "
      ]
     },
     "execution_count": 57,
     "metadata": {},
     "output_type": "execute_result"
    }
   ],
   "source": [
    "df.describe()"
   ]
  },
  {
   "cell_type": "markdown",
   "metadata": {},
   "source": [
    "### Удалим все столбцы, в которых отсутсвует более 45% данных"
   ]
  },
  {
   "cell_type": "code",
   "execution_count": 58,
   "metadata": {
    "scrolled": true
   },
   "outputs": [
    {
     "data": {
      "text/plain": [
       "18"
      ]
     },
     "execution_count": 58,
     "metadata": {},
     "output_type": "execute_result"
    }
   ],
   "source": [
    "sum(df.isna().sum() / df.shape[0] > 0.45)"
   ]
  },
  {
   "cell_type": "code",
   "execution_count": 59,
   "metadata": {
    "scrolled": true
   },
   "outputs": [],
   "source": [
    "empty_data = df.isna().sum().sort_values()[-18:]"
   ]
  },
  {
   "cell_type": "code",
   "execution_count": 60,
   "metadata": {},
   "outputs": [],
   "source": [
    "df.drop(empty_data.index, axis=1, inplace=True)"
   ]
  },
  {
   "cell_type": "markdown",
   "metadata": {},
   "source": [
    "#### Удалим столбец с названием объявления, так как для обучения модели он не даст полезной информации"
   ]
  },
  {
   "cell_type": "code",
   "execution_count": 61,
   "metadata": {},
   "outputs": [],
   "source": [
    "df.drop('Название', axis=1, inplace=True)"
   ]
  },
  {
   "cell_type": "markdown",
   "metadata": {},
   "source": [
    "### Разделим столбец Этаж на два: фактический этаж квартиры и высота всего здания"
   ]
  },
  {
   "cell_type": "code",
   "execution_count": 62,
   "metadata": {},
   "outputs": [],
   "source": [
    "split_columns = df['Этаж'].str.split(' ', expand=True)"
   ]
  },
  {
   "cell_type": "code",
   "execution_count": 63,
   "metadata": {},
   "outputs": [],
   "source": [
    "df['Этаж'] = split_columns[0]\n",
    "df['Этажность здания'] = split_columns[2]"
   ]
  },
  {
   "cell_type": "markdown",
   "metadata": {},
   "source": [
    "### Очистим столбцы от ненужных символов"
   ]
  },
  {
   "cell_type": "code",
   "execution_count": 64,
   "metadata": {
    "scrolled": true
   },
   "outputs": [],
   "source": [
    "df['Жилая'] = df['Жилая'].str.split('\\xa0',  expand=True)\n",
    "df['Кухня'] = df['Кухня'].str.split('\\xa0',  expand=True)\n",
    "df['Общая'] = df['Общая'].str.split('\\xa0',  expand=True)"
   ]
  },
  {
   "cell_type": "code",
   "execution_count": 65,
   "metadata": {},
   "outputs": [],
   "source": [
    "df['Жилая'] = df['Жилая'].str.replace(',', '.').astype(float)\n",
    "df['Кухня'] = df['Кухня'].str.replace(',', '.').astype(float)\n",
    "df['Общая'] = df['Общая'].str.replace(' ', '')\n",
    "df['Общая'] = df['Общая'].str.replace(',', '.').astype(float)"
   ]
  },
  {
   "cell_type": "code",
   "execution_count": 66,
   "metadata": {},
   "outputs": [],
   "source": [
    "df['Цена за квадрат'] = df['Цена за квадрат'].str.replace(' ', '').astype(float)"
   ]
  },
  {
   "cell_type": "code",
   "execution_count": 67,
   "metadata": {
    "scrolled": false
   },
   "outputs": [
    {
     "data": {
      "text/html": [
       "<div>\n",
       "<style scoped>\n",
       "    .dataframe tbody tr th:only-of-type {\n",
       "        vertical-align: middle;\n",
       "    }\n",
       "\n",
       "    .dataframe tbody tr th {\n",
       "        vertical-align: top;\n",
       "    }\n",
       "\n",
       "    .dataframe thead th {\n",
       "        text-align: right;\n",
       "    }\n",
       "</style>\n",
       "<table border=\"1\" class=\"dataframe\">\n",
       "  <thead>\n",
       "    <tr style=\"text-align: right;\">\n",
       "      <th></th>\n",
       "      <th>Адрес</th>\n",
       "      <th>Время до метро</th>\n",
       "      <th>Жилая</th>\n",
       "      <th>Кухня</th>\n",
       "      <th>Лифты</th>\n",
       "      <th>Метро</th>\n",
       "      <th>Общая</th>\n",
       "      <th>Цена</th>\n",
       "      <th>Цена за квадрат</th>\n",
       "      <th>Этаж</th>\n",
       "      <th>Этажность здания</th>\n",
       "    </tr>\n",
       "  </thead>\n",
       "  <tbody>\n",
       "    <tr>\n",
       "      <th>0</th>\n",
       "      <td>Московская область, Мытищи, мкр. Ярославский, ...</td>\n",
       "      <td>⋅  15 мин. на транспорте</td>\n",
       "      <td>24.0</td>\n",
       "      <td>10.0</td>\n",
       "      <td>2 пассажирских, 1 грузовой</td>\n",
       "      <td>Медведково</td>\n",
       "      <td>48.0</td>\n",
       "      <td>6550000.0</td>\n",
       "      <td>136458.0</td>\n",
       "      <td>12</td>\n",
       "      <td>25</td>\n",
       "    </tr>\n",
       "    <tr>\n",
       "      <th>1</th>\n",
       "      <td>Москва, ЗАО, р-н Дорогомилово, Кутузовский про...</td>\n",
       "      <td>⋅  13 мин. пешком</td>\n",
       "      <td>45.0</td>\n",
       "      <td>NaN</td>\n",
       "      <td>Нет</td>\n",
       "      <td>Киевская</td>\n",
       "      <td>64.0</td>\n",
       "      <td>26000000.0</td>\n",
       "      <td>406250.0</td>\n",
       "      <td>4</td>\n",
       "      <td>7</td>\n",
       "    </tr>\n",
       "    <tr>\n",
       "      <th>2</th>\n",
       "      <td>Москва, ЦАО, р-н Тверской, 1-й Колобовский пер...</td>\n",
       "      <td>⋅  5 мин. пешком</td>\n",
       "      <td>23.4</td>\n",
       "      <td>8.9</td>\n",
       "      <td>Нет</td>\n",
       "      <td>Трубная</td>\n",
       "      <td>40.0</td>\n",
       "      <td>18000000.0</td>\n",
       "      <td>450000.0</td>\n",
       "      <td>2</td>\n",
       "      <td>3</td>\n",
       "    </tr>\n",
       "    <tr>\n",
       "      <th>3</th>\n",
       "      <td>Москва, ЗАО, р-н Раменки, Мосфильмовская ул., 8</td>\n",
       "      <td>⋅  11 мин. на транспорте</td>\n",
       "      <td>63.0</td>\n",
       "      <td>20.0</td>\n",
       "      <td>Нет</td>\n",
       "      <td>Парк Победы</td>\n",
       "      <td>98.0</td>\n",
       "      <td>59900000.0</td>\n",
       "      <td>611224.0</td>\n",
       "      <td>33</td>\n",
       "      <td>54</td>\n",
       "    </tr>\n",
       "    <tr>\n",
       "      <th>4</th>\n",
       "      <td>Москва, ЦАО, р-н Хамовники, Комсомольский прос...</td>\n",
       "      <td>⋅  10 мин. пешком</td>\n",
       "      <td>48.0</td>\n",
       "      <td>NaN</td>\n",
       "      <td>1 пассажирский</td>\n",
       "      <td>Спортивная</td>\n",
       "      <td>67.3</td>\n",
       "      <td>37900000.0</td>\n",
       "      <td>563150.0</td>\n",
       "      <td>4</td>\n",
       "      <td>5</td>\n",
       "    </tr>\n",
       "  </tbody>\n",
       "</table>\n",
       "</div>"
      ],
      "text/plain": [
       "                                               Адрес  \\\n",
       "0  Московская область, Мытищи, мкр. Ярославский, ...   \n",
       "1  Москва, ЗАО, р-н Дорогомилово, Кутузовский про...   \n",
       "2  Москва, ЦАО, р-н Тверской, 1-й Колобовский пер...   \n",
       "3    Москва, ЗАО, р-н Раменки, Мосфильмовская ул., 8   \n",
       "4  Москва, ЦАО, р-н Хамовники, Комсомольский прос...   \n",
       "\n",
       "              Время до метро  Жилая  Кухня                       Лифты  \\\n",
       "0   ⋅  15 мин. на транспорте   24.0   10.0  2 пассажирских, 1 грузовой   \n",
       "1          ⋅  13 мин. пешком   45.0    NaN                         Нет   \n",
       "2           ⋅  5 мин. пешком   23.4    8.9                         Нет   \n",
       "3   ⋅  11 мин. на транспорте   63.0   20.0                         Нет   \n",
       "4          ⋅  10 мин. пешком   48.0    NaN              1 пассажирский   \n",
       "\n",
       "         Метро  Общая        Цена  Цена за квадрат Этаж Этажность здания  \n",
       "0   Медведково   48.0   6550000.0         136458.0   12               25  \n",
       "1     Киевская   64.0  26000000.0         406250.0    4                7  \n",
       "2      Трубная   40.0  18000000.0         450000.0    2                3  \n",
       "3  Парк Победы   98.0  59900000.0         611224.0   33               54  \n",
       "4   Спортивная   67.3  37900000.0         563150.0    4                5  "
      ]
     },
     "execution_count": 67,
     "metadata": {},
     "output_type": "execute_result"
    }
   ],
   "source": [
    "df.head()"
   ]
  },
  {
   "cell_type": "code",
   "execution_count": 68,
   "metadata": {},
   "outputs": [],
   "source": [
    "split_subway = df['Время до метро'].str.split(' ', n=5, expand=True)"
   ]
  },
  {
   "cell_type": "code",
   "execution_count": 69,
   "metadata": {},
   "outputs": [],
   "source": [
    "df['Время'] = split_subway[3]\n",
    "df['Способ передвижения'] = split_subway[5]"
   ]
  },
  {
   "cell_type": "code",
   "execution_count": 70,
   "metadata": {},
   "outputs": [],
   "source": [
    "df = df.drop(['Лифты'], axis=1)"
   ]
  },
  {
   "cell_type": "code",
   "execution_count": 111,
   "metadata": {},
   "outputs": [],
   "source": [
    "df = df.drop(['Время до метро'], axis=1)"
   ]
  },
  {
   "cell_type": "code",
   "execution_count": 71,
   "metadata": {},
   "outputs": [
    {
     "data": {
      "text/html": [
       "<div>\n",
       "<style scoped>\n",
       "    .dataframe tbody tr th:only-of-type {\n",
       "        vertical-align: middle;\n",
       "    }\n",
       "\n",
       "    .dataframe tbody tr th {\n",
       "        vertical-align: top;\n",
       "    }\n",
       "\n",
       "    .dataframe thead th {\n",
       "        text-align: right;\n",
       "    }\n",
       "</style>\n",
       "<table border=\"1\" class=\"dataframe\">\n",
       "  <thead>\n",
       "    <tr style=\"text-align: right;\">\n",
       "      <th></th>\n",
       "      <th>Адрес</th>\n",
       "      <th>Время до метро</th>\n",
       "      <th>Жилая</th>\n",
       "      <th>Кухня</th>\n",
       "      <th>Метро</th>\n",
       "      <th>Общая</th>\n",
       "      <th>Цена</th>\n",
       "      <th>Цена за квадрат</th>\n",
       "      <th>Этаж</th>\n",
       "      <th>Этажность здания</th>\n",
       "      <th>Время</th>\n",
       "      <th>Способ передвижения</th>\n",
       "    </tr>\n",
       "  </thead>\n",
       "  <tbody>\n",
       "    <tr>\n",
       "      <th>0</th>\n",
       "      <td>Московская область, Мытищи, мкр. Ярославский, ...</td>\n",
       "      <td>⋅  15 мин. на транспорте</td>\n",
       "      <td>24.0</td>\n",
       "      <td>10.0</td>\n",
       "      <td>Медведково</td>\n",
       "      <td>48.0</td>\n",
       "      <td>6550000.0</td>\n",
       "      <td>136458.0</td>\n",
       "      <td>12</td>\n",
       "      <td>25</td>\n",
       "      <td>15</td>\n",
       "      <td>на транспорте</td>\n",
       "    </tr>\n",
       "    <tr>\n",
       "      <th>1</th>\n",
       "      <td>Москва, ЗАО, р-н Дорогомилово, Кутузовский про...</td>\n",
       "      <td>⋅  13 мин. пешком</td>\n",
       "      <td>45.0</td>\n",
       "      <td>NaN</td>\n",
       "      <td>Киевская</td>\n",
       "      <td>64.0</td>\n",
       "      <td>26000000.0</td>\n",
       "      <td>406250.0</td>\n",
       "      <td>4</td>\n",
       "      <td>7</td>\n",
       "      <td>13</td>\n",
       "      <td>пешком</td>\n",
       "    </tr>\n",
       "    <tr>\n",
       "      <th>2</th>\n",
       "      <td>Москва, ЦАО, р-н Тверской, 1-й Колобовский пер...</td>\n",
       "      <td>⋅  5 мин. пешком</td>\n",
       "      <td>23.4</td>\n",
       "      <td>8.9</td>\n",
       "      <td>Трубная</td>\n",
       "      <td>40.0</td>\n",
       "      <td>18000000.0</td>\n",
       "      <td>450000.0</td>\n",
       "      <td>2</td>\n",
       "      <td>3</td>\n",
       "      <td>5</td>\n",
       "      <td>пешком</td>\n",
       "    </tr>\n",
       "    <tr>\n",
       "      <th>3</th>\n",
       "      <td>Москва, ЗАО, р-н Раменки, Мосфильмовская ул., 8</td>\n",
       "      <td>⋅  11 мин. на транспорте</td>\n",
       "      <td>63.0</td>\n",
       "      <td>20.0</td>\n",
       "      <td>Парк Победы</td>\n",
       "      <td>98.0</td>\n",
       "      <td>59900000.0</td>\n",
       "      <td>611224.0</td>\n",
       "      <td>33</td>\n",
       "      <td>54</td>\n",
       "      <td>11</td>\n",
       "      <td>на транспорте</td>\n",
       "    </tr>\n",
       "    <tr>\n",
       "      <th>4</th>\n",
       "      <td>Москва, ЦАО, р-н Хамовники, Комсомольский прос...</td>\n",
       "      <td>⋅  10 мин. пешком</td>\n",
       "      <td>48.0</td>\n",
       "      <td>NaN</td>\n",
       "      <td>Спортивная</td>\n",
       "      <td>67.3</td>\n",
       "      <td>37900000.0</td>\n",
       "      <td>563150.0</td>\n",
       "      <td>4</td>\n",
       "      <td>5</td>\n",
       "      <td>10</td>\n",
       "      <td>пешком</td>\n",
       "    </tr>\n",
       "  </tbody>\n",
       "</table>\n",
       "</div>"
      ],
      "text/plain": [
       "                                               Адрес  \\\n",
       "0  Московская область, Мытищи, мкр. Ярославский, ...   \n",
       "1  Москва, ЗАО, р-н Дорогомилово, Кутузовский про...   \n",
       "2  Москва, ЦАО, р-н Тверской, 1-й Колобовский пер...   \n",
       "3    Москва, ЗАО, р-н Раменки, Мосфильмовская ул., 8   \n",
       "4  Москва, ЦАО, р-н Хамовники, Комсомольский прос...   \n",
       "\n",
       "              Время до метро  Жилая  Кухня        Метро  Общая        Цена  \\\n",
       "0   ⋅  15 мин. на транспорте   24.0   10.0   Медведково   48.0   6550000.0   \n",
       "1          ⋅  13 мин. пешком   45.0    NaN     Киевская   64.0  26000000.0   \n",
       "2           ⋅  5 мин. пешком   23.4    8.9      Трубная   40.0  18000000.0   \n",
       "3   ⋅  11 мин. на транспорте   63.0   20.0  Парк Победы   98.0  59900000.0   \n",
       "4          ⋅  10 мин. пешком   48.0    NaN   Спортивная   67.3  37900000.0   \n",
       "\n",
       "   Цена за квадрат Этаж Этажность здания Время Способ передвижения  \n",
       "0         136458.0   12               25    15       на транспорте  \n",
       "1         406250.0    4                7    13              пешком  \n",
       "2         450000.0    2                3     5              пешком  \n",
       "3         611224.0   33               54    11       на транспорте  \n",
       "4         563150.0    4                5    10              пешком  "
      ]
     },
     "execution_count": 71,
     "metadata": {},
     "output_type": "execute_result"
    }
   ],
   "source": [
    "df.head()"
   ]
  },
  {
   "cell_type": "code",
   "execution_count": 72,
   "metadata": {},
   "outputs": [
    {
     "data": {
      "text/plain": [
       "Адрес                     3\n",
       "Общая                     3\n",
       "Цена                      3\n",
       "Цена за квадрат           3\n",
       "Этаж                      3\n",
       "Этажность здания          3\n",
       "Метро                     9\n",
       "Время до метро          150\n",
       "Время                   150\n",
       "Способ передвижения     195\n",
       "Жилая                  1252\n",
       "Кухня                  1292\n",
       "dtype: int64"
      ]
     },
     "execution_count": 72,
     "metadata": {},
     "output_type": "execute_result"
    }
   ],
   "source": [
    "df.isna().sum().sort_values()"
   ]
  },
  {
   "cell_type": "markdown",
   "metadata": {},
   "source": [
    "Удалим строки, в которых значения таргета неизвестно"
   ]
  },
  {
   "cell_type": "code",
   "execution_count": 73,
   "metadata": {},
   "outputs": [],
   "source": [
    "df = df[df['Цена'].notna()]"
   ]
  },
  {
   "cell_type": "code",
   "execution_count": 74,
   "metadata": {
    "scrolled": true
   },
   "outputs": [
    {
     "data": {
      "text/plain": [
       "(232, 12)"
      ]
     },
     "execution_count": 74,
     "metadata": {},
     "output_type": "execute_result"
    }
   ],
   "source": [
    "df[df['Время'] == '<1'].shape"
   ]
  },
  {
   "cell_type": "code",
   "execution_count": 75,
   "metadata": {},
   "outputs": [],
   "source": [
    "df['Время'] = df['Время'].str.replace('<1', '0').astype(float)"
   ]
  },
  {
   "cell_type": "code",
   "execution_count": 76,
   "metadata": {},
   "outputs": [
    {
     "data": {
      "text/plain": [
       "<matplotlib.axes._subplots.AxesSubplot at 0x26c9f01d6d8>"
      ]
     },
     "execution_count": 76,
     "metadata": {},
     "output_type": "execute_result"
    },
    {
     "data": {
      "image/png": "[encoded data removed]",
      "text/plain": [
       "<Figure size 432x288 with 1 Axes>"
      ]
     },
     "metadata": {
      "needs_background": "light"
     },
     "output_type": "display_data"
    }
   ],
   "source": [
    "import seaborn as sns\n",
    "\n",
    "sns.kdeplot(df['Время'])"
   ]
  },
  {
   "cell_type": "code",
   "execution_count": 77,
   "metadata": {},
   "outputs": [],
   "source": [
    "df = df[df['Время'] < 30]"
   ]
  },
  {
   "cell_type": "code",
   "execution_count": 78,
   "metadata": {},
   "outputs": [],
   "source": [
    "df['Этаж'] = df['Этаж'].astype(int)\n",
    "df['Этажность здания'] = df['Этажность здания'].astype(int)"
   ]
  },
  {
   "cell_type": "code",
   "execution_count": 79,
   "metadata": {
    "scrolled": true
   },
   "outputs": [
    {
     "name": "stdout",
     "output_type": "stream",
     "text": [
      "<class 'pandas.core.frame.DataFrame'>\n",
      "Int64Index: 5440 entries, 0 to 5994\n",
      "Data columns (total 12 columns):\n",
      "Адрес                  5440 non-null object\n",
      "Время до метро         5440 non-null object\n",
      "Жилая                  4287 non-null float64\n",
      "Кухня                  4270 non-null float64\n",
      "Метро                  5440 non-null object\n",
      "Общая                  5440 non-null float64\n",
      "Цена                   5440 non-null float64\n",
      "Цена за квадрат        5440 non-null float64\n",
      "Этаж                   5440 non-null int32\n",
      "Этажность здания       5440 non-null int32\n",
      "Время                  5440 non-null float64\n",
      "Способ передвижения    5440 non-null object\n",
      "dtypes: float64(6), int32(2), object(4)\n",
      "memory usage: 510.0+ KB\n"
     ]
    }
   ],
   "source": [
    "df.info()"
   ]
  },
  {
   "cell_type": "code",
   "execution_count": 80,
   "metadata": {},
   "outputs": [
    {
     "data": {
      "text/plain": [
       "<matplotlib.axes._subplots.AxesSubplot at 0x26c9c2b1438>"
      ]
     },
     "execution_count": 80,
     "metadata": {},
     "output_type": "execute_result"
    },
    {
     "data": {
      "image/png": "[encoded data removed]",
      "text/plain": [
       "<Figure size 432x288 with 1 Axes>"
      ]
     },
     "metadata": {
      "needs_background": "light"
     },
     "output_type": "display_data"
    }
   ],
   "source": [
    "sns.kdeplot(df['Цена'])"
   ]
  },
  {
   "cell_type": "code",
   "execution_count": 81,
   "metadata": {
    "scrolled": true
   },
   "outputs": [
    {
     "data": {
      "text/html": [
       "<div>\n",
       "<style scoped>\n",
       "    .dataframe tbody tr th:only-of-type {\n",
       "        vertical-align: middle;\n",
       "    }\n",
       "\n",
       "    .dataframe tbody tr th {\n",
       "        vertical-align: top;\n",
       "    }\n",
       "\n",
       "    .dataframe thead th {\n",
       "        text-align: right;\n",
       "    }\n",
       "</style>\n",
       "<table border=\"1\" class=\"dataframe\">\n",
       "  <thead>\n",
       "    <tr style=\"text-align: right;\">\n",
       "      <th></th>\n",
       "      <th>Адрес</th>\n",
       "      <th>Время до метро</th>\n",
       "      <th>Жилая</th>\n",
       "      <th>Кухня</th>\n",
       "      <th>Метро</th>\n",
       "      <th>Общая</th>\n",
       "      <th>Цена</th>\n",
       "      <th>Цена за квадрат</th>\n",
       "      <th>Этаж</th>\n",
       "      <th>Этажность здания</th>\n",
       "      <th>Время</th>\n",
       "      <th>Способ передвижения</th>\n",
       "    </tr>\n",
       "  </thead>\n",
       "  <tbody>\n",
       "    <tr>\n",
       "      <th>54</th>\n",
       "      <td>Москва, ЦАО, р-н Тверской, ул. Охотный Ряд, 2</td>\n",
       "      <td>⋅  2 мин. пешком</td>\n",
       "      <td>NaN</td>\n",
       "      <td>NaN</td>\n",
       "      <td>Охотный ряд</td>\n",
       "      <td>360.0</td>\n",
       "      <td>5.603952e+08</td>\n",
       "      <td>1556653.0</td>\n",
       "      <td>9</td>\n",
       "      <td>11</td>\n",
       "      <td>2.0</td>\n",
       "      <td>пешком</td>\n",
       "    </tr>\n",
       "    <tr>\n",
       "      <th>2245</th>\n",
       "      <td>Москва, ЦАО, р-н Пресненский, наб. Пресненская...</td>\n",
       "      <td>⋅  5 мин. пешком</td>\n",
       "      <td>NaN</td>\n",
       "      <td>NaN</td>\n",
       "      <td>Международная</td>\n",
       "      <td>2181.0</td>\n",
       "      <td>2.600000e+09</td>\n",
       "      <td>1192114.0</td>\n",
       "      <td>95</td>\n",
       "      <td>97</td>\n",
       "      <td>5.0</td>\n",
       "      <td>пешком</td>\n",
       "    </tr>\n",
       "  </tbody>\n",
       "</table>\n",
       "</div>"
      ],
      "text/plain": [
       "                                                  Адрес     Время до метро  \\\n",
       "54        Москва, ЦАО, р-н Тверской, ул. Охотный Ряд, 2   ⋅  2 мин. пешком   \n",
       "2245  Москва, ЦАО, р-н Пресненский, наб. Пресненская...   ⋅  5 мин. пешком   \n",
       "\n",
       "      Жилая  Кухня          Метро   Общая          Цена  Цена за квадрат  \\\n",
       "54      NaN    NaN    Охотный ряд   360.0  5.603952e+08        1556653.0   \n",
       "2245    NaN    NaN  Международная  2181.0  2.600000e+09        1192114.0   \n",
       "\n",
       "      Этаж  Этажность здания  Время Способ передвижения  \n",
       "54       9                11    2.0              пешком  \n",
       "2245    95                97    5.0              пешком  "
      ]
     },
     "execution_count": 81,
     "metadata": {},
     "output_type": "execute_result"
    }
   ],
   "source": [
    "df[df['Цена'] > 5*10**8]"
   ]
  },
  {
   "cell_type": "code",
   "execution_count": 82,
   "metadata": {
    "scrolled": true
   },
   "outputs": [
    {
     "data": {
      "text/html": [
       "<div>\n",
       "<style scoped>\n",
       "    .dataframe tbody tr th:only-of-type {\n",
       "        vertical-align: middle;\n",
       "    }\n",
       "\n",
       "    .dataframe tbody tr th {\n",
       "        vertical-align: top;\n",
       "    }\n",
       "\n",
       "    .dataframe thead th {\n",
       "        text-align: right;\n",
       "    }\n",
       "</style>\n",
       "<table border=\"1\" class=\"dataframe\">\n",
       "  <thead>\n",
       "    <tr style=\"text-align: right;\">\n",
       "      <th></th>\n",
       "      <th>Адрес</th>\n",
       "      <th>Время до метро</th>\n",
       "      <th>Жилая</th>\n",
       "      <th>Кухня</th>\n",
       "      <th>Метро</th>\n",
       "      <th>Общая</th>\n",
       "      <th>Цена</th>\n",
       "      <th>Цена за квадрат</th>\n",
       "      <th>Этаж</th>\n",
       "      <th>Этажность здания</th>\n",
       "      <th>Время</th>\n",
       "      <th>Способ передвижения</th>\n",
       "    </tr>\n",
       "  </thead>\n",
       "  <tbody>\n",
       "    <tr>\n",
       "      <th>2778</th>\n",
       "      <td>Московская область, Лыткарино, 7-й квартал, 5Б</td>\n",
       "      <td>⋅  20 мин. на транспорте</td>\n",
       "      <td>NaN</td>\n",
       "      <td>3.0</td>\n",
       "      <td>Котельники</td>\n",
       "      <td>18.00</td>\n",
       "      <td>2350000.0</td>\n",
       "      <td>130556.0</td>\n",
       "      <td>3</td>\n",
       "      <td>5</td>\n",
       "      <td>20.0</td>\n",
       "      <td>на транспорте</td>\n",
       "    </tr>\n",
       "    <tr>\n",
       "      <th>3184</th>\n",
       "      <td>Московская область, Дмитровский городской окру...</td>\n",
       "      <td>⋅  &lt;1 мин. на транспорте</td>\n",
       "      <td>15.2</td>\n",
       "      <td>6.8</td>\n",
       "      <td>Тимирязевская</td>\n",
       "      <td>30.10</td>\n",
       "      <td>2050000.0</td>\n",
       "      <td>68106.0</td>\n",
       "      <td>2</td>\n",
       "      <td>5</td>\n",
       "      <td>0.0</td>\n",
       "      <td>на транспорте</td>\n",
       "    </tr>\n",
       "    <tr>\n",
       "      <th>3620</th>\n",
       "      <td>Москва, ВАО, р-н Перово, 1-я Владимирская ул., 20</td>\n",
       "      <td>⋅  9 мин. пешком</td>\n",
       "      <td>NaN</td>\n",
       "      <td>NaN</td>\n",
       "      <td>Перово</td>\n",
       "      <td>20.00</td>\n",
       "      <td>2490000.0</td>\n",
       "      <td>124500.0</td>\n",
       "      <td>2</td>\n",
       "      <td>3</td>\n",
       "      <td>9.0</td>\n",
       "      <td>пешком</td>\n",
       "    </tr>\n",
       "    <tr>\n",
       "      <th>4128</th>\n",
       "      <td>Московская область, Ленинский городской округ,...</td>\n",
       "      <td>⋅  15 мин. на транспорте</td>\n",
       "      <td>15.0</td>\n",
       "      <td>6.0</td>\n",
       "      <td>Бульвар Дмитрия Донского</td>\n",
       "      <td>31.64</td>\n",
       "      <td>2300000.0</td>\n",
       "      <td>72693.0</td>\n",
       "      <td>2</td>\n",
       "      <td>4</td>\n",
       "      <td>15.0</td>\n",
       "      <td>на транспорте</td>\n",
       "    </tr>\n",
       "    <tr>\n",
       "      <th>4547</th>\n",
       "      <td>Московская область, Ленинский городской округ,...</td>\n",
       "      <td>⋅  16 мин. на транспорте</td>\n",
       "      <td>20.3</td>\n",
       "      <td>6.4</td>\n",
       "      <td>Красногвардейская</td>\n",
       "      <td>30.48</td>\n",
       "      <td>2302000.0</td>\n",
       "      <td>75525.0</td>\n",
       "      <td>4</td>\n",
       "      <td>4</td>\n",
       "      <td>16.0</td>\n",
       "      <td>на транспорте</td>\n",
       "    </tr>\n",
       "    <tr>\n",
       "      <th>4872</th>\n",
       "      <td>Московская область, Ивантеевка, Заводская ул.</td>\n",
       "      <td>⋅  26 мин. на транспорте</td>\n",
       "      <td>14.7</td>\n",
       "      <td>13.4</td>\n",
       "      <td>Медведково</td>\n",
       "      <td>39.00</td>\n",
       "      <td>2238800.0</td>\n",
       "      <td>57405.0</td>\n",
       "      <td>9</td>\n",
       "      <td>19</td>\n",
       "      <td>26.0</td>\n",
       "      <td>на транспорте</td>\n",
       "    </tr>\n",
       "    <tr>\n",
       "      <th>5198</th>\n",
       "      <td>Московская область, Богородский городской окру...</td>\n",
       "      <td>⋅  25 мин. на транспорте</td>\n",
       "      <td>12.0</td>\n",
       "      <td>7.0</td>\n",
       "      <td>Партизанская</td>\n",
       "      <td>26.10</td>\n",
       "      <td>2153250.0</td>\n",
       "      <td>82500.0</td>\n",
       "      <td>7</td>\n",
       "      <td>17</td>\n",
       "      <td>25.0</td>\n",
       "      <td>на транспорте</td>\n",
       "    </tr>\n",
       "    <tr>\n",
       "      <th>5350</th>\n",
       "      <td>Московская область, Пушкино, мкр. Новое Пушкин...</td>\n",
       "      <td>⋅  29 мин. на транспорте</td>\n",
       "      <td>11.4</td>\n",
       "      <td>6.0</td>\n",
       "      <td>Медведково</td>\n",
       "      <td>25.50</td>\n",
       "      <td>2455700.0</td>\n",
       "      <td>96302.0</td>\n",
       "      <td>5</td>\n",
       "      <td>17</td>\n",
       "      <td>29.0</td>\n",
       "      <td>на транспорте</td>\n",
       "    </tr>\n",
       "    <tr>\n",
       "      <th>5634</th>\n",
       "      <td>Московская область, Люберцы городской округ, К...</td>\n",
       "      <td>⋅  18 мин. на транспорте</td>\n",
       "      <td>NaN</td>\n",
       "      <td>NaN</td>\n",
       "      <td>Выхино</td>\n",
       "      <td>21.00</td>\n",
       "      <td>2430000.0</td>\n",
       "      <td>115714.0</td>\n",
       "      <td>2</td>\n",
       "      <td>17</td>\n",
       "      <td>18.0</td>\n",
       "      <td>на транспорте</td>\n",
       "    </tr>\n",
       "    <tr>\n",
       "      <th>5699</th>\n",
       "      <td>Московская область, Ивантеевка, Задорожная ул.</td>\n",
       "      <td>⋅  26 мин. на транспорте</td>\n",
       "      <td>15.0</td>\n",
       "      <td>11.0</td>\n",
       "      <td>Медведково</td>\n",
       "      <td>42.00</td>\n",
       "      <td>2436000.0</td>\n",
       "      <td>58000.0</td>\n",
       "      <td>5</td>\n",
       "      <td>17</td>\n",
       "      <td>26.0</td>\n",
       "      <td>на транспорте</td>\n",
       "    </tr>\n",
       "  </tbody>\n",
       "</table>\n",
       "</div>"
      ],
      "text/plain": [
       "                                                  Адрес  \\\n",
       "2778     Московская область, Лыткарино, 7-й квартал, 5Б   \n",
       "3184  Московская область, Дмитровский городской окру...   \n",
       "3620  Москва, ВАО, р-н Перово, 1-я Владимирская ул., 20   \n",
       "4128  Московская область, Ленинский городской округ,...   \n",
       "4547  Московская область, Ленинский городской округ,...   \n",
       "4872      Московская область, Ивантеевка, Заводская ул.   \n",
       "5198  Московская область, Богородский городской окру...   \n",
       "5350  Московская область, Пушкино, мкр. Новое Пушкин...   \n",
       "5634  Московская область, Люберцы городской округ, К...   \n",
       "5699     Московская область, Ивантеевка, Задорожная ул.   \n",
       "\n",
       "                 Время до метро  Жилая  Кухня                     Метро  \\\n",
       "2778   ⋅  20 мин. на транспорте    NaN    3.0                Котельники   \n",
       "3184   ⋅  <1 мин. на транспорте   15.2    6.8             Тимирязевская   \n",
       "3620           ⋅  9 мин. пешком    NaN    NaN                    Перово   \n",
       "4128   ⋅  15 мин. на транспорте   15.0    6.0  Бульвар Дмитрия Донского   \n",
       "4547   ⋅  16 мин. на транспорте   20.3    6.4         Красногвардейская   \n",
       "4872   ⋅  26 мин. на транспорте   14.7   13.4                Медведково   \n",
       "5198   ⋅  25 мин. на транспорте   12.0    7.0              Партизанская   \n",
       "5350   ⋅  29 мин. на транспорте   11.4    6.0                Медведково   \n",
       "5634   ⋅  18 мин. на транспорте    NaN    NaN                    Выхино   \n",
       "5699   ⋅  26 мин. на транспорте   15.0   11.0                Медведково   \n",
       "\n",
       "      Общая       Цена  Цена за квадрат  Этаж  Этажность здания  Время  \\\n",
       "2778  18.00  2350000.0         130556.0     3                 5   20.0   \n",
       "3184  30.10  2050000.0          68106.0     2                 5    0.0   \n",
       "3620  20.00  2490000.0         124500.0     2                 3    9.0   \n",
       "4128  31.64  2300000.0          72693.0     2                 4   15.0   \n",
       "4547  30.48  2302000.0          75525.0     4                 4   16.0   \n",
       "4872  39.00  2238800.0          57405.0     9                19   26.0   \n",
       "5198  26.10  2153250.0          82500.0     7                17   25.0   \n",
       "5350  25.50  2455700.0          96302.0     5                17   29.0   \n",
       "5634  21.00  2430000.0         115714.0     2                17   18.0   \n",
       "5699  42.00  2436000.0          58000.0     5                17   26.0   \n",
       "\n",
       "     Способ передвижения  \n",
       "2778       на транспорте  \n",
       "3184       на транспорте  \n",
       "3620              пешком  \n",
       "4128       на транспорте  \n",
       "4547       на транспорте  \n",
       "4872       на транспорте  \n",
       "5198       на транспорте  \n",
       "5350       на транспорте  \n",
       "5634       на транспорте  \n",
       "5699       на транспорте  "
      ]
     },
     "execution_count": 82,
     "metadata": {},
     "output_type": "execute_result"
    }
   ],
   "source": [
    "df[df['Цена'] < 2.5*10**6]"
   ]
  },
  {
   "cell_type": "code",
   "execution_count": 83,
   "metadata": {},
   "outputs": [],
   "source": [
    "df = df[df['Цена'] < 5*10**8]\n",
    "df = df[df['Цена'] > 2.5*10**6]"
   ]
  },
  {
   "cell_type": "code",
   "execution_count": 84,
   "metadata": {},
   "outputs": [],
   "source": [
    "from geopy.geocoders import Yandex"
   ]
  },
  {
   "cell_type": "code",
   "execution_count": 85,
   "metadata": {},
   "outputs": [],
   "source": [
    "geolocator = Yandex(api_key='9169aca7-b00e-4539-ab1d-e7bb613cfee2')"
   ]
  },
  {
   "cell_type": "code",
   "execution_count": 91,
   "metadata": {},
   "outputs": [],
   "source": [
    "from geopy.extra.rate_limiter import RateLimiter\n",
    "geocode = RateLimiter(geolocator.geocode, min_delay_seconds=0.5)"
   ]
  },
  {
   "cell_type": "code",
   "execution_count": 92,
   "metadata": {},
   "outputs": [
    {
     "data": {
      "text/plain": [
       "0     Москва, метро Медведково\n",
       "1       Москва, метро Киевская\n",
       "2        Москва, метро Трубная\n",
       "3    Москва, метро Парк Победы\n",
       "4     Москва, метро Спортивная\n",
       "Name: Город и метро, dtype: object"
      ]
     },
     "execution_count": 92,
     "metadata": {},
     "output_type": "execute_result"
    }
   ],
   "source": [
    "df['Город и метро'] = 'Москва, метро ' + df['Метро']\n",
    "df['Город и метро'].head()"
   ]
  },
  {
   "cell_type": "code",
   "execution_count": 95,
   "metadata": {},
   "outputs": [
    {
     "data": {
      "text/plain": [
       "Location(метро Баррикадная, Таганско-Краснопресненская линия, Москва, Россия, (55.760818, 37.58128, 0.0))"
      ]
     },
     "execution_count": 95,
     "metadata": {},
     "output_type": "execute_result"
    }
   ],
   "source": [
    "geocode('Москва, метро Баррикадная', timeout=10)"
   ]
  },
  {
   "cell_type": "code",
   "execution_count": 96,
   "metadata": {
    "scrolled": false
   },
   "outputs": [],
   "source": [
    "df['Город и метро'] = df['Город и метро'].apply(geocode, timeout=10)\n",
    "df['Координаты метро'] = df['Город и метро'].apply(lambda loc: tuple(loc.point) if loc else None)"
   ]
  },
  {
   "cell_type": "code",
   "execution_count": 97,
   "metadata": {
    "scrolled": true
   },
   "outputs": [],
   "source": [
    "df['Адрес'] = df['Адрес'].apply(geocode, timeout=10)"
   ]
  },
  {
   "cell_type": "code",
   "execution_count": 98,
   "metadata": {},
   "outputs": [],
   "source": [
    "df['Координаты дома'] = df['Адрес'].apply(lambda loc: tuple(loc.point) if loc else None)"
   ]
  },
  {
   "cell_type": "code",
   "execution_count": 100,
   "metadata": {},
   "outputs": [],
   "source": [
    "df['Широта дома'] = df['Координаты дома'].apply(lambda x: x[0])\n",
    "df['Долгота дома'] = df['Координаты дома'].apply(lambda x: x[1])"
   ]
  },
  {
   "cell_type": "code",
   "execution_count": 102,
   "metadata": {},
   "outputs": [],
   "source": [
    "df['Широта метро'] = df['Координаты метро'].apply(lambda x: x[0])\n",
    "df['Долгота долгота'] = df['Координаты метро'].apply(lambda x: x[1])"
   ]
  },
  {
   "cell_type": "code",
   "execution_count": 108,
   "metadata": {},
   "outputs": [],
   "source": [
    "df = df.drop(['Координаты метро', 'Координаты дома', 'Город и метро'], axis=1)"
   ]
  },
  {
   "cell_type": "code",
   "execution_count": 109,
   "metadata": {
    "scrolled": false
   },
   "outputs": [
    {
     "data": {
      "text/html": [
       "<div>\n",
       "<style scoped>\n",
       "    .dataframe tbody tr th:only-of-type {\n",
       "        vertical-align: middle;\n",
       "    }\n",
       "\n",
       "    .dataframe tbody tr th {\n",
       "        vertical-align: top;\n",
       "    }\n",
       "\n",
       "    .dataframe thead th {\n",
       "        text-align: right;\n",
       "    }\n",
       "</style>\n",
       "<table border=\"1\" class=\"dataframe\">\n",
       "  <thead>\n",
       "    <tr style=\"text-align: right;\">\n",
       "      <th></th>\n",
       "      <th>Адрес</th>\n",
       "      <th>Время до метро</th>\n",
       "      <th>Жилая</th>\n",
       "      <th>Кухня</th>\n",
       "      <th>Метро</th>\n",
       "      <th>Общая</th>\n",
       "      <th>Цена</th>\n",
       "      <th>Цена за квадрат</th>\n",
       "      <th>Этаж</th>\n",
       "      <th>Этажность здания</th>\n",
       "      <th>Время</th>\n",
       "      <th>Способ передвижения</th>\n",
       "      <th>Широта дома</th>\n",
       "      <th>Долгота дома</th>\n",
       "      <th>Широта метро</th>\n",
       "      <th>Долгота долгота</th>\n",
       "    </tr>\n",
       "  </thead>\n",
       "  <tbody>\n",
       "    <tr>\n",
       "      <th>0</th>\n",
       "      <td>(Юбилейная улица, 16, Мытищи, Московская облас...</td>\n",
       "      <td>⋅  15 мин. на транспорте</td>\n",
       "      <td>24.0</td>\n",
       "      <td>10.0</td>\n",
       "      <td>Медведково</td>\n",
       "      <td>48.0</td>\n",
       "      <td>6550000.0</td>\n",
       "      <td>136458.0</td>\n",
       "      <td>12</td>\n",
       "      <td>25</td>\n",
       "      <td>15.0</td>\n",
       "      <td>на транспорте</td>\n",
       "      <td>55.913162</td>\n",
       "      <td>37.713063</td>\n",
       "      <td>55.887473</td>\n",
       "      <td>37.661527</td>\n",
       "    </tr>\n",
       "    <tr>\n",
       "      <th>1</th>\n",
       "      <td>(Кутузовский проспект, 4/2, Москва, Россия, (5...</td>\n",
       "      <td>⋅  13 мин. пешком</td>\n",
       "      <td>45.0</td>\n",
       "      <td>NaN</td>\n",
       "      <td>Киевская</td>\n",
       "      <td>64.0</td>\n",
       "      <td>26000000.0</td>\n",
       "      <td>406250.0</td>\n",
       "      <td>4</td>\n",
       "      <td>7</td>\n",
       "      <td>13.0</td>\n",
       "      <td>пешком</td>\n",
       "      <td>55.750727</td>\n",
       "      <td>37.562272</td>\n",
       "      <td>55.743588</td>\n",
       "      <td>37.565587</td>\n",
       "    </tr>\n",
       "    <tr>\n",
       "      <th>2</th>\n",
       "      <td>(1-й Колобовский переулок, 13/14с3, Москва, Ро...</td>\n",
       "      <td>⋅  5 мин. пешком</td>\n",
       "      <td>23.4</td>\n",
       "      <td>8.9</td>\n",
       "      <td>Трубная</td>\n",
       "      <td>40.0</td>\n",
       "      <td>18000000.0</td>\n",
       "      <td>450000.0</td>\n",
       "      <td>2</td>\n",
       "      <td>3</td>\n",
       "      <td>5.0</td>\n",
       "      <td>пешком</td>\n",
       "      <td>55.769216</td>\n",
       "      <td>37.617411</td>\n",
       "      <td>55.767939</td>\n",
       "      <td>37.621884</td>\n",
       "    </tr>\n",
       "    <tr>\n",
       "      <th>3</th>\n",
       "      <td>(Мосфильмовская улица, 8, Москва, Россия, (55....</td>\n",
       "      <td>⋅  11 мин. на транспорте</td>\n",
       "      <td>63.0</td>\n",
       "      <td>20.0</td>\n",
       "      <td>Парк Победы</td>\n",
       "      <td>98.0</td>\n",
       "      <td>59900000.0</td>\n",
       "      <td>611224.0</td>\n",
       "      <td>33</td>\n",
       "      <td>54</td>\n",
       "      <td>11.0</td>\n",
       "      <td>на транспорте</td>\n",
       "      <td>55.723257</td>\n",
       "      <td>37.527660</td>\n",
       "      <td>55.736934</td>\n",
       "      <td>37.516009</td>\n",
       "    </tr>\n",
       "    <tr>\n",
       "      <th>4</th>\n",
       "      <td>(Комсомольский проспект, 42с2, Москва, Россия,...</td>\n",
       "      <td>⋅  10 мин. пешком</td>\n",
       "      <td>48.0</td>\n",
       "      <td>NaN</td>\n",
       "      <td>Спортивная</td>\n",
       "      <td>67.3</td>\n",
       "      <td>37900000.0</td>\n",
       "      <td>563150.0</td>\n",
       "      <td>4</td>\n",
       "      <td>5</td>\n",
       "      <td>10.0</td>\n",
       "      <td>пешком</td>\n",
       "      <td>55.721731</td>\n",
       "      <td>37.572899</td>\n",
       "      <td>55.723247</td>\n",
       "      <td>37.564105</td>\n",
       "    </tr>\n",
       "  </tbody>\n",
       "</table>\n",
       "</div>"
      ],
      "text/plain": [
       "                                               Адрес  \\\n",
       "0  (Юбилейная улица, 16, Мытищи, Московская облас...   \n",
       "1  (Кутузовский проспект, 4/2, Москва, Россия, (5...   \n",
       "2  (1-й Колобовский переулок, 13/14с3, Москва, Ро...   \n",
       "3  (Мосфильмовская улица, 8, Москва, Россия, (55....   \n",
       "4  (Комсомольский проспект, 42с2, Москва, Россия,...   \n",
       "\n",
       "              Время до метро  Жилая  Кухня        Метро  Общая        Цена  \\\n",
       "0   ⋅  15 мин. на транспорте   24.0   10.0   Медведково   48.0   6550000.0   \n",
       "1          ⋅  13 мин. пешком   45.0    NaN     Киевская   64.0  26000000.0   \n",
       "2           ⋅  5 мин. пешком   23.4    8.9      Трубная   40.0  18000000.0   \n",
       "3   ⋅  11 мин. на транспорте   63.0   20.0  Парк Победы   98.0  59900000.0   \n",
       "4          ⋅  10 мин. пешком   48.0    NaN   Спортивная   67.3  37900000.0   \n",
       "\n",
       "   Цена за квадрат  Этаж  Этажность здания  Время Способ передвижения  \\\n",
       "0         136458.0    12                25   15.0       на транспорте   \n",
       "1         406250.0     4                 7   13.0              пешком   \n",
       "2         450000.0     2                 3    5.0              пешком   \n",
       "3         611224.0    33                54   11.0       на транспорте   \n",
       "4         563150.0     4                 5   10.0              пешком   \n",
       "\n",
       "   Широта дома  Долгота дома  Широта метро  Долгота долгота  \n",
       "0    55.913162     37.713063     55.887473        37.661527  \n",
       "1    55.750727     37.562272     55.743588        37.565587  \n",
       "2    55.769216     37.617411     55.767939        37.621884  \n",
       "3    55.723257     37.527660     55.736934        37.516009  \n",
       "4    55.721731     37.572899     55.723247        37.564105  "
      ]
     },
     "execution_count": 109,
     "metadata": {},
     "output_type": "execute_result"
    }
   ],
   "source": [
    "df.head()"
   ]
  },
  {
   "cell_type": "code",
   "execution_count": 112,
   "metadata": {},
   "outputs": [],
   "source": [
    "df.to_csv('clean_data.csv', index=False)"
   ]
  }
 ],
 "metadata": {
  "kernelspec": {
   "display_name": "Python 3",
   "language": "python",
   "name": "python3"
  },
  "language_info": {
   "codemirror_mode": {
    "name": "ipython",
    "version": 3
   },
   "file_extension": ".py",
   "mimetype": "text/x-python",
   "name": "python",
   "nbconvert_exporter": "python",
   "pygments_lexer": "ipython3",
   "version": "3.7.3"
  }
 },
 "nbformat": 4,
 "nbformat_minor": 2
}
