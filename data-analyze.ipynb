{
 "cells": [
  {
   "cell_type": "code",
   "execution_count": 142,
   "metadata": {},
   "outputs": [],
   "source": [
    "import pandas as pd\n",
    "from bs4 import BeautifulSoup\n",
    "import os\n",
    "import csv\n",
    "import numpy as np\n",
    "import re"
   ]
  },
  {
   "cell_type": "markdown",
   "metadata": {},
   "source": [
    "#### Достанем список всех страниц из папки"
   ]
  },
  {
   "cell_type": "code",
   "execution_count": 143,
   "metadata": {},
   "outputs": [],
   "source": [
    "pages = os.listdir(os.getcwd() + '/pages')"
   ]
  },
  {
   "cell_type": "markdown",
   "metadata": {},
   "source": [
    "#### Напишем функцию записи файла в csv"
   ]
  },
  {
   "cell_type": "code",
   "execution_count": 144,
   "metadata": {},
   "outputs": [],
   "source": [
    "def write_csv(data):\n",
    "    with open('cian.csv', 'a', encoding='utf-8', newline='') as f: # открывает файл и дописывает в него данные в кодировке UTF-8\n",
    "        writer = csv.writer(f) \n",
    "        writer.writerow((data['title'], data['address'], data['price'], data['price_per_square'])) "
   ]
  },
  {
   "cell_type": "markdown",
   "metadata": {},
   "source": [
    "#### Напишем функцию записи нужных данных в словарь"
   ]
  },
  {
   "cell_type": "code",
   "execution_count": 310,
   "metadata": {},
   "outputs": [],
   "source": [
    "def get_page_data(file):\n",
    "    data = dict()\n",
    "    with open(os.getcwd() + '/pages/' + file, 'r', encoding='utf-8') as f: \n",
    "        soup = BeautifulSoup(f, 'lxml')\n",
    "\n",
    "        try:\n",
    "            data['title'] = soup.find('h1', class_=re.compile('\\.*--title--\\.*')).text\n",
    "            print(data['title'])\n",
    "        except:\n",
    "            data['title'] = np.nan\n",
    "        try:\n",
    "            data['address'] = soup.find('address', class_=re.compile('\\.*--address--\\.*')).text.replace('На карте', '')\n",
    "            print(data['address'])\n",
    "        except:\n",
    "            data['address'] = np.nan\n",
    "        try:\n",
    "            data['price'] = soup.find('span', class_=re.compile('\\.*--price_value--\\.*')).text[:-1].replace('\\xa0', '')\n",
    "            print(data['price'])\n",
    "        except:\n",
    "            data['price'] = np.nan\n",
    "        try:\n",
    "            data['price_per_square'] = soup.find('div', class_=re.compile('\\.*--price_per_meter--\\.*')).text[:-5].replace('\\xa0', '')\n",
    "            print(data['price_per_square'])\n",
    "        except:\n",
    "            data['price_per_square'] = np.nan\n",
    "        try:    \n",
    "            data['total_square'] = soup.find_all('div', class_=re.compile('\\.*--info-value--\\.*'))[0].text.split('\\xa0')[0]\n",
    "            print(data['total_square'])\n",
    "        except:\n",
    "            data['total_square'] = np.nan\n",
    "        try:    \n",
    "            data['live_square'] = soup.find_all('div', class_=re.compile('\\.*--info-value--\\.*'))[1].text.split('\\xa0')[0]\n",
    "            print(data['live_square'])\n",
    "        except:\n",
    "            data['live_square'] = np.nan\n",
    "        try:    \n",
    "            data['kitchen'] = soup.find_all('div', class_=re.compile('\\.*--info-value--\\.*'))[2].text.split('\\xa0')[0]\n",
    "            print(data['kitchen'])\n",
    "        except:\n",
    "            data['kitchen'] = np.nan\n",
    "        try:    \n",
    "            data['floor'] = soup.find_all('div', class_=re.compile('\\.*--info-value--\\.*'))[3].text.split(' ')[0]\n",
    "            print(data['floor'])\n",
    "        except:\n",
    "            data['floor'] = np.nan\n",
    "        try:    \n",
    "            data['total_floor'] = soup.find_all('div', class_=re.compile('\\.*--info-value--\\.*'))[3].text.split(' ')[2]\n",
    "            print(data['total_floor'])\n",
    "        except:\n",
    "            data['total_floor'] = np.nan\n",
    "        write_csv(data)"
   ]
  },
  {
   "cell_type": "code",
   "execution_count": 312,
   "metadata": {},
   "outputs": [
    {
     "name": "stdout",
     "output_type": "stream",
     "text": [
      "2-комн. апартаменты, 87 м²\n",
      "Москва, ЦАО, р-н Тверской, Никольская ул., 10\n",
      "94000000\n",
      "1 080 460\n",
      "87\n",
      "2 из 5\n",
      "2015\n"
     ]
    }
   ],
   "source": [
    "get_page_data(pages[15])"
   ]
  },
  {
   "cell_type": "code",
   "execution_count": null,
   "metadata": {},
   "outputs": [],
   "source": []
  }
 ],
 "metadata": {
  "kernelspec": {
   "display_name": "Python 3",
   "language": "python",
   "name": "python3"
  },
  "language_info": {
   "codemirror_mode": {
    "name": "ipython",
    "version": 3
   },
   "file_extension": ".py",
   "mimetype": "text/x-python",
   "name": "python",
   "nbconvert_exporter": "python",
   "pygments_lexer": "ipython3",
   "version": "3.7.3"
  }
 },
 "nbformat": 4,
 "nbformat_minor": 2
}
