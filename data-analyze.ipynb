{
 "cells": [
  {
   "cell_type": "code",
   "execution_count": 142,
   "metadata": {},
   "outputs": [],
   "source": [
    "import pandas as pd\n",
    "from bs4 import BeautifulSoup\n",
    "import os\n",
    "import csv\n",
    "import numpy as np\n",
    "import re"
   ]
  },
  {
   "cell_type": "markdown",
   "metadata": {},
   "source": [
    "#### Достанем список всех страниц из папки"
   ]
  },
  {
   "cell_type": "code",
   "execution_count": 143,
   "metadata": {},
   "outputs": [],
   "source": [
    "pages = os.listdir(os.getcwd() + '/pages')"
   ]
  },
  {
   "cell_type": "markdown",
   "metadata": {},
   "source": [
    "#### Напишем функцию записи файла в csv"
   ]
  },
  {
   "cell_type": "code",
   "execution_count": 144,
   "metadata": {},
   "outputs": [],
   "source": [
    "def write_csv(data):\n",
    "    with open('cian.csv', 'a', encoding='utf-8', newline='') as f: # открывает файл и дописывает в него данные в кодировке UTF-8\n",
    "        writer = csv.writer(f) \n",
    "        writer.writerow((data['title'], data['address'], data['price'], data['price_per_square'])) "
   ]
  },
  {
   "cell_type": "markdown",
   "metadata": {},
   "source": [
    "#### Напишем функцию записи нужных данных в словарь"
   ]
  },
  {
   "cell_type": "code",
   "execution_count": 215,
   "metadata": {},
   "outputs": [],
   "source": [
    "def get_page_data(file):\n",
    "    data = dict()\n",
    "    with open(os.getcwd() + '/pages/' + file, 'r', encoding='utf-8') as f: \n",
    "        soup = BeautifulSoup(f, 'lxml')\n",
    "        try:\n",
    "            data['title'] = soup.find('h1', class_='a10a3f92e9--title--2Widg').text\n",
    "            print(data['title'])\n",
    "        except:\n",
    "            data['title'] = np.nan\n",
    "        try:\n",
    "            data['address'] = soup.find('address', class_='a10a3f92e9--address--140Ec').text.replace('На карте', '')\n",
    "            print(data['address'])\n",
    "        except:\n",
    "            data['address'] = np.nan\n",
    "        try:\n",
    "            data['price'] = soup.find('span', class_='a10a3f92e9--price_value--1iPpd').text[:-1]\n",
    "            print(data['price'])\n",
    "        except:\n",
    "            data['price'] = np.nan\n",
    "        try:\n",
    "            data['price_per_square'] = soup.find('div', class_='a10a3f92e9--price_per_meter--hKPtN a10a3f92e9--price_per_meter--residential--1mFDW').text[:-5]\n",
    "            print(data['price_per_square'])\n",
    "        except:\n",
    "            data['price_per_square'] = np.nan\n",
    "        write_csv(data)"
   ]
  },
  {
   "cell_type": "code",
   "execution_count": 216,
   "metadata": {},
   "outputs": [
    {
     "name": "stdout",
     "output_type": "stream",
     "text": [
      "2-комн. квартира, 98 м²\n",
      "Москва, ЗАО, р-н Раменки, Мосфильмовская ул., 8\n",
      "59 900 000 \n",
      "611 224\n"
     ]
    }
   ],
   "source": [
    "get_page_data(pages[3])"
   ]
  }
 ],
 "metadata": {
  "kernelspec": {
   "display_name": "Python 3",
   "language": "python",
   "name": "python3"
  },
  "language_info": {
   "codemirror_mode": {
    "name": "ipython",
    "version": 3
   },
   "file_extension": ".py",
   "mimetype": "text/x-python",
   "name": "python",
   "nbconvert_exporter": "python",
   "pygments_lexer": "ipython3",
   "version": "3.7.3"
  }
 },
 "nbformat": 4,
 "nbformat_minor": 2
}
